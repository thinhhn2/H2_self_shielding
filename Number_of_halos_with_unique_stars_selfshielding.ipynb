{
 "cells": [
  {
   "cell_type": "code",
   "execution_count": 71,
   "id": "ae30d07e-d9cb-4155-b8a8-d21c5b5a4714",
   "metadata": {
    "tags": []
   },
   "outputs": [],
   "source": [
    "import numpy as np\n",
    "import matplotlib.pyplot as plt\n",
    "import yt\n",
    "from astropy.constants import G\n",
    "import astropy.units as u\n",
    "import seaborn as sns\n",
    "from tqdm import tqdm\n",
    "import os"
   ]
  },
  {
   "cell_type": "code",
   "execution_count": 2,
   "id": "17b607a9-068b-4ebd-aa56-0049efb1a0e0",
   "metadata": {
    "tags": []
   },
   "outputs": [],
   "source": [
    "def search_closest_upper(value, array):\n",
    "    diff = array - value\n",
    "    return np.where(diff >= 0)[0][0]"
   ]
  },
  {
   "cell_type": "code",
   "execution_count": 3,
   "id": "a1bc97fe-afe2-4bbc-a8c7-18e2ddc02b38",
   "metadata": {
    "tags": []
   },
   "outputs": [],
   "source": [
    "ray_tree = np.load('/scratch/bbvl/gtg115x/new_zoom_5/box_2_z_1/halotree_1088_final_Thinh_structure.npy', allow_pickle=True).tolist()\n",
    "apx_tree = np.load('/scratch/bbvl/gtg115x/new_zoom_5/box_2_z_1_no-shield/box_2_z_1_no-shield_run2/halotree_1088_final_Thinh_structure.npy', allow_pickle=True).tolist()"
   ]
  },
  {
   "cell_type": "code",
   "execution_count": 4,
   "id": "4cb1e7c9-b054-4ddb-a18f-9e5d02423696",
   "metadata": {
    "tags": []
   },
   "outputs": [],
   "source": [
    "ray_pfs = np.loadtxt('/scratch/bbvl/gtg115x/new_zoom_5/box_2_z_1/pfs_allsnaps_1088.txt', dtype=str).tolist()\n",
    "apx_pfs = np.loadtxt('/scratch/bbvl/gtg115x/new_zoom_5/box_2_z_1_no-shield/box_2_z_1_no-shield_run2/pfs_allsnaps_1088.txt', dtype=str).tolist()"
   ]
  },
  {
   "cell_type": "code",
   "execution_count": 5,
   "id": "f3d9c42f-b294-4678-853b-58dd88941785",
   "metadata": {
    "tags": []
   },
   "outputs": [],
   "source": [
    "ray_rawtree = np.load('/scratch/bbvl/gtg115x/new_zoom_5/box_2_z_1/halotree_1088_final.npy', allow_pickle=True).tolist()\n",
    "#apx_rawtree = np.load('/scratch/bbvl/gtg115x/new_zoom_5/box_2_z_1_no-shield/box_2_z_1_no-shield_run2/halotree_1088_final.npy', allow_pickle=True).tolist()"
   ]
  },
  {
   "cell_type": "code",
   "execution_count": 4,
   "id": "0f03c8a6-12b3-4ba7-a45b-6c856f0996b4",
   "metadata": {
    "tags": []
   },
   "outputs": [],
   "source": [
    "time_list = np.array([ray_tree['0'][key]['time'] for key in ray_tree['0'].keys()])\n",
    "idx_list = np.array([int(key) for key in ray_tree['0'].keys()])"
   ]
  },
  {
   "cell_type": "code",
   "execution_count": 5,
   "id": "114b4d8f-aeed-48e3-94d7-9ebc66dacaf1",
   "metadata": {
    "tags": []
   },
   "outputs": [],
   "source": [
    "ray_halo_wstars = {}\n",
    "apx_halo_wstars = {}"
   ]
  },
  {
   "cell_type": "code",
   "execution_count": 7,
   "id": "49db15ad-2fad-4671-a9e7-5d853ef102c8",
   "metadata": {
    "tags": []
   },
   "outputs": [],
   "source": [
    "idx = '170'\n",
    "\n",
    "ray_halo_wstars_pos = np.empty(shape=(0,3))\n",
    "ray_halo_wstars_rvir = np.array([])\n",
    "ray_halo_wstars_branch = np.array([])\n",
    "#ray_halo_wstars_dmmass = np.empty(shape=(0,1))\n",
    "\n",
    "for key, vals in ray_tree.items():\n",
    "    if idx in vals.keys() and vals[idx]['star_mass'] > 1:\n",
    "        ray_halo_wstars[key] = vals[idx]\n",
    "        ray_halo_wstars_pos = np.vstack((ray_halo_wstars_pos, vals[idx]['coor']))\n",
    "        ray_halo_wstars_rvir = np.append(ray_halo_wstars_rvir, vals[idx]['Rvir'])\n",
    "        ray_halo_wstars_branch = np.append(ray_halo_wstars_branch, key)\n",
    "        \n",
    "for key, vals in apx_tree.items():\n",
    "    if idx in vals.keys() and vals[idx]['star_mass'] > 1:\n",
    "        apx_halo_wstars[key] = vals[idx]"
   ]
  },
  {
   "cell_type": "code",
   "execution_count": 8,
   "id": "0a7c812a-60c5-45ea-8143-a35243cb9577",
   "metadata": {
    "tags": []
   },
   "outputs": [],
   "source": [
    "#Locate the overlapping halos. \n",
    "#For these halos, the stellar mass from the Thinh_structure file can be double counted. Therefore, we need to uniquely assign stars to each halo rather than loading the whole yt region.\n",
    "overlap_pair = []\n",
    "for i in range(len(ray_halo_wstars_branch)):\n",
    "    for j in range(len(ray_halo_wstars_branch)):\n",
    "        if (i == j) or sorted([ray_halo_wstars_branch[i],ray_halo_wstars_branch[j]]) in overlap_pair:\n",
    "            continue\n",
    "        else:\n",
    "            if np.linalg.norm(ray_halo_wstars_pos[i] - ray_halo_wstars_pos[j]) < (ray_halo_wstars_rvir[i] + ray_halo_wstars_rvir[j]): #overlapping condition\n",
    "                overlap_pair.append(sorted([ray_halo_wstars_branch[i],ray_halo_wstars_branch[j]]))\n",
    "\n",
    "overlap_group = []\n",
    "for pair in overlap_pair:\n",
    "    if pair == overlap_pair[0]:\n",
    "        group = pair\n",
    "    else:\n",
    "        if (pair[0] in group) or (pair[1] in group):\n",
    "            group = list(set(group + pair))\n",
    "        else:\n",
    "            overlap_group.append(group)\n",
    "            group = pair"
   ]
  },
  {
   "cell_type": "code",
   "execution_count": 9,
   "id": "357d2d55-656d-4207-9f75-e02bd9412ab7",
   "metadata": {
    "tags": []
   },
   "outputs": [
    {
     "data": {
      "text/plain": [
       "[['0_20', '0_21', '0', '0_16', '0_18', '0_19', '0_4', '0_2'],\n",
       " ['1', '1_14', '1_10'],\n",
       " ['3_1', '3', '3_7'],\n",
       " ['5', '5_1']]"
      ]
     },
     "execution_count": 9,
     "metadata": {},
     "output_type": "execute_result"
    }
   ],
   "source": [
    "#These are the groups of halos that need to be disentangled in terms of stellar mass\n",
    "overlap_group"
   ]
  },
  {
   "cell_type": "code",
   "execution_count": 76,
   "id": "40bd4db0-7aee-492f-9e1b-7c6d21903109",
   "metadata": {
    "tags": []
   },
   "outputs": [],
   "source": [
    "ray_metadata = np.load('/work/hdd/bbvl/gtg115x/new_zoom_5/box_2_z_1/star_metadata/star_metadata_allbox_%s.npy' % idx, allow_pickle=True).tolist()\n",
    "ray_pos_all = ray_metadata['pos']\n",
    "ray_age_all = ray_metadata['age']\n",
    "ray_ID_all = np.array(np.load('/work/hdd/bbvl/gtg115x/new_zoom_5/box_2_z_1/star_metadata/star_ID_allbox_%s.npy' % idx, allow_pickle=True).tolist())\n",
    "ray_vel_all = np.array(np.load('/work/hdd/bbvl/gtg115x/new_zoom_5/box_2_z_1/star_metadata/star_vel_allbox_%s.npy' % idx, allow_pickle=True).tolist()['vel'])"
   ]
  },
  {
   "cell_type": "code",
   "execution_count": 79,
   "id": "651cabd0-acbf-4667-8998-70d02ece0d8f",
   "metadata": {
    "tags": []
   },
   "outputs": [
    {
     "name": "stderr",
     "output_type": "stream",
     "text": [
      "yt : [INFO     ] 2024-12-10 10:23:52,751 Parameters: current_time              = 19.025726364245\n",
      "yt : [INFO     ] 2024-12-10 10:23:52,752 Parameters: domain_dimensions         = [256 256 256]\n",
      "yt : [INFO     ] 2024-12-10 10:23:52,754 Parameters: domain_left_edge          = [0. 0. 0.]\n",
      "yt : [INFO     ] 2024-12-10 10:23:52,762 Parameters: domain_right_edge         = [1. 1. 1.]\n",
      "yt : [INFO     ] 2024-12-10 10:23:52,765 Parameters: cosmological_simulation   = 1\n",
      "yt : [INFO     ] 2024-12-10 10:23:52,768 Parameters: current_redshift          = 11.378797765779\n",
      "yt : [INFO     ] 2024-12-10 10:23:52,770 Parameters: omega_lambda              = 0.6935\n",
      "yt : [INFO     ] 2024-12-10 10:23:52,773 Parameters: omega_matter              = 0.3065\n",
      "yt : [INFO     ] 2024-12-10 10:23:52,774 Parameters: omega_radiation           = 0.0\n",
      "yt : [INFO     ] 2024-12-10 10:23:52,774 Parameters: hubble_constant           = 0.679\n"
     ]
    }
   ],
   "source": [
    "group_test = np.array(overlap_group[0])\n",
    "group_velcom = np.array([ray_rawtree[group_i][int(idx)]['Vel_Com'] for group_i in group_test])\n",
    "#convert the unit of halo velocity from code_length/s to km/s\n",
    "ds = yt.load(ray_pfs[int(idx)])\n",
    "group_velcom = (group_velcom*ds.units.code_length/ds.units.s).to('km/s').v\n",
    "group_starID = {}\n",
    "allstars = []\n",
    "for halo in group_test:\n",
    "    halo_center = ray_tree[halo][idx]['coor']\n",
    "    halo_radius = ray_tree[halo][idx]['Rvir']\n",
    "    boolean = np.linalg.norm(ray_pos_all - halo_center, axis=1) < halo_radius\n",
    "    group_starID[halo] = ray_ID_all[boolean].astype(int)\n",
    "    allstars = list(set(allstars + list(ray_ID_all[boolean].astype(int))))\n",
    "allstars = np.array(group_allstars)"
   ]
  },
  {
   "cell_type": "code",
   "execution_count": 32,
   "id": "58070d0c-f1c1-46f9-883e-1acbc6033fd0",
   "metadata": {
    "tags": []
   },
   "outputs": [
    {
     "data": {
      "text/plain": [
       "{'0_20': array([65363538, 65364102, 65364638, 65364670, 65364748]),\n",
       " '0_21': array([65731297, 65734353, 65734354, 65734355, 65734356, 65734357,\n",
       "        65734358, 65734359, 65734360, 65734362, 65734363, 65734364,\n",
       "        65734366]),\n",
       " '0': array([65363541, 65363542, 65364086, ..., 65665931, 65665937, 65724384]),\n",
       " '0_16': array([65363537, 65363546, 65363851, ..., 65665931, 65665937, 65724384]),\n",
       " '0_18': array([65363541, 65363542, 65364086, 65364088, 65364194, 65364698,\n",
       "        65364664, 65364679, 65364681, 65614185, 65614414, 65617205,\n",
       "        65659343, 65363652, 65363539, 65363540, 65363665, 65363673,\n",
       "        65363674, 65363767, 65363773]),\n",
       " '0_19': array([65363541, 65363542, 65364086, 65364113, 65364693, 65364695,\n",
       "        65364700, 65363652, 65363826, 65363539, 65363540, 65363665,\n",
       "        65363673, 65363683, 65363767, 65363773, 65363831, 65364106]),\n",
       " '0_4': array([65364088, 65364194, 65364127, 65364129]),\n",
       " '0_2': array([65731297, 65734353, 65734354, 65734355, 65734356, 65734357,\n",
       "        65734358, 65734359, 65734360, 65734362, 65734363, 65734364,\n",
       "        65734366])}"
      ]
     },
     "execution_count": 32,
     "metadata": {},
     "output_type": "execute_result"
    }
   ],
   "source": [
    "group_starID"
   ]
  },
  {
   "cell_type": "code",
   "execution_count": 33,
   "id": "50ef372d-9351-4052-99f1-33e06dc0158e",
   "metadata": {
    "tags": []
   },
   "outputs": [
    {
     "data": {
      "text/plain": [
       "array([65732608, 65658881, 65658882, ..., 65363965, 65724414, 65732607])"
      ]
     },
     "execution_count": 33,
     "metadata": {},
     "output_type": "execute_result"
    }
   ],
   "source": [
    "allstars"
   ]
  },
  {
   "cell_type": "code",
   "execution_count": 46,
   "id": "466e06a5-d14d-43ce-b5e1-c868a0aae9b0",
   "metadata": {
    "tags": []
   },
   "outputs": [],
   "source": [
    "count_list = {}\n",
    "for ID in allstars:\n",
    "    count = 0\n",
    "    branch_overlap = []\n",
    "    for branch in group_starID.keys():\n",
    "        if ID in group_starID[branch]:\n",
    "            count += 1\n",
    "            branch_overlap.append(branch)\n",
    "    if count > 1:\n",
    "        count_list[ID] = [count, branch_overlap]"
   ]
  },
  {
   "cell_type": "code",
   "execution_count": 85,
   "id": "38d7c11f-7b76-4387-9cb0-a4067925cbb5",
   "metadata": {
    "tags": []
   },
   "outputs": [
    {
     "data": {
      "text/plain": [
       "array([[-65.81759841,  12.10400267, 120.21314368]])"
      ]
     },
     "execution_count": 85,
     "metadata": {},
     "output_type": "execute_result"
    }
   ],
   "source": [
    "ray_vel_all[ray_ID_all == 65732608]"
   ]
  },
  {
   "cell_type": "code",
   "execution_count": 90,
   "id": "1af6e383-babc-4265-b964-6471d8aca7e6",
   "metadata": {
    "tags": []
   },
   "outputs": [
    {
     "data": {
      "text/plain": [
       "{'NumParts': 10324,\n",
       " 'Halo_Mass': 7628372984.201647,\n",
       " 'Halo_Radius': 0.003219896406693052,\n",
       " 'cden': 202.11934833096655,\n",
       " 'r100': 0.0038463181360783145,\n",
       " 'r150': 0.0036909953190874156,\n",
       " 'r200': 0.003237456954225626,\n",
       " 'r250': 0.0028894798550874417,\n",
       " 'r300': 0.0026477752928777674,\n",
       " 'r500': 0.0020518783497319,\n",
       " 'r700': 0.001687430599046631,\n",
       " 'Halo_Center': array([0.49444511, 0.50351903, 0.51216658]),\n",
       " 'Vel_Com': array([-7.90055792e-19, -4.80827245e-20,  1.03378648e-19])}"
      ]
     },
     "execution_count": 90,
     "metadata": {},
     "output_type": "execute_result"
    }
   ],
   "source": [
    "ray_rawtree['0'][171]"
   ]
  },
  {
   "cell_type": "code",
   "execution_count": 86,
   "id": "a63df16d-8ee6-4619-9535-011d773e55cc",
   "metadata": {
    "tags": []
   },
   "outputs": [
    {
     "data": {
      "text/plain": [
       "[2, ['0', '0_16']]"
      ]
     },
     "execution_count": 86,
     "metadata": {},
     "output_type": "execute_result"
    }
   ],
   "source": [
    "count_list[65732608]"
   ]
  },
  {
   "cell_type": "code",
   "execution_count": 88,
   "id": "d9fc77cc-45dc-44fc-92bd-74444efcf0cf",
   "metadata": {
    "tags": []
   },
   "outputs": [
    {
     "data": {
      "text/plain": [
       "array([[-35.6028203 ,  -4.23333669,  10.90924301]])"
      ]
     },
     "execution_count": 88,
     "metadata": {},
     "output_type": "execute_result"
    }
   ],
   "source": [
    "group_velcom[group_test == '0']"
   ]
  },
  {
   "cell_type": "code",
   "execution_count": 89,
   "id": "aa956998-4356-4980-984c-bbbab848efb0",
   "metadata": {
    "tags": []
   },
   "outputs": [
    {
     "data": {
      "text/plain": [
       "array([[  8.91740217, -44.69326534,  60.8857723 ]])"
      ]
     },
     "execution_count": 89,
     "metadata": {},
     "output_type": "execute_result"
    }
   ],
   "source": [
    "group_velcom[group_test == '0_16']"
   ]
  },
  {
   "cell_type": "code",
   "execution_count": 65,
   "id": "2bc25a91-f139-43bc-8509-673645f705b3",
   "metadata": {
    "tags": []
   },
   "outputs": [
    {
     "data": {
      "text/plain": [
       "['0_20', '0_21', '0_4', '0_16', '0', '0_18', '0_19', '0_2']"
      ]
     },
     "execution_count": 65,
     "metadata": {},
     "output_type": "execute_result"
    }
   ],
   "source": [
    "group_test"
   ]
  },
  {
   "cell_type": "code",
   "execution_count": 14,
   "id": "87f099af-0fdb-4b35-ad28-72c7190b6640",
   "metadata": {
    "tags": []
   },
   "outputs": [
    {
     "data": {
      "text/plain": [
       "(30056, 3)"
      ]
     },
     "execution_count": 14,
     "metadata": {},
     "output_type": "execute_result"
    }
   ],
   "source": [
    "ray_pos_all.shape"
   ]
  },
  {
   "cell_type": "code",
   "execution_count": 17,
   "id": "d5973a1d-5193-4bff-a91b-3f15fdd8df49",
   "metadata": {
    "tags": []
   },
   "outputs": [
    {
     "data": {
      "text/plain": [
       "array([[0.49420246, 0.50316925, 0.51266823],\n",
       "       [0.49296721, 0.50155015, 0.51324955],\n",
       "       [0.47673882, 0.50389487, 0.5022506 ],\n",
       "       [0.48908694, 0.50969391, 0.50063493],\n",
       "       [0.50191681, 0.51200992, 0.53478709],\n",
       "       [0.50191068, 0.51098171, 0.53401179],\n",
       "       [0.50015472, 0.49932791, 0.512181  ],\n",
       "       [0.48527808, 0.4967556 , 0.51121502],\n",
       "       [0.50025661, 0.50790924, 0.53018027],\n",
       "       [0.49264434, 0.51777617, 0.49249299],\n",
       "       [0.48658425, 0.52111066, 0.52580045],\n",
       "       [0.5022803 , 0.51522828, 0.53829083],\n",
       "       [0.50312778, 0.51599952, 0.53952004]])"
      ]
     },
     "execution_count": 17,
     "metadata": {},
     "output_type": "execute_result"
    }
   ],
   "source": [
    "ray_halo_wstars_pos"
   ]
  },
  {
   "cell_type": "code",
   "execution_count": 21,
   "id": "91901cfb-8fbe-4119-b6d9-53fcf28f555e",
   "metadata": {
    "tags": []
   },
   "outputs": [
    {
     "data": {
      "text/plain": [
       "dict_keys(['0', '0_2', '1', '3', '4', '4_0', '5', '6', '8', '9', '18', '20', '69'])"
      ]
     },
     "execution_count": 21,
     "metadata": {},
     "output_type": "execute_result"
    }
   ],
   "source": [
    "ray_halo_wstars.keys()"
   ]
  },
  {
   "cell_type": "code",
   "execution_count": 22,
   "id": "924f2d88-790b-45c9-b497-841b7f929768",
   "metadata": {
    "tags": []
   },
   "outputs": [
    {
     "data": {
      "text/plain": [
       "{'tree_loc': '0_2',\n",
       " 'coor': array([0.49296721, 0.50155015, 0.51324955]),\n",
       " 'Rvir': 0.0014047493591527603,\n",
       " 'redshift': 10.886019680253,\n",
       " 'time': 0.42308436376385633,\n",
       " 'gas_mass': 170519124.77518892,\n",
       " 'gas_mass_frac': 0.12780071866170767,\n",
       " 'h2_mass': 5220394.575481022,\n",
       " 'h2_fraction': 0.030614715987802243,\n",
       " 'dm_mass': 1162249229.1687708,\n",
       " 'pop2_mass': 1489589.9787338013,\n",
       " 'pop3_mass': 5.17818883535532,\n",
       " 'star_mass': 1489595.1569226366,\n",
       " 'metal_mass': 14570.536272090665,\n",
       " 'metallicity': 8.544810613648377e-05,\n",
       " 'sfr': 0.0,\n",
       " 'total_mass': 1334257949.1008823}"
      ]
     },
     "execution_count": 22,
     "metadata": {},
     "output_type": "execute_result"
    }
   ],
   "source": [
    "ray_halo_wstars['0_2']"
   ]
  },
  {
   "cell_type": "markdown",
   "id": "84f310cb-bb4f-454d-bcda-632d8dc87346",
   "metadata": {
    "tags": []
   },
   "source": [
    "We need to assign each star to a unique halo. This can be done by tracking back the star's position when it first forms to see if it forms inside the same halo"
   ]
  },
  {
   "cell_type": "code",
   "execution_count": 8,
   "id": "3433cd2d-9b31-4465-add7-3a72fd6ac840",
   "metadata": {
    "tags": []
   },
   "outputs": [],
   "source": [
    "ray_halo_idx = '0'\n",
    "ray_halo_center = ray_tree[ray_halo_idx][idx]['coor']\n",
    "ray_halo_rvir = ray_tree[ray_halo_idx][idx]['Rvir']"
   ]
  },
  {
   "cell_type": "code",
   "execution_count": 9,
   "id": "b61bdd26-f091-4bcb-888e-20d1832c1ac5",
   "metadata": {
    "tags": []
   },
   "outputs": [],
   "source": [
    "ray_metadata = np.load('/work/hdd/bbvl/gtg115x/new_zoom_5/box_2_z_1/star_metadata/star_metadata_allbox_%s.npy' % idx, allow_pickle=True).tolist()\n",
    "ray_pos_all = ray_metadata['pos']\n",
    "ray_age_all = ray_metadata['age']\n",
    "ray_ID_all = np.array(np.load('/work/hdd/bbvl/gtg115x/new_zoom_5/box_2_z_1/star_metadata/star_ID_allbox_%s.npy' % idx, allow_pickle=True).tolist())"
   ]
  },
  {
   "cell_type": "code",
   "execution_count": 10,
   "id": "34f27008-6650-428e-8259-ba8b825094ab",
   "metadata": {
    "tags": []
   },
   "outputs": [],
   "source": [
    "halo_star_pos = ray_pos_all[np.linalg.norm(ray_pos_all - ray_halo_center, axis=1) < ray_halo_rvir]\n",
    "halo_star_age = ray_age_all[np.linalg.norm(ray_pos_all - ray_halo_center, axis=1) < ray_halo_rvir]\n",
    "halo_star_ID = ray_ID_all[np.linalg.norm(ray_pos_all - ray_halo_center, axis=1) < ray_halo_rvir]"
   ]
  },
  {
   "cell_type": "code",
   "execution_count": 15,
   "id": "2bf733bb-ea2f-40b7-824f-3d943bf319ee",
   "metadata": {
    "tags": []
   },
   "outputs": [],
   "source": [
    "ftime_dict = {}\n",
    "for j in range(len(halo_star_age)):\n",
    "    ftime = time_list[-1] - halo_star_age[j]\n",
    "    ftime_snapidx = idx_list[search_closest_upper(ftime, time_list)]\n",
    "    try:\n",
    "        ftime_dict[ftime_snapidx].append(int(halo_star_ID[j]))\n",
    "    except:\n",
    "        ftime_dict[ftime_snapidx] = []\n",
    "        ftime_dict[ftime_snapidx].append(int(halo_star_ID[j]))"
   ]
  },
  {
   "cell_type": "code",
   "execution_count": 18,
   "id": "754667e4-47d2-48ee-9c8a-f106466c902c",
   "metadata": {
    "tags": []
   },
   "outputs": [
    {
     "data": {
      "text/plain": [
       "dict_keys([80, 95, 117, 122, 124, 125, 154, 158, 159, 176, 190, 193, 194, 195, 201, 203, 130, 79, 156, 163, 198, 199, 114, 118, 200, 99, 109, 111, 112, 116, 119, 120, 121, 123, 127, 129, 131, 133, 134, 137, 138, 139, 141, 142, 143, 144, 160, 161, 175, 184, 202, 126, 150, 152, 162, 164, 169, 170, 174, 177, 178, 179, 183, 187, 191, 192, 204, 165, 180, 205, 206, 207, 208, 182, 209, 210, 211])"
      ]
     },
     "execution_count": 18,
     "metadata": {},
     "output_type": "execute_result"
    }
   ],
   "source": [
    "ftime_dict.keys()"
   ]
  },
  {
   "cell_type": "code",
   "execution_count": null,
   "id": "6c0c9b3f-5ee5-496c-b0c3-fe4715605420",
   "metadata": {},
   "outputs": [],
   "source": []
  },
  {
   "cell_type": "code",
   "execution_count": null,
   "id": "8806e86c-8d2d-432f-8b5f-c37f83e60014",
   "metadata": {},
   "outputs": [],
   "source": []
  },
  {
   "cell_type": "code",
   "execution_count": null,
   "id": "2ddc4757-763c-4083-891e-7d5229b089d9",
   "metadata": {},
   "outputs": [],
   "source": []
  },
  {
   "cell_type": "code",
   "execution_count": null,
   "id": "7a699190-1fb4-4063-902e-823de4dc5292",
   "metadata": {},
   "outputs": [],
   "source": []
  },
  {
   "cell_type": "code",
   "execution_count": null,
   "id": "22692d78-2bf2-43f0-a966-f1266e5fb8d4",
   "metadata": {},
   "outputs": [],
   "source": []
  },
  {
   "cell_type": "markdown",
   "id": "45dd52af-f123-43df-89b9-e520a01eb68b",
   "metadata": {},
   "source": [
    "### Star Assignment Technique by Thinh"
   ]
  },
  {
   "cell_type": "markdown",
   "id": "29ab6af9-c0e6-414a-b79f-843ffd95c234",
   "metadata": {},
   "source": [
    "Starting from the earlier snapshot to the later snapshot. If a star particle is formed in a halo, assume that it will not escape that halo (there is a chance that during fly by, a DM halo can still some star particles, but since we are investigating star formation in halo, this can be neglected). If that halo is a sub branch, the star particle will belong to the main branch at the time step of merging. If a star particle is formed between the region of multiple halos, use energy definition to determine which halo it belongs to (choose the halo in which the star particle has the lowest total energy)"
   ]
  },
  {
   "cell_type": "code",
   "execution_count": 67,
   "id": "5b46680e-fc44-4885-8322-a029d5127a81",
   "metadata": {
    "tags": []
   },
   "outputs": [],
   "source": [
    "output = {}\n",
    "for idx in ray_tree['0'].keys():\n",
    "    output[str(idx)] = {}"
   ]
  },
  {
   "cell_type": "code",
   "execution_count": 6,
   "id": "a292e579-2757-4c4a-97de-1a67a2f19d47",
   "metadata": {
    "tags": []
   },
   "outputs": [],
   "source": [
    "def list_of_halos_wstars_idx(tree, idx):\n",
    "    halo_wstars_pos = np.empty(shape=(0,3))\n",
    "    halo_wstars_rvir = np.array([])\n",
    "    halo_wstars_branch = np.array([])\n",
    "    for key, vals in tree.items():\n",
    "        if idx in vals.keys() and vals[idx]['star_mass'] > 1:\n",
    "            halo_wstars_pos = np.vstack((halo_wstars_pos, vals[idx]['coor']))\n",
    "            halo_wstars_rvir = np.append(halo_wstars_rvir, vals[idx]['Rvir'])\n",
    "            halo_wstars_branch = np.append(halo_wstars_branch, key)   \n",
    "    return halo_wstars_pos, halo_wstars_rvir, halo_wstars_branch"
   ]
  },
  {
   "cell_type": "code",
   "execution_count": 7,
   "id": "fab91df7-c153-49fd-a29d-1539e53ebf11",
   "metadata": {
    "tags": []
   },
   "outputs": [
    {
     "data": {
      "text/plain": [
       "\"\\ndef find_total_E_multiple(star_pos, star_vel, ds, tree, branch, idx):\\n    #this function calculate the total orbital energy of a star around a halo\\n    #the unit of position is km and the unit of velocity is km/s\\n    #star_pos is an array of stellar positions, star_vel is an array of stellar velocity\\n    star_r_codelength = np.linalg.norm(star_pos - tree[branch][idx]['Halo_Center'], axis=1)\\n    star_r = (star_r_codelength*ds.units.code_length).to('m').v\\n    #\\n    halo_vel = (tree[branch][idx]['Vel_Com']*ds.units.code_length/ds.units.s).to('m/s').v\\n    star_relvel_mag = np.linalg.norm(star_vel - halo_vel, axis=1)\\n    #Kinetic energy\\n    KE = 0.5*star_relvel_mag**2\\n    #Approximate M(r < star_r) by using the overdensity\\n    oden_list, char_radius_list = extract_char_radius(tree, branch, idx)\\n    char_radius_list = (char_radius_list*ds.units.code_length).to('m').v\\n    oden_boolean = char_radius_list > star_r[:,np.newaxis]\\n    oden = np.array([])\\n    for j in range(len(oden_boolean)):\\n        oden = np.append(oden, oden_list[np.where(oden_boolean[j] == True)[0][-1]])\\n    #\\n    M = (4/3)*np.pi*oden*univDen(ds)*star_r**3\\n    PE = -G.value*M/star_r\\n    E = KE + PE\\n    return E\\n\""
      ]
     },
     "execution_count": 7,
     "metadata": {},
     "output_type": "execute_result"
    }
   ],
   "source": [
    "def univDen(ds):\n",
    "    # Hubble constant\n",
    "    H0 = ds.hubble_constant * 100 * u.km/u.s/u.Mpc\n",
    "    H = H0**2 * (ds.omega_matter*(1 + ds.current_redshift)**3 + ds.omega_lambda)  # Technically H^2\n",
    "    G = 6.67e-11 * u.m**3/u.s**2/u.kg\n",
    "    # Density of the universe\n",
    "    den = (3*H/(8*np.pi*G)).to(\"kg/m**3\") / u.kg * u.m**3\n",
    "    return den.value\n",
    "\n",
    "def extract_char_radius(tree, branch, idx):\n",
    "    oden_list = np.array([100, 150, 200, 250, 300, 500, 700])\n",
    "    char_radius_list = np.array([])\n",
    "    for oden in oden_list:\n",
    "        key = 'r%s' % oden\n",
    "        char_radius_list = np.append(char_radius_list, tree[branch][idx][key])\n",
    "    return oden_list, char_radius_list\n",
    "\n",
    "def find_total_E(star_pos, star_vel, ds, tree, branch, idx):\n",
    "    #this function calculate the total orbital energy of a star around a halo\n",
    "    #the unit of position is code_length and the unit of velocity is code_length/s\n",
    "    star_r_codelength = np.linalg.norm(star_pos - tree[branch][idx]['Halo_Center'])\n",
    "    star_r = (star_r_codelength*ds.units.code_length).to('m').v\n",
    "    #\n",
    "    halo_vel = (tree[branch][idx]['Vel_Com']*ds.units.code_length/ds.units.s).to('m/s').v\n",
    "    star_relvel_mag = np.linalg.norm(star_vel - halo_vel)\n",
    "    #Kinetic energy\n",
    "    KE = 0.5*star_relvel_mag**2\n",
    "    #Approximate M(r < star_r) by using the overdensity\n",
    "    oden_list, char_radius_list = extract_char_radius(tree, branch, idx)\n",
    "    char_radius_list = (char_radius_list*ds.units.code_length).to('m').v\n",
    "    oden = oden_list[char_radius_list > star_r][-1]\n",
    "    M = (4/3)*np.pi*oden*univDen(ds)*star_r**3\n",
    "    PE = -G.value*M/star_r\n",
    "    E = KE + PE\n",
    "    return E\n",
    "\n",
    "\"\"\"\n",
    "def find_total_E_multiple(star_pos, star_vel, ds, tree, branch, idx):\n",
    "    #this function calculate the total orbital energy of a star around a halo\n",
    "    #the unit of position is km and the unit of velocity is km/s\n",
    "    #star_pos is an array of stellar positions, star_vel is an array of stellar velocity\n",
    "    star_r_codelength = np.linalg.norm(star_pos - tree[branch][idx]['Halo_Center'], axis=1)\n",
    "    star_r = (star_r_codelength*ds.units.code_length).to('m').v\n",
    "    #\n",
    "    halo_vel = (tree[branch][idx]['Vel_Com']*ds.units.code_length/ds.units.s).to('m/s').v\n",
    "    star_relvel_mag = np.linalg.norm(star_vel - halo_vel, axis=1)\n",
    "    #Kinetic energy\n",
    "    KE = 0.5*star_relvel_mag**2\n",
    "    #Approximate M(r < star_r) by using the overdensity\n",
    "    oden_list, char_radius_list = extract_char_radius(tree, branch, idx)\n",
    "    char_radius_list = (char_radius_list*ds.units.code_length).to('m').v\n",
    "    oden_boolean = char_radius_list > star_r[:,np.newaxis]\n",
    "    oden = np.array([])\n",
    "    for j in range(len(oden_boolean)):\n",
    "        oden = np.append(oden, oden_list[np.where(oden_boolean[j] == True)[0][-1]])\n",
    "    #\n",
    "    M = (4/3)*np.pi*oden*univDen(ds)*star_r**3\n",
    "    PE = -G.value*M/star_r\n",
    "    E = KE + PE\n",
    "    return E\n",
    "\"\"\""
   ]
  },
  {
   "cell_type": "code",
   "execution_count": 8,
   "id": "6012667b-f9a9-4f52-b8f0-aed54f563205",
   "metadata": {
    "tags": []
   },
   "outputs": [],
   "source": [
    "ray_tree = np.load('/scratch/bbvl/gtg115x/new_zoom_5/box_2_z_1/halotree_1088_final_Thinh_structure.npy', allow_pickle=True).tolist()\n",
    "ray_rawtree = np.load('/scratch/bbvl/gtg115x/new_zoom_5/box_2_z_1/halotree_1088_final.npy', allow_pickle=True).tolist()"
   ]
  },
  {
   "cell_type": "code",
   "execution_count": 80,
   "id": "75f90277-e948-4736-9b6c-708878a42ace",
   "metadata": {
    "tags": []
   },
   "outputs": [
    {
     "name": "stderr",
     "output_type": "stream",
     "text": [
      " 42%|████▏     | 87/208 [02:04<03:32,  1.76s/it]yt : [INFO     ] 2025-01-02 22:00:41,235 Parameters: current_time              = 14.485372364245\n",
      "yt : [INFO     ] 2025-01-02 22:00:41,237 Parameters: domain_dimensions         = [256 256 256]\n",
      "yt : [INFO     ] 2025-01-02 22:00:41,239 Parameters: domain_left_edge          = [0. 0. 0.]\n",
      "yt : [INFO     ] 2025-01-02 22:00:41,241 Parameters: domain_right_edge         = [1. 1. 1.]\n",
      "yt : [INFO     ] 2025-01-02 22:00:41,242 Parameters: cosmological_simulation   = 1\n",
      "yt : [INFO     ] 2025-01-02 22:00:41,244 Parameters: current_redshift          = 13.847170857863\n",
      "yt : [INFO     ] 2025-01-02 22:00:41,245 Parameters: omega_lambda              = 0.6935\n",
      "yt : [INFO     ] 2025-01-02 22:00:41,247 Parameters: omega_matter              = 0.3065\n",
      "yt : [INFO     ] 2025-01-02 22:00:41,248 Parameters: omega_radiation           = 0.0\n",
      "yt : [INFO     ] 2025-01-02 22:00:41,249 Parameters: hubble_constant           = 0.679\n",
      " 42%|████▏     | 88/208 [02:12<06:48,  3.40s/it]"
     ]
    },
    {
     "name": "stdout",
     "output_type": "stream",
     "text": [
      "OVERLAP DETECTED AT BRANCHES {'1', '1_22'}\n"
     ]
    },
    {
     "name": "stderr",
     "output_type": "stream",
     "text": [
      " 44%|████▍     | 91/208 [02:17<04:38,  2.38s/it]yt : [INFO     ] 2025-01-02 22:00:50,034 Parameters: current_time              = 14.676545164245\n",
      "yt : [INFO     ] 2025-01-02 22:00:50,037 Parameters: domain_dimensions         = [256 256 256]\n",
      "yt : [INFO     ] 2025-01-02 22:00:50,039 Parameters: domain_left_edge          = [0. 0. 0.]\n",
      "yt : [INFO     ] 2025-01-02 22:00:50,041 Parameters: domain_right_edge         = [1. 1. 1.]\n",
      "yt : [INFO     ] 2025-01-02 22:00:50,043 Parameters: cosmological_simulation   = 1\n",
      "yt : [INFO     ] 2025-01-02 22:00:50,045 Parameters: current_redshift          = 13.71792907663\n",
      "yt : [INFO     ] 2025-01-02 22:00:50,047 Parameters: omega_lambda              = 0.6935\n",
      "yt : [INFO     ] 2025-01-02 22:00:50,049 Parameters: omega_matter              = 0.3065\n",
      "yt : [INFO     ] 2025-01-02 22:00:50,051 Parameters: omega_radiation           = 0.0\n",
      "yt : [INFO     ] 2025-01-02 22:00:50,053 Parameters: hubble_constant           = 0.679\n",
      " 44%|████▍     | 92/208 [02:21<05:25,  2.81s/it]"
     ]
    },
    {
     "name": "stdout",
     "output_type": "stream",
     "text": [
      "OVERLAP DETECTED AT BRANCHES {'0_35', '0_34', '0'}\n"
     ]
    },
    {
     "name": "stderr",
     "output_type": "stream",
     "text": [
      " 45%|████▍     | 93/208 [02:26<06:51,  3.58s/it]yt : [INFO     ] 2025-01-02 22:01:02,766 Parameters: current_time              = 14.772131564245\n",
      "yt : [INFO     ] 2025-01-02 22:01:02,768 Parameters: domain_dimensions         = [256 256 256]\n",
      "yt : [INFO     ] 2025-01-02 22:01:02,769 Parameters: domain_left_edge          = [0. 0. 0.]\n",
      "yt : [INFO     ] 2025-01-02 22:01:02,771 Parameters: domain_right_edge         = [1. 1. 1.]\n",
      "yt : [INFO     ] 2025-01-02 22:01:02,773 Parameters: cosmological_simulation   = 1\n",
      "yt : [INFO     ] 2025-01-02 22:01:02,774 Parameters: current_redshift          = 13.65435486334\n",
      "yt : [INFO     ] 2025-01-02 22:01:02,776 Parameters: omega_lambda              = 0.6935\n",
      "yt : [INFO     ] 2025-01-02 22:01:02,777 Parameters: omega_matter              = 0.3065\n",
      "yt : [INFO     ] 2025-01-02 22:01:02,779 Parameters: omega_radiation           = 0.0\n",
      "yt : [INFO     ] 2025-01-02 22:01:02,780 Parameters: hubble_constant           = 0.679\n",
      " 45%|████▌     | 94/208 [02:33<08:34,  4.51s/it]"
     ]
    },
    {
     "name": "stdout",
     "output_type": "stream",
     "text": [
      "OVERLAP DETECTED AT BRANCHES {'6', '6_6'}\n"
     ]
    },
    {
     "name": "stderr",
     "output_type": "stream",
     "text": [
      "yt : [INFO     ] 2025-01-02 22:01:07,601 Parameters: current_time              = 14.819924764245\n",
      "yt : [INFO     ] 2025-01-02 22:01:07,603 Parameters: domain_dimensions         = [256 256 256]\n",
      "yt : [INFO     ] 2025-01-02 22:01:07,604 Parameters: domain_left_edge          = [0. 0. 0.]\n",
      "yt : [INFO     ] 2025-01-02 22:01:07,606 Parameters: domain_right_edge         = [1. 1. 1.]\n",
      "yt : [INFO     ] 2025-01-02 22:01:07,608 Parameters: cosmological_simulation   = 1\n",
      "yt : [INFO     ] 2025-01-02 22:01:07,609 Parameters: current_redshift          = 13.622824169978\n",
      "yt : [INFO     ] 2025-01-02 22:01:07,610 Parameters: omega_lambda              = 0.6935\n",
      "yt : [INFO     ] 2025-01-02 22:01:07,612 Parameters: omega_matter              = 0.3065\n",
      "yt : [INFO     ] 2025-01-02 22:01:07,613 Parameters: omega_radiation           = 0.0\n",
      "yt : [INFO     ] 2025-01-02 22:01:07,615 Parameters: hubble_constant           = 0.679\n",
      " 46%|████▌     | 95/208 [02:38<08:40,  4.60s/it]"
     ]
    },
    {
     "name": "stdout",
     "output_type": "stream",
     "text": [
      "OVERLAP DETECTED AT BRANCHES {'6', '6_6'}\n"
     ]
    },
    {
     "name": "stderr",
     "output_type": "stream",
     "text": [
      "yt : [INFO     ] 2025-01-02 22:01:15,423 Parameters: current_time              = 14.867717964245\n",
      "yt : [INFO     ] 2025-01-02 22:01:15,425 Parameters: domain_dimensions         = [256 256 256]\n",
      "yt : [INFO     ] 2025-01-02 22:01:15,427 Parameters: domain_left_edge          = [0. 0. 0.]\n",
      "yt : [INFO     ] 2025-01-02 22:01:15,429 Parameters: domain_right_edge         = [1. 1. 1.]\n",
      "yt : [INFO     ] 2025-01-02 22:01:15,430 Parameters: cosmological_simulation   = 1\n",
      "yt : [INFO     ] 2025-01-02 22:01:15,432 Parameters: current_redshift          = 13.591462463737\n",
      "yt : [INFO     ] 2025-01-02 22:01:15,433 Parameters: omega_lambda              = 0.6935\n",
      "yt : [INFO     ] 2025-01-02 22:01:15,435 Parameters: omega_matter              = 0.3065\n",
      "yt : [INFO     ] 2025-01-02 22:01:15,436 Parameters: omega_radiation           = 0.0\n",
      "yt : [INFO     ] 2025-01-02 22:01:15,438 Parameters: hubble_constant           = 0.679\n",
      " 46%|████▌     | 96/208 [02:46<10:21,  5.55s/it]"
     ]
    },
    {
     "name": "stdout",
     "output_type": "stream",
     "text": [
      "OVERLAP DETECTED AT BRANCHES {'6', '0_35', '0', '6_6', '0_34'}\n"
     ]
    },
    {
     "name": "stderr",
     "output_type": "stream",
     "text": [
      "yt : [INFO     ] 2025-01-02 22:01:19,529 Parameters: current_time              = 14.915511164245\n",
      "yt : [INFO     ] 2025-01-02 22:01:19,532 Parameters: domain_dimensions         = [256 256 256]\n",
      "yt : [INFO     ] 2025-01-02 22:01:19,534 Parameters: domain_left_edge          = [0. 0. 0.]\n",
      "yt : [INFO     ] 2025-01-02 22:01:19,536 Parameters: domain_right_edge         = [1. 1. 1.]\n",
      "yt : [INFO     ] 2025-01-02 22:01:19,538 Parameters: cosmological_simulation   = 1\n",
      "yt : [INFO     ] 2025-01-02 22:01:19,540 Parameters: current_redshift          = 13.560268299869\n",
      "yt : [INFO     ] 2025-01-02 22:01:19,542 Parameters: omega_lambda              = 0.6935\n",
      "yt : [INFO     ] 2025-01-02 22:01:19,544 Parameters: omega_matter              = 0.3065\n",
      "yt : [INFO     ] 2025-01-02 22:01:19,546 Parameters: omega_radiation           = 0.0\n",
      "yt : [INFO     ] 2025-01-02 22:01:19,548 Parameters: hubble_constant           = 0.679\n",
      " 47%|████▋     | 97/208 [02:50<09:29,  5.13s/it]"
     ]
    },
    {
     "name": "stdout",
     "output_type": "stream",
     "text": [
      "OVERLAP DETECTED AT BRANCHES {'6', '6_5'}\n"
     ]
    },
    {
     "name": "stderr",
     "output_type": "stream",
     "text": [
      "yt : [INFO     ] 2025-01-02 22:01:23,893 Parameters: current_time              = 14.963304364245\n",
      "yt : [INFO     ] 2025-01-02 22:01:23,895 Parameters: domain_dimensions         = [256 256 256]\n",
      "yt : [INFO     ] 2025-01-02 22:01:23,896 Parameters: domain_left_edge          = [0. 0. 0.]\n",
      "yt : [INFO     ] 2025-01-02 22:01:23,898 Parameters: domain_right_edge         = [1. 1. 1.]\n",
      "yt : [INFO     ] 2025-01-02 22:01:23,900 Parameters: cosmological_simulation   = 1\n",
      "yt : [INFO     ] 2025-01-02 22:01:23,901 Parameters: current_redshift          = 13.529240250548\n",
      "yt : [INFO     ] 2025-01-02 22:01:23,903 Parameters: omega_lambda              = 0.6935\n",
      "yt : [INFO     ] 2025-01-02 22:01:23,904 Parameters: omega_matter              = 0.3065\n",
      "yt : [INFO     ] 2025-01-02 22:01:23,905 Parameters: omega_radiation           = 0.0\n",
      "yt : [INFO     ] 2025-01-02 22:01:23,907 Parameters: hubble_constant           = 0.679\n",
      " 47%|████▋     | 98/208 [02:54<08:58,  4.90s/it]"
     ]
    },
    {
     "name": "stdout",
     "output_type": "stream",
     "text": [
      "OVERLAP DETECTED AT BRANCHES {'6', '6_5'}\n"
     ]
    },
    {
     "name": "stderr",
     "output_type": "stream",
     "text": [
      "yt : [INFO     ] 2025-01-02 22:01:30,556 Parameters: current_time              = 15.011097564245\n",
      "yt : [INFO     ] 2025-01-02 22:01:30,558 Parameters: domain_dimensions         = [256 256 256]\n",
      "yt : [INFO     ] 2025-01-02 22:01:30,560 Parameters: domain_left_edge          = [0. 0. 0.]\n",
      "yt : [INFO     ] 2025-01-02 22:01:30,561 Parameters: domain_right_edge         = [1. 1. 1.]\n",
      "yt : [INFO     ] 2025-01-02 22:01:30,563 Parameters: cosmological_simulation   = 1\n",
      "yt : [INFO     ] 2025-01-02 22:01:30,564 Parameters: current_redshift          = 13.498376904632\n",
      "yt : [INFO     ] 2025-01-02 22:01:30,566 Parameters: omega_lambda              = 0.6935\n",
      "yt : [INFO     ] 2025-01-02 22:01:30,567 Parameters: omega_matter              = 0.3065\n",
      "yt : [INFO     ] 2025-01-02 22:01:30,569 Parameters: omega_radiation           = 0.0\n",
      "yt : [INFO     ] 2025-01-02 22:01:30,570 Parameters: hubble_constant           = 0.679\n",
      " 48%|████▊     | 99/208 [03:01<09:52,  5.43s/it]"
     ]
    },
    {
     "name": "stdout",
     "output_type": "stream",
     "text": [
      "OVERLAP DETECTED AT BRANCHES {'6', '6_5'}\n"
     ]
    },
    {
     "name": "stderr",
     "output_type": "stream",
     "text": [
      "yt : [INFO     ] 2025-01-02 22:01:33,337 Parameters: current_time              = 15.058890764245\n",
      "yt : [INFO     ] 2025-01-02 22:01:33,339 Parameters: domain_dimensions         = [256 256 256]\n",
      "yt : [INFO     ] 2025-01-02 22:01:33,340 Parameters: domain_left_edge          = [0. 0. 0.]\n",
      "yt : [INFO     ] 2025-01-02 22:01:33,342 Parameters: domain_right_edge         = [1. 1. 1.]\n",
      "yt : [INFO     ] 2025-01-02 22:01:33,343 Parameters: cosmological_simulation   = 1\n",
      "yt : [INFO     ] 2025-01-02 22:01:33,345 Parameters: current_redshift          = 13.467676867405\n",
      "yt : [INFO     ] 2025-01-02 22:01:33,346 Parameters: omega_lambda              = 0.6935\n",
      "yt : [INFO     ] 2025-01-02 22:01:33,348 Parameters: omega_matter              = 0.3065\n",
      "yt : [INFO     ] 2025-01-02 22:01:33,349 Parameters: omega_radiation           = 0.0\n",
      "yt : [INFO     ] 2025-01-02 22:01:33,351 Parameters: hubble_constant           = 0.679\n",
      " 48%|████▊     | 100/208 [03:05<08:41,  4.83s/it]"
     ]
    },
    {
     "name": "stdout",
     "output_type": "stream",
     "text": [
      "OVERLAP DETECTED AT BRANCHES {'6', '6_5'}\n"
     ]
    },
    {
     "name": "stderr",
     "output_type": "stream",
     "text": [
      " 51%|█████▏    | 107/208 [03:18<03:22,  2.00s/it]yt : [INFO     ] 2025-01-02 22:01:57,655 Parameters: current_time              = 15.441236364245\n",
      "yt : [INFO     ] 2025-01-02 22:01:57,656 Parameters: domain_dimensions         = [256 256 256]\n",
      "yt : [INFO     ] 2025-01-02 22:01:57,657 Parameters: domain_left_edge          = [0. 0. 0.]\n",
      "yt : [INFO     ] 2025-01-02 22:01:57,657 Parameters: domain_right_edge         = [1. 1. 1.]\n",
      "yt : [INFO     ] 2025-01-02 22:01:57,658 Parameters: cosmological_simulation   = 1\n",
      "yt : [INFO     ] 2025-01-02 22:01:57,658 Parameters: current_redshift          = 13.227793550421\n",
      "yt : [INFO     ] 2025-01-02 22:01:57,659 Parameters: omega_lambda              = 0.6935\n",
      "yt : [INFO     ] 2025-01-02 22:01:57,659 Parameters: omega_matter              = 0.3065\n",
      "yt : [INFO     ] 2025-01-02 22:01:57,660 Parameters: omega_radiation           = 0.0\n",
      "yt : [INFO     ] 2025-01-02 22:01:57,660 Parameters: hubble_constant           = 0.679\n",
      " 52%|█████▏    | 108/208 [03:28<07:35,  4.56s/it]"
     ]
    },
    {
     "name": "stdout",
     "output_type": "stream",
     "text": [
      "OVERLAP DETECTED AT BRANCHES {'0_30', '0'}\n"
     ]
    },
    {
     "name": "stderr",
     "output_type": "stream",
     "text": [
      "yt : [INFO     ] 2025-01-02 22:02:08,112 Parameters: current_time              = 15.489029564245\n",
      "yt : [INFO     ] 2025-01-02 22:02:08,115 Parameters: domain_dimensions         = [256 256 256]\n",
      "yt : [INFO     ] 2025-01-02 22:02:08,117 Parameters: domain_left_edge          = [0. 0. 0.]\n",
      "yt : [INFO     ] 2025-01-02 22:02:08,119 Parameters: domain_right_edge         = [1. 1. 1.]\n",
      "yt : [INFO     ] 2025-01-02 22:02:08,121 Parameters: cosmological_simulation   = 1\n",
      "yt : [INFO     ] 2025-01-02 22:02:08,123 Parameters: current_redshift          = 13.19850312348\n",
      "yt : [INFO     ] 2025-01-02 22:02:08,125 Parameters: omega_lambda              = 0.6935\n",
      "yt : [INFO     ] 2025-01-02 22:02:08,127 Parameters: omega_matter              = 0.3065\n",
      "yt : [INFO     ] 2025-01-02 22:02:08,129 Parameters: omega_radiation           = 0.0\n",
      "yt : [INFO     ] 2025-01-02 22:02:08,131 Parameters: hubble_constant           = 0.679\n",
      " 52%|█████▏    | 109/208 [03:39<10:26,  6.32s/it]"
     ]
    },
    {
     "name": "stdout",
     "output_type": "stream",
     "text": [
      "OVERLAP DETECTED AT BRANCHES {'0_30', '0'}\n"
     ]
    },
    {
     "name": "stderr",
     "output_type": "stream",
     "text": [
      " 53%|█████▎    | 110/208 [03:41<08:26,  5.17s/it]yt : [INFO     ] 2025-01-02 22:02:12,590 Parameters: current_time              = 15.584615964245\n",
      "yt : [INFO     ] 2025-01-02 22:02:12,591 Parameters: domain_dimensions         = [256 256 256]\n",
      "yt : [INFO     ] 2025-01-02 22:02:12,593 Parameters: domain_left_edge          = [0. 0. 0.]\n",
      "yt : [INFO     ] 2025-01-02 22:02:12,595 Parameters: domain_right_edge         = [1. 1. 1.]\n",
      "yt : [INFO     ] 2025-01-02 22:02:12,596 Parameters: cosmological_simulation   = 1\n",
      "yt : [INFO     ] 2025-01-02 22:02:12,598 Parameters: current_redshift          = 13.14037168221\n",
      "yt : [INFO     ] 2025-01-02 22:02:12,599 Parameters: omega_lambda              = 0.6935\n",
      "yt : [INFO     ] 2025-01-02 22:02:12,601 Parameters: omega_matter              = 0.3065\n",
      "yt : [INFO     ] 2025-01-02 22:02:12,602 Parameters: omega_radiation           = 0.0\n",
      "yt : [INFO     ] 2025-01-02 22:02:12,603 Parameters: hubble_constant           = 0.679\n",
      " 53%|█████▎    | 111/208 [03:43<06:48,  4.21s/it]"
     ]
    },
    {
     "name": "stdout",
     "output_type": "stream",
     "text": [
      "OVERLAP DETECTED AT BRANCHES {'0_30', '0'}\n"
     ]
    },
    {
     "name": "stderr",
     "output_type": "stream",
     "text": [
      "yt : [INFO     ] 2025-01-02 22:02:21,479 Parameters: current_time              = 15.632409164245\n",
      "yt : [INFO     ] 2025-01-02 22:02:21,482 Parameters: domain_dimensions         = [256 256 256]\n",
      "yt : [INFO     ] 2025-01-02 22:02:21,483 Parameters: domain_left_edge          = [0. 0. 0.]\n",
      "yt : [INFO     ] 2025-01-02 22:02:21,485 Parameters: domain_right_edge         = [1. 1. 1.]\n",
      "yt : [INFO     ] 2025-01-02 22:02:21,486 Parameters: cosmological_simulation   = 1\n",
      "yt : [INFO     ] 2025-01-02 22:02:21,488 Parameters: current_redshift          = 13.111528223491\n",
      "yt : [INFO     ] 2025-01-02 22:02:21,489 Parameters: omega_lambda              = 0.6935\n",
      "yt : [INFO     ] 2025-01-02 22:02:21,491 Parameters: omega_matter              = 0.3065\n",
      "yt : [INFO     ] 2025-01-02 22:02:21,492 Parameters: omega_radiation           = 0.0\n",
      "yt : [INFO     ] 2025-01-02 22:02:21,493 Parameters: hubble_constant           = 0.679\n",
      " 54%|█████▍    | 112/208 [03:52<08:58,  5.61s/it]"
     ]
    },
    {
     "name": "stdout",
     "output_type": "stream",
     "text": [
      "OVERLAP DETECTED AT BRANCHES {'1_18', '1'}\n"
     ]
    },
    {
     "name": "stderr",
     "output_type": "stream",
     "text": [
      "yt : [INFO     ] 2025-01-02 22:02:30,533 Parameters: current_time              = 15.680202364245\n",
      "yt : [INFO     ] 2025-01-02 22:02:30,536 Parameters: domain_dimensions         = [256 256 256]\n",
      "yt : [INFO     ] 2025-01-02 22:02:30,537 Parameters: domain_left_edge          = [0. 0. 0.]\n",
      "yt : [INFO     ] 2025-01-02 22:02:30,539 Parameters: domain_right_edge         = [1. 1. 1.]\n",
      "yt : [INFO     ] 2025-01-02 22:02:30,541 Parameters: cosmological_simulation   = 1\n",
      "yt : [INFO     ] 2025-01-02 22:02:30,542 Parameters: current_redshift          = 13.082831332571\n",
      "yt : [INFO     ] 2025-01-02 22:02:30,544 Parameters: omega_lambda              = 0.6935\n",
      "yt : [INFO     ] 2025-01-02 22:02:30,545 Parameters: omega_matter              = 0.3065\n",
      "yt : [INFO     ] 2025-01-02 22:02:30,546 Parameters: omega_radiation           = 0.0\n",
      "yt : [INFO     ] 2025-01-02 22:02:30,548 Parameters: hubble_constant           = 0.679\n",
      " 54%|█████▍    | 113/208 [04:01<10:37,  6.71s/it]"
     ]
    },
    {
     "name": "stdout",
     "output_type": "stream",
     "text": [
      "OVERLAP DETECTED AT BRANCHES {'0_30', '0'}\n"
     ]
    },
    {
     "name": "stderr",
     "output_type": "stream",
     "text": [
      "yt : [INFO     ] 2025-01-02 22:02:34,131 Parameters: current_time              = 15.727995564245\n",
      "yt : [INFO     ] 2025-01-02 22:02:34,133 Parameters: domain_dimensions         = [256 256 256]\n",
      "yt : [INFO     ] 2025-01-02 22:02:34,135 Parameters: domain_left_edge          = [0. 0. 0.]\n",
      "yt : [INFO     ] 2025-01-02 22:02:34,137 Parameters: domain_right_edge         = [1. 1. 1.]\n",
      "yt : [INFO     ] 2025-01-02 22:02:34,139 Parameters: cosmological_simulation   = 1\n",
      "yt : [INFO     ] 2025-01-02 22:02:34,141 Parameters: current_redshift          = 13.054279821133\n",
      "yt : [INFO     ] 2025-01-02 22:02:34,143 Parameters: omega_lambda              = 0.6935\n",
      "yt : [INFO     ] 2025-01-02 22:02:34,145 Parameters: omega_matter              = 0.3065\n",
      "yt : [INFO     ] 2025-01-02 22:02:34,147 Parameters: omega_radiation           = 0.0\n",
      "yt : [INFO     ] 2025-01-02 22:02:34,149 Parameters: hubble_constant           = 0.679\n",
      " 55%|█████▍    | 114/208 [04:05<09:16,  5.92s/it]"
     ]
    },
    {
     "name": "stdout",
     "output_type": "stream",
     "text": [
      "OVERLAP DETECTED AT BRANCHES {'0_30', '0'}\n"
     ]
    },
    {
     "name": "stderr",
     "output_type": "stream",
     "text": [
      "yt : [INFO     ] 2025-01-02 22:02:43,986 Parameters: current_time              = 15.775788764245\n",
      "yt : [INFO     ] 2025-01-02 22:02:43,989 Parameters: domain_dimensions         = [256 256 256]\n",
      "yt : [INFO     ] 2025-01-02 22:02:43,990 Parameters: domain_left_edge          = [0. 0. 0.]\n",
      "yt : [INFO     ] 2025-01-02 22:02:43,992 Parameters: domain_right_edge         = [1. 1. 1.]\n",
      "yt : [INFO     ] 2025-01-02 22:02:43,993 Parameters: cosmological_simulation   = 1\n",
      "yt : [INFO     ] 2025-01-02 22:02:43,995 Parameters: current_redshift          = 13.025872514067\n",
      "yt : [INFO     ] 2025-01-02 22:02:43,996 Parameters: omega_lambda              = 0.6935\n",
      "yt : [INFO     ] 2025-01-02 22:02:43,998 Parameters: omega_matter              = 0.3065\n",
      "yt : [INFO     ] 2025-01-02 22:02:43,999 Parameters: omega_radiation           = 0.0\n",
      "yt : [INFO     ] 2025-01-02 22:02:44,001 Parameters: hubble_constant           = 0.679\n",
      " 55%|█████▌    | 115/208 [04:15<10:43,  6.92s/it]"
     ]
    },
    {
     "name": "stdout",
     "output_type": "stream",
     "text": [
      "OVERLAP DETECTED AT BRANCHES {'0_30', '0'}\n"
     ]
    },
    {
     "name": "stderr",
     "output_type": "stream",
     "text": [
      "yt : [INFO     ] 2025-01-02 22:02:44,759 Parameters: current_time              = 15.823581964245\n",
      "yt : [INFO     ] 2025-01-02 22:02:44,761 Parameters: domain_dimensions         = [256 256 256]\n",
      "yt : [INFO     ] 2025-01-02 22:02:44,764 Parameters: domain_left_edge          = [0. 0. 0.]\n",
      "yt : [INFO     ] 2025-01-02 22:02:44,766 Parameters: domain_right_edge         = [1. 1. 1.]\n",
      "yt : [INFO     ] 2025-01-02 22:02:44,768 Parameters: cosmological_simulation   = 1\n",
      "yt : [INFO     ] 2025-01-02 22:02:44,770 Parameters: current_redshift          = 12.997608249284\n",
      "yt : [INFO     ] 2025-01-02 22:02:44,772 Parameters: omega_lambda              = 0.6935\n",
      "yt : [INFO     ] 2025-01-02 22:02:44,774 Parameters: omega_matter              = 0.3065\n",
      "yt : [INFO     ] 2025-01-02 22:02:44,776 Parameters: omega_radiation           = 0.0\n",
      "yt : [INFO     ] 2025-01-02 22:02:44,777 Parameters: hubble_constant           = 0.679\n",
      " 56%|█████▌    | 116/208 [04:15<07:49,  5.11s/it]"
     ]
    },
    {
     "name": "stdout",
     "output_type": "stream",
     "text": [
      "OVERLAP DETECTED AT BRANCHES {'4_10', '4', '0_30', '0'}\n"
     ]
    },
    {
     "name": "stderr",
     "output_type": "stream",
     "text": [
      "yt : [INFO     ] 2025-01-02 22:02:48,304 Parameters: current_time              = 15.871375164245\n",
      "yt : [INFO     ] 2025-01-02 22:02:48,307 Parameters: domain_dimensions         = [256 256 256]\n",
      "yt : [INFO     ] 2025-01-02 22:02:48,309 Parameters: domain_left_edge          = [0. 0. 0.]\n",
      "yt : [INFO     ] 2025-01-02 22:02:48,311 Parameters: domain_right_edge         = [1. 1. 1.]\n",
      "yt : [INFO     ] 2025-01-02 22:02:48,313 Parameters: cosmological_simulation   = 1\n",
      "yt : [INFO     ] 2025-01-02 22:02:48,315 Parameters: current_redshift          = 12.969485877534\n",
      "yt : [INFO     ] 2025-01-02 22:02:48,317 Parameters: omega_lambda              = 0.6935\n",
      "yt : [INFO     ] 2025-01-02 22:02:48,319 Parameters: omega_matter              = 0.3065\n",
      "yt : [INFO     ] 2025-01-02 22:02:48,321 Parameters: omega_radiation           = 0.0\n",
      "yt : [INFO     ] 2025-01-02 22:02:48,323 Parameters: hubble_constant           = 0.679\n",
      " 56%|█████▋    | 117/208 [04:19<06:59,  4.61s/it]"
     ]
    },
    {
     "name": "stdout",
     "output_type": "stream",
     "text": [
      "OVERLAP DETECTED AT BRANCHES {'4_10', '4', '0_30', '0'}\n"
     ]
    },
    {
     "name": "stderr",
     "output_type": "stream",
     "text": [
      "yt : [INFO     ] 2025-01-02 22:02:55,674 Parameters: current_time              = 15.919168364245\n",
      "yt : [INFO     ] 2025-01-02 22:02:55,677 Parameters: domain_dimensions         = [256 256 256]\n",
      "yt : [INFO     ] 2025-01-02 22:02:55,679 Parameters: domain_left_edge          = [0. 0. 0.]\n",
      "yt : [INFO     ] 2025-01-02 22:02:55,681 Parameters: domain_right_edge         = [1. 1. 1.]\n",
      "yt : [INFO     ] 2025-01-02 22:02:55,683 Parameters: cosmological_simulation   = 1\n",
      "yt : [INFO     ] 2025-01-02 22:02:55,685 Parameters: current_redshift          = 12.941504262223\n",
      "yt : [INFO     ] 2025-01-02 22:02:55,687 Parameters: omega_lambda              = 0.6935\n",
      "yt : [INFO     ] 2025-01-02 22:02:55,689 Parameters: omega_matter              = 0.3065\n",
      "yt : [INFO     ] 2025-01-02 22:02:55,691 Parameters: omega_radiation           = 0.0\n",
      "yt : [INFO     ] 2025-01-02 22:02:55,693 Parameters: hubble_constant           = 0.679\n",
      " 57%|█████▋    | 118/208 [04:26<08:07,  5.42s/it]"
     ]
    },
    {
     "name": "stdout",
     "output_type": "stream",
     "text": [
      "OVERLAP DETECTED AT BRANCHES {'1_18', '4_10', '4', '1'}\n"
     ]
    },
    {
     "name": "stderr",
     "output_type": "stream",
     "text": [
      " 57%|█████▋    | 119/208 [04:29<06:59,  4.71s/it]yt : [INFO     ] 2025-01-02 22:03:02,328 Parameters: current_time              = 16.014754764245\n",
      "yt : [INFO     ] 2025-01-02 22:03:02,330 Parameters: domain_dimensions         = [256 256 256]\n",
      "yt : [INFO     ] 2025-01-02 22:03:02,332 Parameters: domain_left_edge          = [0. 0. 0.]\n",
      "yt : [INFO     ] 2025-01-02 22:03:02,333 Parameters: domain_right_edge         = [1. 1. 1.]\n",
      "yt : [INFO     ] 2025-01-02 22:03:02,335 Parameters: cosmological_simulation   = 1\n",
      "yt : [INFO     ] 2025-01-02 22:03:02,337 Parameters: current_redshift          = 12.885958816771\n",
      "yt : [INFO     ] 2025-01-02 22:03:02,338 Parameters: omega_lambda              = 0.6935\n",
      "yt : [INFO     ] 2025-01-02 22:03:02,340 Parameters: omega_matter              = 0.3065\n",
      "yt : [INFO     ] 2025-01-02 22:03:02,341 Parameters: omega_radiation           = 0.0\n",
      "yt : [INFO     ] 2025-01-02 22:03:02,343 Parameters: hubble_constant           = 0.679\n",
      " 58%|█████▊    | 120/208 [04:33<06:22,  4.35s/it]"
     ]
    },
    {
     "name": "stdout",
     "output_type": "stream",
     "text": [
      "OVERLAP DETECTED AT BRANCHES {'0_29', '0'}\n"
     ]
    },
    {
     "name": "stderr",
     "output_type": "stream",
     "text": [
      "yt : [INFO     ] 2025-01-02 22:03:10,078 Parameters: current_time              = 16.062547964245\n",
      "yt : [INFO     ] 2025-01-02 22:03:10,080 Parameters: domain_dimensions         = [256 256 256]\n",
      "yt : [INFO     ] 2025-01-02 22:03:10,083 Parameters: domain_left_edge          = [0. 0. 0.]\n",
      "yt : [INFO     ] 2025-01-02 22:03:10,085 Parameters: domain_right_edge         = [1. 1. 1.]\n",
      "yt : [INFO     ] 2025-01-02 22:03:10,087 Parameters: cosmological_simulation   = 1\n",
      "yt : [INFO     ] 2025-01-02 22:03:10,089 Parameters: current_redshift          = 12.858392775155\n",
      "yt : [INFO     ] 2025-01-02 22:03:10,091 Parameters: omega_lambda              = 0.6935\n",
      "yt : [INFO     ] 2025-01-02 22:03:10,093 Parameters: omega_matter              = 0.3065\n",
      "yt : [INFO     ] 2025-01-02 22:03:10,095 Parameters: omega_radiation           = 0.0\n",
      "yt : [INFO     ] 2025-01-02 22:03:10,096 Parameters: hubble_constant           = 0.679\n",
      " 58%|█████▊    | 121/208 [04:41<08:03,  5.56s/it]"
     ]
    },
    {
     "name": "stdout",
     "output_type": "stream",
     "text": [
      "OVERLAP DETECTED AT BRANCHES {'0_28', '0'}\n"
     ]
    },
    {
     "name": "stderr",
     "output_type": "stream",
     "text": [
      " 59%|█████▊    | 122/208 [04:45<07:06,  4.96s/it]yt : [INFO     ] 2025-01-02 22:03:18,131 Parameters: current_time              = 16.158134364245\n",
      "yt : [INFO     ] 2025-01-02 22:03:18,134 Parameters: domain_dimensions         = [256 256 256]\n",
      "yt : [INFO     ] 2025-01-02 22:03:18,136 Parameters: domain_left_edge          = [0. 0. 0.]\n",
      "yt : [INFO     ] 2025-01-02 22:03:18,138 Parameters: domain_right_edge         = [1. 1. 1.]\n",
      "yt : [INFO     ] 2025-01-02 22:03:18,140 Parameters: cosmological_simulation   = 1\n",
      "yt : [INFO     ] 2025-01-02 22:03:18,142 Parameters: current_redshift          = 12.803668615465\n",
      "yt : [INFO     ] 2025-01-02 22:03:18,144 Parameters: omega_lambda              = 0.6935\n",
      "yt : [INFO     ] 2025-01-02 22:03:18,146 Parameters: omega_matter              = 0.3065\n",
      "yt : [INFO     ] 2025-01-02 22:03:18,148 Parameters: omega_radiation           = 0.0\n",
      "yt : [INFO     ] 2025-01-02 22:03:18,150 Parameters: hubble_constant           = 0.679\n",
      " 59%|█████▉    | 123/208 [04:49<06:35,  4.66s/it]"
     ]
    },
    {
     "name": "stdout",
     "output_type": "stream",
     "text": [
      "OVERLAP DETECTED AT BRANCHES {'4_10', '4', '1429_0'}\n"
     ]
    },
    {
     "name": "stderr",
     "output_type": "stream",
     "text": [
      "yt : [INFO     ] 2025-01-02 22:03:21,221 Parameters: current_time              = 16.205927564245\n",
      "yt : [INFO     ] 2025-01-02 22:03:21,223 Parameters: domain_dimensions         = [256 256 256]\n",
      "yt : [INFO     ] 2025-01-02 22:03:21,225 Parameters: domain_left_edge          = [0. 0. 0.]\n",
      "yt : [INFO     ] 2025-01-02 22:03:21,227 Parameters: domain_right_edge         = [1. 1. 1.]\n",
      "yt : [INFO     ] 2025-01-02 22:03:21,229 Parameters: cosmological_simulation   = 1\n",
      "yt : [INFO     ] 2025-01-02 22:03:21,231 Parameters: current_redshift          = 12.776508357231\n",
      "yt : [INFO     ] 2025-01-02 22:03:21,233 Parameters: omega_lambda              = 0.6935\n",
      "yt : [INFO     ] 2025-01-02 22:03:21,235 Parameters: omega_matter              = 0.3065\n",
      "yt : [INFO     ] 2025-01-02 22:03:21,237 Parameters: omega_radiation           = 0.0\n",
      "yt : [INFO     ] 2025-01-02 22:03:21,239 Parameters: hubble_constant           = 0.679\n",
      " 60%|█████▉    | 124/208 [04:52<05:56,  4.24s/it]"
     ]
    },
    {
     "name": "stdout",
     "output_type": "stream",
     "text": [
      "OVERLAP DETECTED AT BRANCHES {'4_10', '4', '1429_0'}\n"
     ]
    },
    {
     "name": "stderr",
     "output_type": "stream",
     "text": [
      "yt : [INFO     ] 2025-01-02 22:03:26,056 Parameters: current_time              = 16.253720764245\n",
      "yt : [INFO     ] 2025-01-02 22:03:26,058 Parameters: domain_dimensions         = [256 256 256]\n",
      "yt : [INFO     ] 2025-01-02 22:03:26,060 Parameters: domain_left_edge          = [0. 0. 0.]\n",
      "yt : [INFO     ] 2025-01-02 22:03:26,062 Parameters: domain_right_edge         = [1. 1. 1.]\n",
      "yt : [INFO     ] 2025-01-02 22:03:26,063 Parameters: cosmological_simulation   = 1\n",
      "yt : [INFO     ] 2025-01-02 22:03:26,065 Parameters: current_redshift          = 12.749481239204\n",
      "yt : [INFO     ] 2025-01-02 22:03:26,066 Parameters: omega_lambda              = 0.6935\n",
      "yt : [INFO     ] 2025-01-02 22:03:26,068 Parameters: omega_matter              = 0.3065\n",
      "yt : [INFO     ] 2025-01-02 22:03:26,069 Parameters: omega_radiation           = 0.0\n",
      "yt : [INFO     ] 2025-01-02 22:03:26,070 Parameters: hubble_constant           = 0.679\n",
      " 60%|██████    | 125/208 [04:57<06:05,  4.41s/it]"
     ]
    },
    {
     "name": "stdout",
     "output_type": "stream",
     "text": [
      "OVERLAP DETECTED AT BRANCHES {'4_10', '4', '1429_0', '4_8'}\n"
     ]
    },
    {
     "name": "stderr",
     "output_type": "stream",
     "text": [
      "yt : [INFO     ] 2025-01-02 22:03:30,384 Parameters: current_time              = 16.301513964245\n",
      "yt : [INFO     ] 2025-01-02 22:03:30,386 Parameters: domain_dimensions         = [256 256 256]\n",
      "yt : [INFO     ] 2025-01-02 22:03:30,387 Parameters: domain_left_edge          = [0. 0. 0.]\n",
      "yt : [INFO     ] 2025-01-02 22:03:30,389 Parameters: domain_right_edge         = [1. 1. 1.]\n",
      "yt : [INFO     ] 2025-01-02 22:03:30,391 Parameters: cosmological_simulation   = 1\n",
      "yt : [INFO     ] 2025-01-02 22:03:30,392 Parameters: current_redshift          = 12.722586219928\n",
      "yt : [INFO     ] 2025-01-02 22:03:30,393 Parameters: omega_lambda              = 0.6935\n",
      "yt : [INFO     ] 2025-01-02 22:03:30,395 Parameters: omega_matter              = 0.3065\n",
      "yt : [INFO     ] 2025-01-02 22:03:30,396 Parameters: omega_radiation           = 0.0\n",
      "yt : [INFO     ] 2025-01-02 22:03:30,398 Parameters: hubble_constant           = 0.679\n",
      " 61%|██████    | 126/208 [05:01<05:58,  4.37s/it]"
     ]
    },
    {
     "name": "stdout",
     "output_type": "stream",
     "text": [
      "OVERLAP DETECTED AT BRANCHES {'1429_0', '4', '0', '4_10', '4_8', '0_26'}\n"
     ]
    },
    {
     "name": "stderr",
     "output_type": "stream",
     "text": [
      "yt : [INFO     ] 2025-01-02 22:03:34,119 Parameters: current_time              = 16.349307164245\n",
      "yt : [INFO     ] 2025-01-02 22:03:34,121 Parameters: domain_dimensions         = [256 256 256]\n",
      "yt : [INFO     ] 2025-01-02 22:03:34,122 Parameters: domain_left_edge          = [0. 0. 0.]\n",
      "yt : [INFO     ] 2025-01-02 22:03:34,124 Parameters: domain_right_edge         = [1. 1. 1.]\n",
      "yt : [INFO     ] 2025-01-02 22:03:34,126 Parameters: cosmological_simulation   = 1\n",
      "yt : [INFO     ] 2025-01-02 22:03:34,127 Parameters: current_redshift          = 12.695822269115\n",
      "yt : [INFO     ] 2025-01-02 22:03:34,129 Parameters: omega_lambda              = 0.6935\n",
      "yt : [INFO     ] 2025-01-02 22:03:34,130 Parameters: omega_matter              = 0.3065\n",
      "yt : [INFO     ] 2025-01-02 22:03:34,131 Parameters: omega_radiation           = 0.0\n",
      "yt : [INFO     ] 2025-01-02 22:03:34,133 Parameters: hubble_constant           = 0.679\n",
      " 61%|██████    | 127/208 [05:05<05:35,  4.15s/it]"
     ]
    },
    {
     "name": "stdout",
     "output_type": "stream",
     "text": [
      "OVERLAP DETECTED AT BRANCHES {'0_26', '0'}\n"
     ]
    },
    {
     "name": "stderr",
     "output_type": "stream",
     "text": [
      "yt : [INFO     ] 2025-01-02 22:03:45,984 Parameters: current_time              = 16.397100364245\n",
      "yt : [INFO     ] 2025-01-02 22:03:45,987 Parameters: domain_dimensions         = [256 256 256]\n",
      "yt : [INFO     ] 2025-01-02 22:03:45,989 Parameters: domain_left_edge          = [0. 0. 0.]\n",
      "yt : [INFO     ] 2025-01-02 22:03:45,991 Parameters: domain_right_edge         = [1. 1. 1.]\n",
      "yt : [INFO     ] 2025-01-02 22:03:45,993 Parameters: cosmological_simulation   = 1\n",
      "yt : [INFO     ] 2025-01-02 22:03:45,995 Parameters: current_redshift          = 12.669188367492\n",
      "yt : [INFO     ] 2025-01-02 22:03:45,997 Parameters: omega_lambda              = 0.6935\n",
      "yt : [INFO     ] 2025-01-02 22:03:45,999 Parameters: omega_matter              = 0.3065\n",
      "yt : [INFO     ] 2025-01-02 22:03:46,001 Parameters: omega_radiation           = 0.0\n",
      "yt : [INFO     ] 2025-01-02 22:03:46,003 Parameters: hubble_constant           = 0.679\n",
      " 62%|██████▏   | 128/208 [05:17<08:36,  6.46s/it]"
     ]
    },
    {
     "name": "stdout",
     "output_type": "stream",
     "text": [
      "OVERLAP DETECTED AT BRANCHES {'0_26', '0'}\n"
     ]
    },
    {
     "name": "stderr",
     "output_type": "stream",
     "text": [
      "yt : [INFO     ] 2025-01-02 22:03:48,960 Parameters: current_time              = 16.444893564245\n",
      "yt : [INFO     ] 2025-01-02 22:03:48,962 Parameters: domain_dimensions         = [256 256 256]\n",
      "yt : [INFO     ] 2025-01-02 22:03:48,964 Parameters: domain_left_edge          = [0. 0. 0.]\n",
      "yt : [INFO     ] 2025-01-02 22:03:48,965 Parameters: domain_right_edge         = [1. 1. 1.]\n",
      "yt : [INFO     ] 2025-01-02 22:03:48,967 Parameters: cosmological_simulation   = 1\n",
      "yt : [INFO     ] 2025-01-02 22:03:48,968 Parameters: current_redshift          = 12.642683506655\n",
      "yt : [INFO     ] 2025-01-02 22:03:48,970 Parameters: omega_lambda              = 0.6935\n",
      "yt : [INFO     ] 2025-01-02 22:03:48,971 Parameters: omega_matter              = 0.3065\n",
      "yt : [INFO     ] 2025-01-02 22:03:48,973 Parameters: omega_radiation           = 0.0\n",
      "yt : [INFO     ] 2025-01-02 22:03:48,974 Parameters: hubble_constant           = 0.679\n",
      " 62%|██████▏   | 129/208 [05:20<07:08,  5.43s/it]"
     ]
    },
    {
     "name": "stdout",
     "output_type": "stream",
     "text": [
      "OVERLAP DETECTED AT BRANCHES {'4', '4_8'}\n"
     ]
    },
    {
     "name": "stderr",
     "output_type": "stream",
     "text": [
      "yt : [INFO     ] 2025-01-02 22:03:51,838 Parameters: current_time              = 16.492686764245\n",
      "yt : [INFO     ] 2025-01-02 22:03:51,841 Parameters: domain_dimensions         = [256 256 256]\n",
      "yt : [INFO     ] 2025-01-02 22:03:51,843 Parameters: domain_left_edge          = [0. 0. 0.]\n",
      "yt : [INFO     ] 2025-01-02 22:03:51,845 Parameters: domain_right_edge         = [1. 1. 1.]\n",
      "yt : [INFO     ] 2025-01-02 22:03:51,847 Parameters: cosmological_simulation   = 1\n",
      "yt : [INFO     ] 2025-01-02 22:03:51,849 Parameters: current_redshift          = 12.616306688919\n",
      "yt : [INFO     ] 2025-01-02 22:03:51,851 Parameters: omega_lambda              = 0.6935\n",
      "yt : [INFO     ] 2025-01-02 22:03:51,853 Parameters: omega_matter              = 0.3065\n",
      "yt : [INFO     ] 2025-01-02 22:03:51,855 Parameters: omega_radiation           = 0.0\n",
      "yt : [INFO     ] 2025-01-02 22:03:51,857 Parameters: hubble_constant           = 0.679\n",
      " 62%|██████▎   | 130/208 [05:23<06:08,  4.73s/it]"
     ]
    },
    {
     "name": "stdout",
     "output_type": "stream",
     "text": [
      "OVERLAP DETECTED AT BRANCHES {'4', '4_8'}\n"
     ]
    },
    {
     "name": "stderr",
     "output_type": "stream",
     "text": [
      " 64%|██████▍   | 133/208 [05:28<03:29,  2.80s/it]yt : [INFO     ] 2025-01-02 22:04:00,724 Parameters: current_time              = 16.683859564245\n",
      "yt : [INFO     ] 2025-01-02 22:04:00,728 Parameters: domain_dimensions         = [256 256 256]\n",
      "yt : [INFO     ] 2025-01-02 22:04:00,731 Parameters: domain_left_edge          = [0. 0. 0.]\n",
      "yt : [INFO     ] 2025-01-02 22:04:00,734 Parameters: domain_right_edge         = [1. 1. 1.]\n",
      "yt : [INFO     ] 2025-01-02 22:04:00,736 Parameters: cosmological_simulation   = 1\n",
      "yt : [INFO     ] 2025-01-02 22:04:00,739 Parameters: current_redshift          = 12.512060262453\n",
      "yt : [INFO     ] 2025-01-02 22:04:00,742 Parameters: omega_lambda              = 0.6935\n",
      "yt : [INFO     ] 2025-01-02 22:04:00,745 Parameters: omega_matter              = 0.3065\n",
      "yt : [INFO     ] 2025-01-02 22:04:00,748 Parameters: omega_radiation           = 0.0\n",
      "yt : [INFO     ] 2025-01-02 22:04:00,751 Parameters: hubble_constant           = 0.679\n",
      " 64%|██████▍   | 134/208 [05:31<03:38,  2.95s/it]"
     ]
    },
    {
     "name": "stdout",
     "output_type": "stream",
     "text": [
      "OVERLAP DETECTED AT BRANCHES {'4', '4_8'}\n"
     ]
    },
    {
     "name": "stderr",
     "output_type": "stream",
     "text": [
      " 66%|██████▌   | 137/208 [05:39<03:02,  2.57s/it]yt : [INFO     ] 2025-01-02 22:04:08,646 Parameters: current_time              = 16.875032364245\n",
      "yt : [INFO     ] 2025-01-02 22:04:08,648 Parameters: domain_dimensions         = [256 256 256]\n",
      "yt : [INFO     ] 2025-01-02 22:04:08,649 Parameters: domain_left_edge          = [0. 0. 0.]\n",
      "yt : [INFO     ] 2025-01-02 22:04:08,651 Parameters: domain_right_edge         = [1. 1. 1.]\n",
      "yt : [INFO     ] 2025-01-02 22:04:08,652 Parameters: cosmological_simulation   = 1\n",
      "yt : [INFO     ] 2025-01-02 22:04:08,654 Parameters: current_redshift          = 12.40978540168\n",
      "yt : [INFO     ] 2025-01-02 22:04:08,655 Parameters: omega_lambda              = 0.6935\n",
      "yt : [INFO     ] 2025-01-02 22:04:08,657 Parameters: omega_matter              = 0.3065\n",
      "yt : [INFO     ] 2025-01-02 22:04:08,658 Parameters: omega_radiation           = 0.0\n",
      "yt : [INFO     ] 2025-01-02 22:04:08,660 Parameters: hubble_constant           = 0.679\n",
      " 66%|██████▋   | 138/208 [05:39<02:15,  1.93s/it]"
     ]
    },
    {
     "name": "stdout",
     "output_type": "stream",
     "text": [
      "OVERLAP DETECTED AT BRANCHES {'4_7', '4'}\n"
     ]
    },
    {
     "name": "stderr",
     "output_type": "stream",
     "text": [
      "yt : [INFO     ] 2025-01-02 22:04:15,783 Parameters: current_time              = 16.922825564245\n",
      "yt : [INFO     ] 2025-01-02 22:04:15,785 Parameters: domain_dimensions         = [256 256 256]\n",
      "yt : [INFO     ] 2025-01-02 22:04:15,787 Parameters: domain_left_edge          = [0. 0. 0.]\n",
      "yt : [INFO     ] 2025-01-02 22:04:15,788 Parameters: domain_right_edge         = [1. 1. 1.]\n",
      "yt : [INFO     ] 2025-01-02 22:04:15,790 Parameters: cosmological_simulation   = 1\n",
      "yt : [INFO     ] 2025-01-02 22:04:15,791 Parameters: current_redshift          = 12.384517775072\n",
      "yt : [INFO     ] 2025-01-02 22:04:15,793 Parameters: omega_lambda              = 0.6935\n",
      "yt : [INFO     ] 2025-01-02 22:04:15,794 Parameters: omega_matter              = 0.3065\n",
      "yt : [INFO     ] 2025-01-02 22:04:15,796 Parameters: omega_radiation           = 0.0\n",
      "yt : [INFO     ] 2025-01-02 22:04:15,797 Parameters: hubble_constant           = 0.679\n",
      " 67%|██████▋   | 139/208 [05:46<04:02,  3.51s/it]"
     ]
    },
    {
     "name": "stdout",
     "output_type": "stream",
     "text": [
      "OVERLAP DETECTED AT BRANCHES {'4_7_0', '4_7', '4'}\n"
     ]
    },
    {
     "name": "stderr",
     "output_type": "stream",
     "text": [
      "yt : [INFO     ] 2025-01-02 22:04:22,773 Parameters: current_time              = 16.970618764245\n",
      "yt : [INFO     ] 2025-01-02 22:04:22,776 Parameters: domain_dimensions         = [256 256 256]\n",
      "yt : [INFO     ] 2025-01-02 22:04:22,778 Parameters: domain_left_edge          = [0. 0. 0.]\n",
      "yt : [INFO     ] 2025-01-02 22:04:22,780 Parameters: domain_right_edge         = [1. 1. 1.]\n",
      "yt : [INFO     ] 2025-01-02 22:04:22,782 Parameters: cosmological_simulation   = 1\n",
      "yt : [INFO     ] 2025-01-02 22:04:22,784 Parameters: current_redshift          = 12.359368773632\n",
      "yt : [INFO     ] 2025-01-02 22:04:22,786 Parameters: omega_lambda              = 0.6935\n",
      "yt : [INFO     ] 2025-01-02 22:04:22,788 Parameters: omega_matter              = 0.3065\n",
      "yt : [INFO     ] 2025-01-02 22:04:22,790 Parameters: omega_radiation           = 0.0\n",
      "yt : [INFO     ] 2025-01-02 22:04:22,792 Parameters: hubble_constant           = 0.679\n",
      " 67%|██████▋   | 140/208 [05:54<05:13,  4.61s/it]"
     ]
    },
    {
     "name": "stdout",
     "output_type": "stream",
     "text": [
      "OVERLAP DETECTED AT BRANCHES {'4_7', '4'}\n"
     ]
    },
    {
     "name": "stderr",
     "output_type": "stream",
     "text": [
      "yt : [INFO     ] 2025-01-02 22:04:27,616 Parameters: current_time              = 17.018411964245\n",
      "yt : [INFO     ] 2025-01-02 22:04:27,619 Parameters: domain_dimensions         = [256 256 256]\n",
      "yt : [INFO     ] 2025-01-02 22:04:27,621 Parameters: domain_left_edge          = [0. 0. 0.]\n",
      "yt : [INFO     ] 2025-01-02 22:04:27,623 Parameters: domain_right_edge         = [1. 1. 1.]\n",
      "yt : [INFO     ] 2025-01-02 22:04:27,626 Parameters: cosmological_simulation   = 1\n",
      "yt : [INFO     ] 2025-01-02 22:04:27,628 Parameters: current_redshift          = 12.33433750855\n",
      "yt : [INFO     ] 2025-01-02 22:04:27,629 Parameters: omega_lambda              = 0.6935\n",
      "yt : [INFO     ] 2025-01-02 22:04:27,631 Parameters: omega_matter              = 0.3065\n",
      "yt : [INFO     ] 2025-01-02 22:04:27,633 Parameters: omega_radiation           = 0.0\n",
      "yt : [INFO     ] 2025-01-02 22:04:27,635 Parameters: hubble_constant           = 0.679\n",
      " 68%|██████▊   | 141/208 [05:58<05:08,  4.61s/it]"
     ]
    },
    {
     "name": "stdout",
     "output_type": "stream",
     "text": [
      "OVERLAP DETECTED AT BRANCHES {'3', '3_8'}\n"
     ]
    },
    {
     "name": "stderr",
     "output_type": "stream",
     "text": [
      "yt : [INFO     ] 2025-01-02 22:04:29,779 Parameters: current_time              = 17.066205164245\n",
      "yt : [INFO     ] 2025-01-02 22:04:29,781 Parameters: domain_dimensions         = [256 256 256]\n",
      "yt : [INFO     ] 2025-01-02 22:04:29,783 Parameters: domain_left_edge          = [0. 0. 0.]\n",
      "yt : [INFO     ] 2025-01-02 22:04:29,785 Parameters: domain_right_edge         = [1. 1. 1.]\n",
      "yt : [INFO     ] 2025-01-02 22:04:29,787 Parameters: cosmological_simulation   = 1\n",
      "yt : [INFO     ] 2025-01-02 22:04:29,789 Parameters: current_redshift          = 12.309423100143\n",
      "yt : [INFO     ] 2025-01-02 22:04:29,791 Parameters: omega_lambda              = 0.6935\n",
      "yt : [INFO     ] 2025-01-02 22:04:29,793 Parameters: omega_matter              = 0.3065\n",
      "yt : [INFO     ] 2025-01-02 22:04:29,795 Parameters: omega_radiation           = 0.0\n",
      "yt : [INFO     ] 2025-01-02 22:04:29,797 Parameters: hubble_constant           = 0.679\n",
      " 68%|██████▊   | 142/208 [06:00<04:18,  3.91s/it]"
     ]
    },
    {
     "name": "stdout",
     "output_type": "stream",
     "text": [
      "OVERLAP DETECTED AT BRANCHES {'3', '3_8'}\n"
     ]
    },
    {
     "name": "stderr",
     "output_type": "stream",
     "text": [
      " 70%|██████▉   | 145/208 [06:07<02:39,  2.54s/it]yt : [INFO     ] 2025-01-02 22:04:40,478 Parameters: current_time              = 17.257377964245\n",
      "yt : [INFO     ] 2025-01-02 22:04:40,480 Parameters: domain_dimensions         = [256 256 256]\n",
      "yt : [INFO     ] 2025-01-02 22:04:40,481 Parameters: domain_left_edge          = [0. 0. 0.]\n",
      "yt : [INFO     ] 2025-01-02 22:04:40,483 Parameters: domain_right_edge         = [1. 1. 1.]\n",
      "yt : [INFO     ] 2025-01-02 22:04:40,485 Parameters: cosmological_simulation   = 1\n",
      "yt : [INFO     ] 2025-01-02 22:04:40,486 Parameters: current_redshift          = 12.210916752618\n",
      "yt : [INFO     ] 2025-01-02 22:04:40,488 Parameters: omega_lambda              = 0.6935\n",
      "yt : [INFO     ] 2025-01-02 22:04:40,489 Parameters: omega_matter              = 0.3065\n",
      "yt : [INFO     ] 2025-01-02 22:04:40,490 Parameters: omega_radiation           = 0.0\n",
      "yt : [INFO     ] 2025-01-02 22:04:40,492 Parameters: hubble_constant           = 0.679\n",
      " 70%|███████   | 146/208 [06:11<03:09,  3.06s/it]"
     ]
    },
    {
     "name": "stdout",
     "output_type": "stream",
     "text": [
      "OVERLAP DETECTED AT BRANCHES {'6', '6_4'}\n"
     ]
    },
    {
     "name": "stderr",
     "output_type": "stream",
     "text": [
      "yt : [INFO     ] 2025-01-02 22:04:43,379 Parameters: current_time              = 17.305171164245\n",
      "yt : [INFO     ] 2025-01-02 22:04:43,381 Parameters: domain_dimensions         = [256 256 256]\n",
      "yt : [INFO     ] 2025-01-02 22:04:43,383 Parameters: domain_left_edge          = [0. 0. 0.]\n",
      "yt : [INFO     ] 2025-01-02 22:04:43,386 Parameters: domain_right_edge         = [1. 1. 1.]\n",
      "yt : [INFO     ] 2025-01-02 22:04:43,388 Parameters: cosmological_simulation   = 1\n",
      "yt : [INFO     ] 2025-01-02 22:04:43,390 Parameters: current_redshift          = 12.186573743727\n",
      "yt : [INFO     ] 2025-01-02 22:04:43,392 Parameters: omega_lambda              = 0.6935\n",
      "yt : [INFO     ] 2025-01-02 22:04:43,393 Parameters: omega_matter              = 0.3065\n",
      "yt : [INFO     ] 2025-01-02 22:04:43,395 Parameters: omega_radiation           = 0.0\n",
      "yt : [INFO     ] 2025-01-02 22:04:43,397 Parameters: hubble_constant           = 0.679\n",
      " 71%|███████   | 147/208 [06:14<03:06,  3.06s/it]"
     ]
    },
    {
     "name": "stdout",
     "output_type": "stream",
     "text": [
      "OVERLAP DETECTED AT BRANCHES {'6', '6_4'}\n"
     ]
    },
    {
     "name": "stderr",
     "output_type": "stream",
     "text": [
      " 72%|███████▏  | 149/208 [06:18<02:23,  2.44s/it]yt : [INFO     ] 2025-01-02 22:04:50,651 Parameters: current_time              = 17.448550764245\n",
      "yt : [INFO     ] 2025-01-02 22:04:50,654 Parameters: domain_dimensions         = [256 256 256]\n",
      "yt : [INFO     ] 2025-01-02 22:04:50,656 Parameters: domain_left_edge          = [0. 0. 0.]\n",
      "yt : [INFO     ] 2025-01-02 22:04:50,658 Parameters: domain_right_edge         = [1. 1. 1.]\n",
      "yt : [INFO     ] 2025-01-02 22:04:50,661 Parameters: cosmological_simulation   = 1\n",
      "yt : [INFO     ] 2025-01-02 22:04:50,662 Parameters: current_redshift          = 12.114212032114\n",
      "yt : [INFO     ] 2025-01-02 22:04:50,664 Parameters: omega_lambda              = 0.6935\n",
      "yt : [INFO     ] 2025-01-02 22:04:50,666 Parameters: omega_matter              = 0.3065\n",
      "yt : [INFO     ] 2025-01-02 22:04:50,668 Parameters: omega_radiation           = 0.0\n",
      "yt : [INFO     ] 2025-01-02 22:04:50,670 Parameters: hubble_constant           = 0.679\n",
      " 72%|███████▏  | 150/208 [06:21<02:38,  2.74s/it]"
     ]
    },
    {
     "name": "stdout",
     "output_type": "stream",
     "text": [
      "OVERLAP DETECTED AT BRANCHES {'44', '5'}\n"
     ]
    },
    {
     "name": "stderr",
     "output_type": "stream",
     "text": [
      " 73%|███████▎  | 151/208 [06:25<02:56,  3.09s/it]yt : [INFO     ] 2025-01-02 22:04:56,551 Parameters: current_time              = 17.544137164245\n",
      "yt : [INFO     ] 2025-01-02 22:04:56,553 Parameters: domain_dimensions         = [256 256 256]\n",
      "yt : [INFO     ] 2025-01-02 22:04:56,554 Parameters: domain_left_edge          = [0. 0. 0.]\n",
      "yt : [INFO     ] 2025-01-02 22:04:56,556 Parameters: domain_right_edge         = [1. 1. 1.]\n",
      "yt : [INFO     ] 2025-01-02 22:04:56,558 Parameters: cosmological_simulation   = 1\n",
      "yt : [INFO     ] 2025-01-02 22:04:56,559 Parameters: current_redshift          = 12.06651889921\n",
      "yt : [INFO     ] 2025-01-02 22:04:56,561 Parameters: omega_lambda              = 0.6935\n",
      "yt : [INFO     ] 2025-01-02 22:04:56,562 Parameters: omega_matter              = 0.3065\n",
      "yt : [INFO     ] 2025-01-02 22:04:56,564 Parameters: omega_radiation           = 0.0\n",
      "yt : [INFO     ] 2025-01-02 22:04:56,565 Parameters: hubble_constant           = 0.679\n",
      " 73%|███████▎  | 152/208 [06:27<02:32,  2.73s/it]"
     ]
    },
    {
     "name": "stdout",
     "output_type": "stream",
     "text": [
      "OVERLAP DETECTED AT BRANCHES {'1', '1_15'}\n"
     ]
    },
    {
     "name": "stderr",
     "output_type": "stream",
     "text": [
      "yt : [INFO     ] 2025-01-02 22:05:04,594 Parameters: current_time              = 17.591930364245\n",
      "yt : [INFO     ] 2025-01-02 22:05:04,596 Parameters: domain_dimensions         = [256 256 256]\n",
      "yt : [INFO     ] 2025-01-02 22:05:04,597 Parameters: domain_left_edge          = [0. 0. 0.]\n",
      "yt : [INFO     ] 2025-01-02 22:05:04,599 Parameters: domain_right_edge         = [1. 1. 1.]\n",
      "yt : [INFO     ] 2025-01-02 22:05:04,600 Parameters: cosmological_simulation   = 1\n",
      "yt : [INFO     ] 2025-01-02 22:05:04,602 Parameters: current_redshift          = 12.042834351225\n",
      "yt : [INFO     ] 2025-01-02 22:05:04,604 Parameters: omega_lambda              = 0.6935\n",
      "yt : [INFO     ] 2025-01-02 22:05:04,605 Parameters: omega_matter              = 0.3065\n",
      "yt : [INFO     ] 2025-01-02 22:05:04,606 Parameters: omega_radiation           = 0.0\n",
      "yt : [INFO     ] 2025-01-02 22:05:04,608 Parameters: hubble_constant           = 0.679\n",
      " 74%|███████▎  | 153/208 [06:35<03:57,  4.32s/it]"
     ]
    },
    {
     "name": "stdout",
     "output_type": "stream",
     "text": [
      "OVERLAP DETECTED AT BRANCHES {'0_2_0', '1', '1_15', '0_2'}\n"
     ]
    },
    {
     "name": "stderr",
     "output_type": "stream",
     "text": [
      "yt : [INFO     ] 2025-01-02 22:05:07,851 Parameters: current_time              = 17.639723564245\n",
      "yt : [INFO     ] 2025-01-02 22:05:07,853 Parameters: domain_dimensions         = [256 256 256]\n",
      "yt : [INFO     ] 2025-01-02 22:05:07,855 Parameters: domain_left_edge          = [0. 0. 0.]\n",
      "yt : [INFO     ] 2025-01-02 22:05:07,857 Parameters: domain_right_edge         = [1. 1. 1.]\n",
      "yt : [INFO     ] 2025-01-02 22:05:07,859 Parameters: cosmological_simulation   = 1\n",
      "yt : [INFO     ] 2025-01-02 22:05:07,861 Parameters: current_redshift          = 12.019256774436\n",
      "yt : [INFO     ] 2025-01-02 22:05:07,863 Parameters: omega_lambda              = 0.6935\n",
      "yt : [INFO     ] 2025-01-02 22:05:07,864 Parameters: omega_matter              = 0.3065\n",
      "yt : [INFO     ] 2025-01-02 22:05:07,866 Parameters: omega_radiation           = 0.0\n",
      "yt : [INFO     ] 2025-01-02 22:05:07,868 Parameters: hubble_constant           = 0.679\n",
      " 74%|███████▍  | 154/208 [06:39<03:39,  4.07s/it]"
     ]
    },
    {
     "name": "stdout",
     "output_type": "stream",
     "text": [
      "OVERLAP DETECTED AT BRANCHES {'44', '1_15', '5', '1'}\n"
     ]
    },
    {
     "name": "stderr",
     "output_type": "stream",
     "text": [
      "yt : [INFO     ] 2025-01-02 22:05:08,822 Parameters: current_time              = 17.687516764245\n",
      "yt : [INFO     ] 2025-01-02 22:05:08,824 Parameters: domain_dimensions         = [256 256 256]\n",
      "yt : [INFO     ] 2025-01-02 22:05:08,826 Parameters: domain_left_edge          = [0. 0. 0.]\n",
      "yt : [INFO     ] 2025-01-02 22:05:08,828 Parameters: domain_right_edge         = [1. 1. 1.]\n",
      "yt : [INFO     ] 2025-01-02 22:05:08,830 Parameters: cosmological_simulation   = 1\n",
      "yt : [INFO     ] 2025-01-02 22:05:08,832 Parameters: current_redshift          = 11.995785397681\n",
      "yt : [INFO     ] 2025-01-02 22:05:08,834 Parameters: omega_lambda              = 0.6935\n",
      "yt : [INFO     ] 2025-01-02 22:05:08,836 Parameters: omega_matter              = 0.3065\n",
      "yt : [INFO     ] 2025-01-02 22:05:08,838 Parameters: omega_radiation           = 0.0\n",
      "yt : [INFO     ] 2025-01-02 22:05:08,840 Parameters: hubble_constant           = 0.679\n",
      " 75%|███████▍  | 155/208 [06:39<02:42,  3.07s/it]"
     ]
    },
    {
     "name": "stdout",
     "output_type": "stream",
     "text": [
      "OVERLAP DETECTED AT BRANCHES {'0_24', '0'}\n"
     ]
    },
    {
     "name": "stderr",
     "output_type": "stream",
     "text": [
      "yt : [INFO     ] 2025-01-02 22:05:12,641 Parameters: current_time              = 17.735309964245\n",
      "yt : [INFO     ] 2025-01-02 22:05:12,643 Parameters: domain_dimensions         = [256 256 256]\n",
      "yt : [INFO     ] 2025-01-02 22:05:12,645 Parameters: domain_left_edge          = [0. 0. 0.]\n",
      "yt : [INFO     ] 2025-01-02 22:05:12,647 Parameters: domain_right_edge         = [1. 1. 1.]\n",
      "yt : [INFO     ] 2025-01-02 22:05:12,648 Parameters: cosmological_simulation   = 1\n",
      "yt : [INFO     ] 2025-01-02 22:05:12,650 Parameters: current_redshift          = 11.972419457422\n",
      "yt : [INFO     ] 2025-01-02 22:05:12,651 Parameters: omega_lambda              = 0.6935\n",
      "yt : [INFO     ] 2025-01-02 22:05:12,653 Parameters: omega_matter              = 0.3065\n",
      "yt : [INFO     ] 2025-01-02 22:05:12,654 Parameters: omega_radiation           = 0.0\n",
      "yt : [INFO     ] 2025-01-02 22:05:12,656 Parameters: hubble_constant           = 0.679\n",
      " 75%|███████▌  | 156/208 [06:43<02:50,  3.29s/it]"
     ]
    },
    {
     "name": "stdout",
     "output_type": "stream",
     "text": [
      "OVERLAP DETECTED AT BRANCHES {'0_24', '0'}\n"
     ]
    },
    {
     "name": "stderr",
     "output_type": "stream",
     "text": [
      "yt : [INFO     ] 2025-01-02 22:05:19,177 Parameters: current_time              = 17.783103164245\n",
      "yt : [INFO     ] 2025-01-02 22:05:19,179 Parameters: domain_dimensions         = [256 256 256]\n",
      "yt : [INFO     ] 2025-01-02 22:05:19,181 Parameters: domain_left_edge          = [0. 0. 0.]\n",
      "yt : [INFO     ] 2025-01-02 22:05:19,183 Parameters: domain_right_edge         = [1. 1. 1.]\n",
      "yt : [INFO     ] 2025-01-02 22:05:19,184 Parameters: cosmological_simulation   = 1\n",
      "yt : [INFO     ] 2025-01-02 22:05:19,186 Parameters: current_redshift          = 11.949158197647\n",
      "yt : [INFO     ] 2025-01-02 22:05:19,187 Parameters: omega_lambda              = 0.6935\n",
      "yt : [INFO     ] 2025-01-02 22:05:19,189 Parameters: omega_matter              = 0.3065\n",
      "yt : [INFO     ] 2025-01-02 22:05:19,190 Parameters: omega_radiation           = 0.0\n",
      "yt : [INFO     ] 2025-01-02 22:05:19,191 Parameters: hubble_constant           = 0.679\n",
      " 75%|███████▌  | 157/208 [06:50<03:45,  4.41s/it]"
     ]
    },
    {
     "name": "stdout",
     "output_type": "stream",
     "text": [
      "OVERLAP DETECTED AT BRANCHES {'44', '0_24', '5', '0'}\n"
     ]
    },
    {
     "name": "stderr",
     "output_type": "stream",
     "text": [
      "yt : [INFO     ] 2025-01-02 22:05:27,135 Parameters: current_time              = 17.830896364245\n",
      "yt : [INFO     ] 2025-01-02 22:05:27,137 Parameters: domain_dimensions         = [256 256 256]\n",
      "yt : [INFO     ] 2025-01-02 22:05:27,140 Parameters: domain_left_edge          = [0. 0. 0.]\n",
      "yt : [INFO     ] 2025-01-02 22:05:27,142 Parameters: domain_right_edge         = [1. 1. 1.]\n",
      "yt : [INFO     ] 2025-01-02 22:05:27,144 Parameters: cosmological_simulation   = 1\n",
      "yt : [INFO     ] 2025-01-02 22:05:27,146 Parameters: current_redshift          = 11.926000869779\n",
      "yt : [INFO     ] 2025-01-02 22:05:27,148 Parameters: omega_lambda              = 0.6935\n",
      "yt : [INFO     ] 2025-01-02 22:05:27,150 Parameters: omega_matter              = 0.3065\n",
      "yt : [INFO     ] 2025-01-02 22:05:27,152 Parameters: omega_radiation           = 0.0\n",
      "yt : [INFO     ] 2025-01-02 22:05:27,154 Parameters: hubble_constant           = 0.679\n",
      " 76%|███████▌  | 158/208 [06:58<04:28,  5.38s/it]"
     ]
    },
    {
     "name": "stdout",
     "output_type": "stream",
     "text": [
      "OVERLAP DETECTED AT BRANCHES {'0_24', '0'}\n"
     ]
    },
    {
     "name": "stderr",
     "output_type": "stream",
     "text": [
      "yt : [INFO     ] 2025-01-02 22:05:29,873 Parameters: current_time              = 17.878689564245\n",
      "yt : [INFO     ] 2025-01-02 22:05:29,876 Parameters: domain_dimensions         = [256 256 256]\n",
      "yt : [INFO     ] 2025-01-02 22:05:29,878 Parameters: domain_left_edge          = [0. 0. 0.]\n",
      "yt : [INFO     ] 2025-01-02 22:05:29,880 Parameters: domain_right_edge         = [1. 1. 1.]\n",
      "yt : [INFO     ] 2025-01-02 22:05:29,882 Parameters: cosmological_simulation   = 1\n",
      "yt : [INFO     ] 2025-01-02 22:05:29,884 Parameters: current_redshift          = 11.902946732583\n",
      "yt : [INFO     ] 2025-01-02 22:05:29,886 Parameters: omega_lambda              = 0.6935\n",
      "yt : [INFO     ] 2025-01-02 22:05:29,888 Parameters: omega_matter              = 0.3065\n",
      "yt : [INFO     ] 2025-01-02 22:05:29,890 Parameters: omega_radiation           = 0.0\n",
      "yt : [INFO     ] 2025-01-02 22:05:29,892 Parameters: hubble_constant           = 0.679\n",
      " 76%|███████▋  | 159/208 [07:00<03:42,  4.54s/it]"
     ]
    },
    {
     "name": "stdout",
     "output_type": "stream",
     "text": [
      "OVERLAP DETECTED AT BRANCHES {'3', '3_8', '0_24', '0'}\n"
     ]
    },
    {
     "name": "stderr",
     "output_type": "stream",
     "text": [
      "yt : [INFO     ] 2025-01-02 22:05:33,114 Parameters: current_time              = 17.926482764245\n",
      "yt : [INFO     ] 2025-01-02 22:05:33,117 Parameters: domain_dimensions         = [256 256 256]\n",
      "yt : [INFO     ] 2025-01-02 22:05:33,119 Parameters: domain_left_edge          = [0. 0. 0.]\n",
      "yt : [INFO     ] 2025-01-02 22:05:33,121 Parameters: domain_right_edge         = [1. 1. 1.]\n",
      "yt : [INFO     ] 2025-01-02 22:05:33,123 Parameters: cosmological_simulation   = 1\n",
      "yt : [INFO     ] 2025-01-02 22:05:33,125 Parameters: current_redshift          = 11.879995052069\n",
      "yt : [INFO     ] 2025-01-02 22:05:33,127 Parameters: omega_lambda              = 0.6935\n",
      "yt : [INFO     ] 2025-01-02 22:05:33,129 Parameters: omega_matter              = 0.3065\n",
      "yt : [INFO     ] 2025-01-02 22:05:33,131 Parameters: omega_radiation           = 0.0\n",
      "yt : [INFO     ] 2025-01-02 22:05:33,133 Parameters: hubble_constant           = 0.679\n",
      " 77%|███████▋  | 160/208 [07:04<03:20,  4.17s/it]"
     ]
    },
    {
     "name": "stdout",
     "output_type": "stream",
     "text": [
      "OVERLAP DETECTED AT BRANCHES {'0_24', '0_2', '0_4', '0', '0_21'}\n"
     ]
    },
    {
     "name": "stderr",
     "output_type": "stream",
     "text": [
      "yt : [INFO     ] 2025-01-02 22:05:36,579 Parameters: current_time              = 17.974275964245\n",
      "yt : [INFO     ] 2025-01-02 22:05:36,582 Parameters: domain_dimensions         = [256 256 256]\n",
      "yt : [INFO     ] 2025-01-02 22:05:36,584 Parameters: domain_left_edge          = [0. 0. 0.]\n",
      "yt : [INFO     ] 2025-01-02 22:05:36,586 Parameters: domain_right_edge         = [1. 1. 1.]\n",
      "yt : [INFO     ] 2025-01-02 22:05:36,588 Parameters: cosmological_simulation   = 1\n",
      "yt : [INFO     ] 2025-01-02 22:05:36,590 Parameters: current_redshift          = 11.85714510141\n",
      "yt : [INFO     ] 2025-01-02 22:05:36,592 Parameters: omega_lambda              = 0.6935\n",
      "yt : [INFO     ] 2025-01-02 22:05:36,594 Parameters: omega_matter              = 0.3065\n",
      "yt : [INFO     ] 2025-01-02 22:05:36,596 Parameters: omega_radiation           = 0.0\n",
      "yt : [INFO     ] 2025-01-02 22:05:36,598 Parameters: hubble_constant           = 0.679\n",
      " 77%|███████▋  | 161/208 [07:07<03:09,  4.04s/it]"
     ]
    },
    {
     "name": "stdout",
     "output_type": "stream",
     "text": [
      "OVERLAP DETECTED AT BRANCHES {'3_8', '0_24', '3_7', '0_18', '3', '0', '0_4'}\n"
     ]
    },
    {
     "name": "stderr",
     "output_type": "stream",
     "text": [
      "yt : [INFO     ] 2025-01-02 22:05:41,163 Parameters: current_time              = 18.022069164245\n",
      "yt : [INFO     ] 2025-01-02 22:05:41,165 Parameters: domain_dimensions         = [256 256 256]\n",
      "yt : [INFO     ] 2025-01-02 22:05:41,167 Parameters: domain_left_edge          = [0. 0. 0.]\n",
      "yt : [INFO     ] 2025-01-02 22:05:41,169 Parameters: domain_right_edge         = [1. 1. 1.]\n",
      "yt : [INFO     ] 2025-01-02 22:05:41,170 Parameters: cosmological_simulation   = 1\n",
      "yt : [INFO     ] 2025-01-02 22:05:41,172 Parameters: current_redshift          = 11.834396160849\n",
      "yt : [INFO     ] 2025-01-02 22:05:41,173 Parameters: omega_lambda              = 0.6935\n",
      "yt : [INFO     ] 2025-01-02 22:05:41,174 Parameters: omega_matter              = 0.3065\n",
      "yt : [INFO     ] 2025-01-02 22:05:41,176 Parameters: omega_radiation           = 0.0\n",
      "yt : [INFO     ] 2025-01-02 22:05:41,177 Parameters: hubble_constant           = 0.679\n",
      " 78%|███████▊  | 162/208 [07:12<03:08,  4.09s/it]"
     ]
    },
    {
     "name": "stdout",
     "output_type": "stream",
     "text": [
      "OVERLAP DETECTED AT BRANCHES {'3_8', '0_24', '3_7', '3', '0', '0_4'}\n"
     ]
    },
    {
     "name": "stderr",
     "output_type": "stream",
     "text": [
      "yt : [INFO     ] 2025-01-02 22:05:46,658 Parameters: current_time              = 18.069862364245\n",
      "yt : [INFO     ] 2025-01-02 22:05:46,659 Parameters: domain_dimensions         = [256 256 256]\n",
      "yt : [INFO     ] 2025-01-02 22:05:46,659 Parameters: domain_left_edge          = [0. 0. 0.]\n",
      "yt : [INFO     ] 2025-01-02 22:05:46,660 Parameters: domain_right_edge         = [1. 1. 1.]\n",
      "yt : [INFO     ] 2025-01-02 22:05:46,661 Parameters: cosmological_simulation   = 1\n",
      "yt : [INFO     ] 2025-01-02 22:05:46,662 Parameters: current_redshift          = 11.811747517612\n",
      "yt : [INFO     ] 2025-01-02 22:05:46,662 Parameters: omega_lambda              = 0.6935\n",
      "yt : [INFO     ] 2025-01-02 22:05:46,663 Parameters: omega_matter              = 0.3065\n",
      "yt : [INFO     ] 2025-01-02 22:05:46,663 Parameters: omega_radiation           = 0.0\n",
      "yt : [INFO     ] 2025-01-02 22:05:46,664 Parameters: hubble_constant           = 0.679\n",
      " 78%|███████▊  | 163/208 [07:18<03:29,  4.65s/it]"
     ]
    },
    {
     "name": "stdout",
     "output_type": "stream",
     "text": [
      "OVERLAP DETECTED AT BRANCHES {'3_8', '1_15', '3_7', '3', '1', '1_10'}\n"
     ]
    },
    {
     "name": "stderr",
     "output_type": "stream",
     "text": [
      "yt : [INFO     ] 2025-01-02 22:05:49,021 Parameters: current_time              = 18.117655564245\n",
      "yt : [INFO     ] 2025-01-02 22:05:49,024 Parameters: domain_dimensions         = [256 256 256]\n",
      "yt : [INFO     ] 2025-01-02 22:05:49,026 Parameters: domain_left_edge          = [0. 0. 0.]\n",
      "yt : [INFO     ] 2025-01-02 22:05:49,028 Parameters: domain_right_edge         = [1. 1. 1.]\n",
      "yt : [INFO     ] 2025-01-02 22:05:49,030 Parameters: cosmological_simulation   = 1\n",
      "yt : [INFO     ] 2025-01-02 22:05:49,032 Parameters: current_redshift          = 11.789198465821\n",
      "yt : [INFO     ] 2025-01-02 22:05:49,034 Parameters: omega_lambda              = 0.6935\n",
      "yt : [INFO     ] 2025-01-02 22:05:49,036 Parameters: omega_matter              = 0.3065\n",
      "yt : [INFO     ] 2025-01-02 22:05:49,038 Parameters: omega_radiation           = 0.0\n",
      "yt : [INFO     ] 2025-01-02 22:05:49,040 Parameters: hubble_constant           = 0.679\n",
      " 79%|███████▉  | 164/208 [07:20<02:54,  3.96s/it]"
     ]
    },
    {
     "name": "stdout",
     "output_type": "stream",
     "text": [
      "OVERLAP DETECTED AT BRANCHES {'1_15', '3_7', '3', '1', '3_1', '1_10'}\n"
     ]
    },
    {
     "name": "stderr",
     "output_type": "stream",
     "text": [
      "yt : [INFO     ] 2025-01-02 22:05:57,101 Parameters: current_time              = 18.165448764245\n",
      "yt : [INFO     ] 2025-01-02 22:05:57,103 Parameters: domain_dimensions         = [256 256 256]\n",
      "yt : [INFO     ] 2025-01-02 22:05:57,106 Parameters: domain_left_edge          = [0. 0. 0.]\n",
      "yt : [INFO     ] 2025-01-02 22:05:57,108 Parameters: domain_right_edge         = [1. 1. 1.]\n",
      "yt : [INFO     ] 2025-01-02 22:05:57,110 Parameters: cosmological_simulation   = 1\n",
      "yt : [INFO     ] 2025-01-02 22:05:57,112 Parameters: current_redshift          = 11.766748306412\n",
      "yt : [INFO     ] 2025-01-02 22:05:57,114 Parameters: omega_lambda              = 0.6935\n",
      "yt : [INFO     ] 2025-01-02 22:05:57,116 Parameters: omega_matter              = 0.3065\n",
      "yt : [INFO     ] 2025-01-02 22:05:57,117 Parameters: omega_radiation           = 0.0\n",
      "yt : [INFO     ] 2025-01-02 22:05:57,119 Parameters: hubble_constant           = 0.679\n",
      " 79%|███████▉  | 165/208 [07:29<03:52,  5.41s/it]"
     ]
    },
    {
     "name": "stdout",
     "output_type": "stream",
     "text": [
      "OVERLAP DETECTED AT BRANCHES {'1_15', '3_7', '3', '1', '3_1', '1_10'}\n"
     ]
    },
    {
     "name": "stderr",
     "output_type": "stream",
     "text": [
      "yt : [INFO     ] 2025-01-02 22:06:00,819 Parameters: current_time              = 18.213241964245\n",
      "yt : [INFO     ] 2025-01-02 22:06:00,820 Parameters: domain_dimensions         = [256 256 256]\n",
      "yt : [INFO     ] 2025-01-02 22:06:00,821 Parameters: domain_left_edge          = [0. 0. 0.]\n",
      "yt : [INFO     ] 2025-01-02 22:06:00,822 Parameters: domain_right_edge         = [1. 1. 1.]\n",
      "yt : [INFO     ] 2025-01-02 22:06:00,823 Parameters: cosmological_simulation   = 1\n",
      "yt : [INFO     ] 2025-01-02 22:06:00,824 Parameters: current_redshift          = 11.744396347051\n",
      "yt : [INFO     ] 2025-01-02 22:06:00,825 Parameters: omega_lambda              = 0.6935\n",
      "yt : [INFO     ] 2025-01-02 22:06:00,825 Parameters: omega_matter              = 0.3065\n",
      "yt : [INFO     ] 2025-01-02 22:06:00,826 Parameters: omega_radiation           = 0.0\n",
      "yt : [INFO     ] 2025-01-02 22:06:00,827 Parameters: hubble_constant           = 0.679\n",
      " 80%|███████▉  | 166/208 [07:32<03:18,  4.73s/it]"
     ]
    },
    {
     "name": "stdout",
     "output_type": "stream",
     "text": [
      "OVERLAP DETECTED AT BRANCHES {'1', '0_16', '1_10', '0'}\n"
     ]
    },
    {
     "name": "stderr",
     "output_type": "stream",
     "text": [
      "yt : [INFO     ] 2025-01-02 22:06:05,530 Parameters: current_time              = 18.261035164245\n",
      "yt : [INFO     ] 2025-01-02 22:06:05,533 Parameters: domain_dimensions         = [256 256 256]\n",
      "yt : [INFO     ] 2025-01-02 22:06:05,535 Parameters: domain_left_edge          = [0. 0. 0.]\n",
      "yt : [INFO     ] 2025-01-02 22:06:05,537 Parameters: domain_right_edge         = [1. 1. 1.]\n",
      "yt : [INFO     ] 2025-01-02 22:06:05,539 Parameters: cosmological_simulation   = 1\n",
      "yt : [INFO     ] 2025-01-02 22:06:05,541 Parameters: current_redshift          = 11.722141902049\n",
      "yt : [INFO     ] 2025-01-02 22:06:05,543 Parameters: omega_lambda              = 0.6935\n",
      "yt : [INFO     ] 2025-01-02 22:06:05,545 Parameters: omega_matter              = 0.3065\n",
      "yt : [INFO     ] 2025-01-02 22:06:05,547 Parameters: omega_radiation           = 0.0\n",
      "yt : [INFO     ] 2025-01-02 22:06:05,549 Parameters: hubble_constant           = 0.679\n",
      " 80%|████████  | 167/208 [07:37<03:18,  4.83s/it]"
     ]
    },
    {
     "name": "stdout",
     "output_type": "stream",
     "text": [
      "OVERLAP DETECTED AT BRANCHES {'3_7', '5', '3', '1', '3_1', '0', '5_1', '0_16', '1_10'}\n"
     ]
    },
    {
     "name": "stderr",
     "output_type": "stream",
     "text": [
      "yt : [INFO     ] 2025-01-02 22:06:15,557 Parameters: current_time              = 18.308828364245\n",
      "yt : [INFO     ] 2025-01-02 22:06:15,560 Parameters: domain_dimensions         = [256 256 256]\n",
      "yt : [INFO     ] 2025-01-02 22:06:15,561 Parameters: domain_left_edge          = [0. 0. 0.]\n",
      "yt : [INFO     ] 2025-01-02 22:06:15,563 Parameters: domain_right_edge         = [1. 1. 1.]\n",
      "yt : [INFO     ] 2025-01-02 22:06:15,564 Parameters: cosmological_simulation   = 1\n",
      "yt : [INFO     ] 2025-01-02 22:06:15,566 Parameters: current_redshift          = 11.699984292285\n",
      "yt : [INFO     ] 2025-01-02 22:06:15,567 Parameters: omega_lambda              = 0.6935\n",
      "yt : [INFO     ] 2025-01-02 22:06:15,569 Parameters: omega_matter              = 0.3065\n",
      "yt : [INFO     ] 2025-01-02 22:06:15,570 Parameters: omega_radiation           = 0.0\n",
      "yt : [INFO     ] 2025-01-02 22:06:15,572 Parameters: hubble_constant           = 0.679\n",
      " 81%|████████  | 168/208 [07:46<04:06,  6.16s/it]"
     ]
    },
    {
     "name": "stdout",
     "output_type": "stream",
     "text": [
      "OVERLAP DETECTED AT BRANCHES {'3', '1', '3_1', '1_10'}\n"
     ]
    },
    {
     "name": "stderr",
     "output_type": "stream",
     "text": [
      "yt : [INFO     ] 2025-01-02 22:06:20,911 Parameters: current_time              = 18.356621564245\n",
      "yt : [INFO     ] 2025-01-02 22:06:20,914 Parameters: domain_dimensions         = [256 256 256]\n",
      "yt : [INFO     ] 2025-01-02 22:06:20,916 Parameters: domain_left_edge          = [0. 0. 0.]\n",
      "yt : [INFO     ] 2025-01-02 22:06:20,919 Parameters: domain_right_edge         = [1. 1. 1.]\n",
      "yt : [INFO     ] 2025-01-02 22:06:20,921 Parameters: cosmological_simulation   = 1\n",
      "yt : [INFO     ] 2025-01-02 22:06:20,923 Parameters: current_redshift          = 11.677922845122\n",
      "yt : [INFO     ] 2025-01-02 22:06:20,925 Parameters: omega_lambda              = 0.6935\n",
      "yt : [INFO     ] 2025-01-02 22:06:20,927 Parameters: omega_matter              = 0.3065\n",
      "yt : [INFO     ] 2025-01-02 22:06:20,928 Parameters: omega_radiation           = 0.0\n",
      "yt : [INFO     ] 2025-01-02 22:06:20,930 Parameters: hubble_constant           = 0.679\n",
      " 81%|████████▏ | 169/208 [07:52<03:54,  6.00s/it]"
     ]
    },
    {
     "name": "stdout",
     "output_type": "stream",
     "text": [
      "OVERLAP DETECTED AT BRANCHES {'3', '1', '3_1', '1_10'}\n"
     ]
    },
    {
     "name": "stderr",
     "output_type": "stream",
     "text": [
      "yt : [INFO     ] 2025-01-02 22:06:29,515 Parameters: current_time              = 18.404414764245\n",
      "yt : [INFO     ] 2025-01-02 22:06:29,517 Parameters: domain_dimensions         = [256 256 256]\n",
      "yt : [INFO     ] 2025-01-02 22:06:29,519 Parameters: domain_left_edge          = [0. 0. 0.]\n",
      "yt : [INFO     ] 2025-01-02 22:06:29,520 Parameters: domain_right_edge         = [1. 1. 1.]\n",
      "yt : [INFO     ] 2025-01-02 22:06:29,522 Parameters: cosmological_simulation   = 1\n",
      "yt : [INFO     ] 2025-01-02 22:06:29,523 Parameters: current_redshift          = 11.655956894331\n",
      "yt : [INFO     ] 2025-01-02 22:06:29,525 Parameters: omega_lambda              = 0.6935\n",
      "yt : [INFO     ] 2025-01-02 22:06:29,526 Parameters: omega_matter              = 0.3065\n",
      "yt : [INFO     ] 2025-01-02 22:06:29,528 Parameters: omega_radiation           = 0.0\n",
      "yt : [INFO     ] 2025-01-02 22:06:29,529 Parameters: hubble_constant           = 0.679\n",
      " 82%|████████▏ | 170/208 [08:01<04:22,  6.92s/it]"
     ]
    },
    {
     "name": "stdout",
     "output_type": "stream",
     "text": [
      "OVERLAP DETECTED AT BRANCHES {'3_6', '3', '1', '3_1', '1_10'}\n"
     ]
    },
    {
     "name": "stderr",
     "output_type": "stream",
     "text": [
      "yt : [INFO     ] 2025-01-02 22:06:34,685 Parameters: current_time              = 18.452207964245\n",
      "yt : [INFO     ] 2025-01-02 22:06:34,687 Parameters: domain_dimensions         = [256 256 256]\n",
      "yt : [INFO     ] 2025-01-02 22:06:34,689 Parameters: domain_left_edge          = [0. 0. 0.]\n",
      "yt : [INFO     ] 2025-01-02 22:06:34,690 Parameters: domain_right_edge         = [1. 1. 1.]\n",
      "yt : [INFO     ] 2025-01-02 22:06:34,692 Parameters: cosmological_simulation   = 1\n",
      "yt : [INFO     ] 2025-01-02 22:06:34,694 Parameters: current_redshift          = 11.634085780014\n",
      "yt : [INFO     ] 2025-01-02 22:06:34,695 Parameters: omega_lambda              = 0.6935\n",
      "yt : [INFO     ] 2025-01-02 22:06:34,696 Parameters: omega_matter              = 0.3065\n",
      "yt : [INFO     ] 2025-01-02 22:06:34,698 Parameters: omega_radiation           = 0.0\n",
      "yt : [INFO     ] 2025-01-02 22:06:34,699 Parameters: hubble_constant           = 0.679\n",
      " 82%|████████▏ | 171/208 [08:06<03:55,  6.37s/it]"
     ]
    },
    {
     "name": "stdout",
     "output_type": "stream",
     "text": [
      "OVERLAP DETECTED AT BRANCHES {'6', '5', '0_18', '3_6', '3', '1', '3_1', '5_1', '0', '6_2', '0_19', '0_16', '1_10'}\n"
     ]
    },
    {
     "name": "stderr",
     "output_type": "stream",
     "text": [
      "yt : [INFO     ] 2025-01-02 22:06:43,828 Parameters: current_time              = 18.500001164245\n",
      "yt : [INFO     ] 2025-01-02 22:06:43,830 Parameters: domain_dimensions         = [256 256 256]\n",
      "yt : [INFO     ] 2025-01-02 22:06:43,832 Parameters: domain_left_edge          = [0. 0. 0.]\n",
      "yt : [INFO     ] 2025-01-02 22:06:43,834 Parameters: domain_right_edge         = [1. 1. 1.]\n",
      "yt : [INFO     ] 2025-01-02 22:06:43,835 Parameters: cosmological_simulation   = 1\n",
      "yt : [INFO     ] 2025-01-02 22:06:43,837 Parameters: current_redshift          = 11.612308848527\n",
      "yt : [INFO     ] 2025-01-02 22:06:43,838 Parameters: omega_lambda              = 0.6935\n",
      "yt : [INFO     ] 2025-01-02 22:06:43,840 Parameters: omega_matter              = 0.3065\n",
      "yt : [INFO     ] 2025-01-02 22:06:43,841 Parameters: omega_radiation           = 0.0\n",
      "yt : [INFO     ] 2025-01-02 22:06:43,842 Parameters: hubble_constant           = 0.679\n",
      " 83%|████████▎ | 172/208 [08:15<04:15,  7.09s/it]"
     ]
    },
    {
     "name": "stdout",
     "output_type": "stream",
     "text": [
      "OVERLAP DETECTED AT BRANCHES {'0_18', '3', '1', '3_1', '0', '8_1', '8_2', '0_16', '0_19', '8', '1_10'}\n"
     ]
    },
    {
     "name": "stderr",
     "output_type": "stream",
     "text": [
      "yt : [INFO     ] 2025-01-02 22:06:50,618 Parameters: current_time              = 18.547794364245\n",
      "yt : [INFO     ] 2025-01-02 22:06:50,621 Parameters: domain_dimensions         = [256 256 256]\n",
      "yt : [INFO     ] 2025-01-02 22:06:50,623 Parameters: domain_left_edge          = [0. 0. 0.]\n",
      "yt : [INFO     ] 2025-01-02 22:06:50,625 Parameters: domain_right_edge         = [1. 1. 1.]\n",
      "yt : [INFO     ] 2025-01-02 22:06:50,627 Parameters: cosmological_simulation   = 1\n",
      "yt : [INFO     ] 2025-01-02 22:06:50,629 Parameters: current_redshift          = 11.590625452402\n",
      "yt : [INFO     ] 2025-01-02 22:06:50,631 Parameters: omega_lambda              = 0.6935\n",
      "yt : [INFO     ] 2025-01-02 22:06:50,633 Parameters: omega_matter              = 0.3065\n",
      "yt : [INFO     ] 2025-01-02 22:06:50,635 Parameters: omega_radiation           = 0.0\n",
      "yt : [INFO     ] 2025-01-02 22:06:50,637 Parameters: hubble_constant           = 0.679\n",
      " 83%|████████▎ | 173/208 [08:22<04:13,  7.25s/it]"
     ]
    },
    {
     "name": "stdout",
     "output_type": "stream",
     "text": [
      "OVERLAP DETECTED AT BRANCHES {'0_18', '3', '3_1', '0', '0_16', '0_19'}\n"
     ]
    },
    {
     "name": "stderr",
     "output_type": "stream",
     "text": [
      "yt : [INFO     ] 2025-01-02 22:06:54,220 Parameters: current_time              = 18.595587564245\n",
      "yt : [INFO     ] 2025-01-02 22:06:54,222 Parameters: domain_dimensions         = [256 256 256]\n",
      "yt : [INFO     ] 2025-01-02 22:06:54,224 Parameters: domain_left_edge          = [0. 0. 0.]\n",
      "yt : [INFO     ] 2025-01-02 22:06:54,226 Parameters: domain_right_edge         = [1. 1. 1.]\n",
      "yt : [INFO     ] 2025-01-02 22:06:54,228 Parameters: cosmological_simulation   = 1\n",
      "yt : [INFO     ] 2025-01-02 22:06:54,230 Parameters: current_redshift          = 11.569034950277\n",
      "yt : [INFO     ] 2025-01-02 22:06:54,232 Parameters: omega_lambda              = 0.6935\n",
      "yt : [INFO     ] 2025-01-02 22:06:54,234 Parameters: omega_matter              = 0.3065\n",
      "yt : [INFO     ] 2025-01-02 22:06:54,236 Parameters: omega_radiation           = 0.0\n",
      "yt : [INFO     ] 2025-01-02 22:06:54,238 Parameters: hubble_constant           = 0.679\n",
      " 84%|████████▎ | 174/208 [08:25<03:17,  5.79s/it]"
     ]
    },
    {
     "name": "stdout",
     "output_type": "stream",
     "text": [
      "OVERLAP DETECTED AT BRANCHES {'0_18', '3', '3_1', '0', '0_16', '0_19'}\n"
     ]
    },
    {
     "name": "stderr",
     "output_type": "stream",
     "text": [
      "yt : [INFO     ] 2025-01-02 22:06:57,848 Parameters: current_time              = 18.643380764245\n",
      "yt : [INFO     ] 2025-01-02 22:06:57,850 Parameters: domain_dimensions         = [256 256 256]\n",
      "yt : [INFO     ] 2025-01-02 22:06:57,852 Parameters: domain_left_edge          = [0. 0. 0.]\n",
      "yt : [INFO     ] 2025-01-02 22:06:57,853 Parameters: domain_right_edge         = [1. 1. 1.]\n",
      "yt : [INFO     ] 2025-01-02 22:06:57,855 Parameters: cosmological_simulation   = 1\n",
      "yt : [INFO     ] 2025-01-02 22:06:57,856 Parameters: current_redshift          = 11.547536706822\n",
      "yt : [INFO     ] 2025-01-02 22:06:57,858 Parameters: omega_lambda              = 0.6935\n",
      "yt : [INFO     ] 2025-01-02 22:06:57,859 Parameters: omega_matter              = 0.3065\n",
      "yt : [INFO     ] 2025-01-02 22:06:57,861 Parameters: omega_radiation           = 0.0\n",
      "yt : [INFO     ] 2025-01-02 22:06:57,862 Parameters: hubble_constant           = 0.679\n",
      " 84%|████████▍ | 175/208 [08:29<02:50,  5.18s/it]"
     ]
    },
    {
     "name": "stdout",
     "output_type": "stream",
     "text": [
      "OVERLAP DETECTED AT BRANCHES {'0_18', '3', '1', '3_1', '0', '8_1', '8_2', '0_16', '0_19', '8', '1_10'}\n"
     ]
    },
    {
     "name": "stderr",
     "output_type": "stream",
     "text": [
      "yt : [INFO     ] 2025-01-02 22:07:05,877 Parameters: current_time              = 18.691173964245\n",
      "yt : [INFO     ] 2025-01-02 22:07:05,879 Parameters: domain_dimensions         = [256 256 256]\n",
      "yt : [INFO     ] 2025-01-02 22:07:05,881 Parameters: domain_left_edge          = [0. 0. 0.]\n",
      "yt : [INFO     ] 2025-01-02 22:07:05,882 Parameters: domain_right_edge         = [1. 1. 1.]\n",
      "yt : [INFO     ] 2025-01-02 22:07:05,884 Parameters: cosmological_simulation   = 1\n",
      "yt : [INFO     ] 2025-01-02 22:07:05,885 Parameters: current_redshift          = 11.526130092664\n",
      "yt : [INFO     ] 2025-01-02 22:07:05,887 Parameters: omega_lambda              = 0.6935\n",
      "yt : [INFO     ] 2025-01-02 22:07:05,888 Parameters: omega_matter              = 0.3065\n",
      "yt : [INFO     ] 2025-01-02 22:07:05,889 Parameters: omega_radiation           = 0.0\n",
      "yt : [INFO     ] 2025-01-02 22:07:05,891 Parameters: hubble_constant           = 0.679\n",
      " 85%|████████▍ | 176/208 [08:37<03:12,  6.02s/it]"
     ]
    },
    {
     "name": "stdout",
     "output_type": "stream",
     "text": [
      "OVERLAP DETECTED AT BRANCHES {'0_18', '3', '1', '3_1', '0', '0_19', '0_16', '1_10'}\n"
     ]
    },
    {
     "name": "stderr",
     "output_type": "stream",
     "text": [
      "yt : [INFO     ] 2025-01-02 22:07:17,303 Parameters: current_time              = 18.738967164245\n",
      "yt : [INFO     ] 2025-01-02 22:07:17,306 Parameters: domain_dimensions         = [256 256 256]\n",
      "yt : [INFO     ] 2025-01-02 22:07:17,308 Parameters: domain_left_edge          = [0. 0. 0.]\n",
      "yt : [INFO     ] 2025-01-02 22:07:17,310 Parameters: domain_right_edge         = [1. 1. 1.]\n",
      "yt : [INFO     ] 2025-01-02 22:07:17,312 Parameters: cosmological_simulation   = 1\n",
      "yt : [INFO     ] 2025-01-02 22:07:17,314 Parameters: current_redshift          = 11.50481448432\n",
      "yt : [INFO     ] 2025-01-02 22:07:17,316 Parameters: omega_lambda              = 0.6935\n",
      "yt : [INFO     ] 2025-01-02 22:07:17,318 Parameters: omega_matter              = 0.3065\n",
      "yt : [INFO     ] 2025-01-02 22:07:17,320 Parameters: omega_radiation           = 0.0\n",
      "yt : [INFO     ] 2025-01-02 22:07:17,322 Parameters: hubble_constant           = 0.679\n",
      " 85%|████████▌ | 177/208 [08:48<03:56,  7.65s/it]"
     ]
    },
    {
     "name": "stdout",
     "output_type": "stream",
     "text": [
      "OVERLAP DETECTED AT BRANCHES {'0_18', '3', '1', '3_1', '0', '8_2', '0_16', '0_19', '8', '1_10'}\n"
     ]
    },
    {
     "name": "stderr",
     "output_type": "stream",
     "text": [
      "yt : [INFO     ] 2025-01-02 22:07:19,510 Parameters: current_time              = 18.786760364245\n",
      "yt : [INFO     ] 2025-01-02 22:07:19,512 Parameters: domain_dimensions         = [256 256 256]\n",
      "yt : [INFO     ] 2025-01-02 22:07:19,514 Parameters: domain_left_edge          = [0. 0. 0.]\n",
      "yt : [INFO     ] 2025-01-02 22:07:19,515 Parameters: domain_right_edge         = [1. 1. 1.]\n",
      "yt : [INFO     ] 2025-01-02 22:07:19,517 Parameters: cosmological_simulation   = 1\n",
      "yt : [INFO     ] 2025-01-02 22:07:19,518 Parameters: current_redshift          = 11.483589264125\n",
      "yt : [INFO     ] 2025-01-02 22:07:19,520 Parameters: omega_lambda              = 0.6935\n",
      "yt : [INFO     ] 2025-01-02 22:07:19,521 Parameters: omega_matter              = 0.3065\n",
      "yt : [INFO     ] 2025-01-02 22:07:19,523 Parameters: omega_radiation           = 0.0\n",
      "yt : [INFO     ] 2025-01-02 22:07:19,524 Parameters: hubble_constant           = 0.679\n",
      " 86%|████████▌ | 178/208 [08:50<03:00,  6.01s/it]"
     ]
    },
    {
     "name": "stdout",
     "output_type": "stream",
     "text": [
      "OVERLAP DETECTED AT BRANCHES {'3', '1', '3_1', '1_8', '1_10'}\n"
     ]
    },
    {
     "name": "stderr",
     "output_type": "stream",
     "text": [
      "yt : [INFO     ] 2025-01-02 22:07:28,346 Parameters: current_time              = 18.834553564245\n",
      "yt : [INFO     ] 2025-01-02 22:07:28,349 Parameters: domain_dimensions         = [256 256 256]\n",
      "yt : [INFO     ] 2025-01-02 22:07:28,351 Parameters: domain_left_edge          = [0. 0. 0.]\n",
      "yt : [INFO     ] 2025-01-02 22:07:28,353 Parameters: domain_right_edge         = [1. 1. 1.]\n",
      "yt : [INFO     ] 2025-01-02 22:07:28,356 Parameters: cosmological_simulation   = 1\n",
      "yt : [INFO     ] 2025-01-02 22:07:28,357 Parameters: current_redshift          = 11.462453820163\n",
      "yt : [INFO     ] 2025-01-02 22:07:28,359 Parameters: omega_lambda              = 0.6935\n",
      "yt : [INFO     ] 2025-01-02 22:07:28,361 Parameters: omega_matter              = 0.3065\n",
      "yt : [INFO     ] 2025-01-02 22:07:28,363 Parameters: omega_radiation           = 0.0\n",
      "yt : [INFO     ] 2025-01-02 22:07:28,365 Parameters: hubble_constant           = 0.679\n",
      " 86%|████████▌ | 179/208 [08:59<03:20,  6.93s/it]"
     ]
    },
    {
     "name": "stdout",
     "output_type": "stream",
     "text": [
      "OVERLAP DETECTED AT BRANCHES {'0_18', '3', '1', '3_1', '0', '1_8', '0_16', '1_10'}\n"
     ]
    },
    {
     "name": "stderr",
     "output_type": "stream",
     "text": [
      "yt : [INFO     ] 2025-01-02 22:07:34,468 Parameters: current_time              = 18.882346764245\n",
      "yt : [INFO     ] 2025-01-02 22:07:34,470 Parameters: domain_dimensions         = [256 256 256]\n",
      "yt : [INFO     ] 2025-01-02 22:07:34,473 Parameters: domain_left_edge          = [0. 0. 0.]\n",
      "yt : [INFO     ] 2025-01-02 22:07:34,475 Parameters: domain_right_edge         = [1. 1. 1.]\n",
      "yt : [INFO     ] 2025-01-02 22:07:34,477 Parameters: cosmological_simulation   = 1\n",
      "yt : [INFO     ] 2025-01-02 22:07:34,479 Parameters: current_redshift          = 11.441407546199\n",
      "yt : [INFO     ] 2025-01-02 22:07:34,481 Parameters: omega_lambda              = 0.6935\n",
      "yt : [INFO     ] 2025-01-02 22:07:34,483 Parameters: omega_matter              = 0.3065\n",
      "yt : [INFO     ] 2025-01-02 22:07:34,485 Parameters: omega_radiation           = 0.0\n",
      "yt : [INFO     ] 2025-01-02 22:07:34,486 Parameters: hubble_constant           = 0.679\n",
      " 87%|████████▋ | 180/208 [09:06<03:10,  6.79s/it]"
     ]
    },
    {
     "name": "stdout",
     "output_type": "stream",
     "text": [
      "OVERLAP DETECTED AT BRANCHES {'0_18', '3', '1', '3_1', '0', '1_8', '0_16', '0_17', '1_10'}\n"
     ]
    },
    {
     "name": "stderr",
     "output_type": "stream",
     "text": [
      "yt : [INFO     ] 2025-01-02 22:07:39,239 Parameters: current_time              = 18.930139964245\n",
      "yt : [INFO     ] 2025-01-02 22:07:39,241 Parameters: domain_dimensions         = [256 256 256]\n",
      "yt : [INFO     ] 2025-01-02 22:07:39,243 Parameters: domain_left_edge          = [0. 0. 0.]\n",
      "yt : [INFO     ] 2025-01-02 22:07:39,246 Parameters: domain_right_edge         = [1. 1. 1.]\n",
      "yt : [INFO     ] 2025-01-02 22:07:39,248 Parameters: cosmological_simulation   = 1\n",
      "yt : [INFO     ] 2025-01-02 22:07:39,250 Parameters: current_redshift          = 11.420449841614\n",
      "yt : [INFO     ] 2025-01-02 22:07:39,252 Parameters: omega_lambda              = 0.6935\n",
      "yt : [INFO     ] 2025-01-02 22:07:39,254 Parameters: omega_matter              = 0.3065\n",
      "yt : [INFO     ] 2025-01-02 22:07:39,256 Parameters: omega_radiation           = 0.0\n",
      "yt : [INFO     ] 2025-01-02 22:07:39,258 Parameters: hubble_constant           = 0.679\n",
      " 87%|████████▋ | 181/208 [09:11<02:51,  6.34s/it]"
     ]
    },
    {
     "name": "stdout",
     "output_type": "stream",
     "text": [
      "OVERLAP DETECTED AT BRANCHES {'3', '1', '3_1', '0', '1_8', '8_2', '8', '0_16', '3_2', '0_17', '1_10'}\n"
     ]
    },
    {
     "name": "stderr",
     "output_type": "stream",
     "text": [
      "yt : [INFO     ] 2025-01-02 22:07:45,891 Parameters: current_time              = 18.977933164245\n",
      "yt : [INFO     ] 2025-01-02 22:07:45,893 Parameters: domain_dimensions         = [256 256 256]\n",
      "yt : [INFO     ] 2025-01-02 22:07:45,896 Parameters: domain_left_edge          = [0. 0. 0.]\n",
      "yt : [INFO     ] 2025-01-02 22:07:45,898 Parameters: domain_right_edge         = [1. 1. 1.]\n",
      "yt : [INFO     ] 2025-01-02 22:07:45,900 Parameters: cosmological_simulation   = 1\n",
      "yt : [INFO     ] 2025-01-02 22:07:45,902 Parameters: current_redshift          = 11.399580111337\n",
      "yt : [INFO     ] 2025-01-02 22:07:45,904 Parameters: omega_lambda              = 0.6935\n",
      "yt : [INFO     ] 2025-01-02 22:07:45,906 Parameters: omega_matter              = 0.3065\n",
      "yt : [INFO     ] 2025-01-02 22:07:45,908 Parameters: omega_radiation           = 0.0\n",
      "yt : [INFO     ] 2025-01-02 22:07:45,909 Parameters: hubble_constant           = 0.679\n",
      " 88%|████████▊ | 182/208 [09:18<02:47,  6.43s/it]"
     ]
    },
    {
     "name": "stdout",
     "output_type": "stream",
     "text": [
      "OVERLAP DETECTED AT BRANCHES {'3', '1', '3_1', '1_8', '8_2', '8', '1_10'}\n"
     ]
    },
    {
     "name": "stderr",
     "output_type": "stream",
     "text": [
      "yt : [INFO     ] 2025-01-02 22:07:52,066 Parameters: current_time              = 19.025726364245\n",
      "yt : [INFO     ] 2025-01-02 22:07:52,067 Parameters: domain_dimensions         = [256 256 256]\n",
      "yt : [INFO     ] 2025-01-02 22:07:52,067 Parameters: domain_left_edge          = [0. 0. 0.]\n",
      "yt : [INFO     ] 2025-01-02 22:07:52,068 Parameters: domain_right_edge         = [1. 1. 1.]\n",
      "yt : [INFO     ] 2025-01-02 22:07:52,069 Parameters: cosmological_simulation   = 1\n",
      "yt : [INFO     ] 2025-01-02 22:07:52,070 Parameters: current_redshift          = 11.378797765779\n",
      "yt : [INFO     ] 2025-01-02 22:07:52,070 Parameters: omega_lambda              = 0.6935\n",
      "yt : [INFO     ] 2025-01-02 22:07:52,071 Parameters: omega_matter              = 0.3065\n",
      "yt : [INFO     ] 2025-01-02 22:07:52,071 Parameters: omega_radiation           = 0.0\n",
      "yt : [INFO     ] 2025-01-02 22:07:52,072 Parameters: hubble_constant           = 0.679\n",
      " 88%|████████▊ | 183/208 [09:23<02:33,  6.13s/it]"
     ]
    },
    {
     "name": "stdout",
     "output_type": "stream",
     "text": [
      "OVERLAP DETECTED AT BRANCHES {'3', '1', '3_1', '1_8', '8_2', '8', '1_10'}\n"
     ]
    },
    {
     "name": "stderr",
     "output_type": "stream",
     "text": [
      "yt : [INFO     ] 2025-01-02 22:07:53,370 Parameters: current_time              = 19.073519564245\n",
      "yt : [INFO     ] 2025-01-02 22:07:53,371 Parameters: domain_dimensions         = [256 256 256]\n",
      "yt : [INFO     ] 2025-01-02 22:07:53,372 Parameters: domain_left_edge          = [0. 0. 0.]\n",
      "yt : [INFO     ] 2025-01-02 22:07:53,373 Parameters: domain_right_edge         = [1. 1. 1.]\n",
      "yt : [INFO     ] 2025-01-02 22:07:53,374 Parameters: cosmological_simulation   = 1\n",
      "yt : [INFO     ] 2025-01-02 22:07:53,374 Parameters: current_redshift          = 11.358102220772\n",
      "yt : [INFO     ] 2025-01-02 22:07:53,375 Parameters: omega_lambda              = 0.6935\n",
      "yt : [INFO     ] 2025-01-02 22:07:53,375 Parameters: omega_matter              = 0.3065\n",
      "yt : [INFO     ] 2025-01-02 22:07:53,376 Parameters: omega_radiation           = 0.0\n",
      "yt : [INFO     ] 2025-01-02 22:07:53,377 Parameters: hubble_constant           = 0.679\n",
      " 88%|████████▊ | 184/208 [09:24<01:49,  4.56s/it]"
     ]
    },
    {
     "name": "stdout",
     "output_type": "stream",
     "text": [
      "OVERLAP DETECTED AT BRANCHES {'3', '1', '3_1', '0', '1_8', '0_16', '1_10'}\n"
     ]
    },
    {
     "name": "stderr",
     "output_type": "stream",
     "text": [
      "yt : [INFO     ] 2025-01-02 22:07:55,376 Parameters: current_time              = 19.121312764245\n",
      "yt : [INFO     ] 2025-01-02 22:07:55,378 Parameters: domain_dimensions         = [256 256 256]\n",
      "yt : [INFO     ] 2025-01-02 22:07:55,380 Parameters: domain_left_edge          = [0. 0. 0.]\n",
      "yt : [INFO     ] 2025-01-02 22:07:55,382 Parameters: domain_right_edge         = [1. 1. 1.]\n",
      "yt : [INFO     ] 2025-01-02 22:07:55,384 Parameters: cosmological_simulation   = 1\n",
      "yt : [INFO     ] 2025-01-02 22:07:55,386 Parameters: current_redshift          = 11.337492897503\n",
      "yt : [INFO     ] 2025-01-02 22:07:55,388 Parameters: omega_lambda              = 0.6935\n",
      "yt : [INFO     ] 2025-01-02 22:07:55,390 Parameters: omega_matter              = 0.3065\n",
      "yt : [INFO     ] 2025-01-02 22:07:55,392 Parameters: omega_radiation           = 0.0\n",
      "yt : [INFO     ] 2025-01-02 22:07:55,394 Parameters: hubble_constant           = 0.679\n",
      " 89%|████████▉ | 185/208 [09:26<01:26,  3.76s/it]"
     ]
    },
    {
     "name": "stdout",
     "output_type": "stream",
     "text": [
      "OVERLAP DETECTED AT BRANCHES {'8_2', '8'}\n"
     ]
    },
    {
     "name": "stderr",
     "output_type": "stream",
     "text": [
      " 90%|█████████ | 188/208 [09:36<01:01,  3.10s/it]yt : [INFO     ] 2025-01-02 22:08:08,339 Parameters: current_time              = 19.312485564245\n",
      "yt : [INFO     ] 2025-01-02 22:08:08,341 Parameters: domain_dimensions         = [256 256 256]\n",
      "yt : [INFO     ] 2025-01-02 22:08:08,343 Parameters: domain_left_edge          = [0. 0. 0.]\n",
      "yt : [INFO     ] 2025-01-02 22:08:08,344 Parameters: domain_right_edge         = [1. 1. 1.]\n",
      "yt : [INFO     ] 2025-01-02 22:08:08,346 Parameters: cosmological_simulation   = 1\n",
      "yt : [INFO     ] 2025-01-02 22:08:08,347 Parameters: current_redshift          = 11.255906429548\n",
      "yt : [INFO     ] 2025-01-02 22:08:08,349 Parameters: omega_lambda              = 0.6935\n",
      "yt : [INFO     ] 2025-01-02 22:08:08,350 Parameters: omega_matter              = 0.3065\n",
      "yt : [INFO     ] 2025-01-02 22:08:08,352 Parameters: omega_radiation           = 0.0\n",
      "yt : [INFO     ] 2025-01-02 22:08:08,353 Parameters: hubble_constant           = 0.679\n",
      " 91%|█████████ | 189/208 [09:39<00:56,  2.97s/it]"
     ]
    },
    {
     "name": "stdout",
     "output_type": "stream",
     "text": [
      "OVERLAP DETECTED AT BRANCHES {'0_13', '3', '3_1', '0'}\n"
     ]
    },
    {
     "name": "stderr",
     "output_type": "stream",
     "text": [
      "yt : [INFO     ] 2025-01-02 22:08:13,487 Parameters: current_time              = 19.360278764245\n",
      "yt : [INFO     ] 2025-01-02 22:08:13,489 Parameters: domain_dimensions         = [256 256 256]\n",
      "yt : [INFO     ] 2025-01-02 22:08:13,491 Parameters: domain_left_edge          = [0. 0. 0.]\n",
      "yt : [INFO     ] 2025-01-02 22:08:13,493 Parameters: domain_right_edge         = [1. 1. 1.]\n",
      "yt : [INFO     ] 2025-01-02 22:08:13,496 Parameters: cosmological_simulation   = 1\n",
      "yt : [INFO     ] 2025-01-02 22:08:13,498 Parameters: current_redshift          = 11.235719715924\n",
      "yt : [INFO     ] 2025-01-02 22:08:13,499 Parameters: omega_lambda              = 0.6935\n",
      "yt : [INFO     ] 2025-01-02 22:08:13,501 Parameters: omega_matter              = 0.3065\n",
      "yt : [INFO     ] 2025-01-02 22:08:13,503 Parameters: omega_radiation           = 0.0\n",
      "yt : [INFO     ] 2025-01-02 22:08:13,505 Parameters: hubble_constant           = 0.679\n",
      " 91%|█████████▏| 190/208 [09:44<01:05,  3.64s/it]"
     ]
    },
    {
     "name": "stdout",
     "output_type": "stream",
     "text": [
      "OVERLAP DETECTED AT BRANCHES {'0_13', '3', '3_1', '0'}\n"
     ]
    },
    {
     "name": "stderr",
     "output_type": "stream",
     "text": [
      "yt : [INFO     ] 2025-01-02 22:08:19,369 Parameters: current_time              = 19.408071964245\n",
      "yt : [INFO     ] 2025-01-02 22:08:19,371 Parameters: domain_dimensions         = [256 256 256]\n",
      "yt : [INFO     ] 2025-01-02 22:08:19,372 Parameters: domain_left_edge          = [0. 0. 0.]\n",
      "yt : [INFO     ] 2025-01-02 22:08:19,374 Parameters: domain_right_edge         = [1. 1. 1.]\n",
      "yt : [INFO     ] 2025-01-02 22:08:19,376 Parameters: cosmological_simulation   = 1\n",
      "yt : [INFO     ] 2025-01-02 22:08:19,377 Parameters: current_redshift          = 11.215615860209\n",
      "yt : [INFO     ] 2025-01-02 22:08:19,378 Parameters: omega_lambda              = 0.6935\n",
      "yt : [INFO     ] 2025-01-02 22:08:19,380 Parameters: omega_matter              = 0.3065\n",
      "yt : [INFO     ] 2025-01-02 22:08:19,381 Parameters: omega_radiation           = 0.0\n",
      "yt : [INFO     ] 2025-01-02 22:08:19,383 Parameters: hubble_constant           = 0.679\n",
      " 92%|█████████▏| 191/208 [09:51<01:17,  4.57s/it]"
     ]
    },
    {
     "name": "stdout",
     "output_type": "stream",
     "text": [
      "OVERLAP DETECTED AT BRANCHES {'0_13', '3', '3_1', '0'}\n"
     ]
    },
    {
     "name": "stderr",
     "output_type": "stream",
     "text": [
      "yt : [INFO     ] 2025-01-02 22:08:22,307 Parameters: current_time              = 19.455865164245\n",
      "yt : [INFO     ] 2025-01-02 22:08:22,309 Parameters: domain_dimensions         = [256 256 256]\n",
      "yt : [INFO     ] 2025-01-02 22:08:22,311 Parameters: domain_left_edge          = [0. 0. 0.]\n",
      "yt : [INFO     ] 2025-01-02 22:08:22,312 Parameters: domain_right_edge         = [1. 1. 1.]\n",
      "yt : [INFO     ] 2025-01-02 22:08:22,314 Parameters: cosmological_simulation   = 1\n",
      "yt : [INFO     ] 2025-01-02 22:08:22,315 Parameters: current_redshift          = 11.195594319384\n",
      "yt : [INFO     ] 2025-01-02 22:08:22,317 Parameters: omega_lambda              = 0.6935\n",
      "yt : [INFO     ] 2025-01-02 22:08:22,318 Parameters: omega_matter              = 0.3065\n",
      "yt : [INFO     ] 2025-01-02 22:08:22,320 Parameters: omega_radiation           = 0.0\n",
      "yt : [INFO     ] 2025-01-02 22:08:22,321 Parameters: hubble_constant           = 0.679\n",
      " 92%|█████████▏| 192/208 [09:53<01:02,  3.91s/it]"
     ]
    },
    {
     "name": "stdout",
     "output_type": "stream",
     "text": [
      "OVERLAP DETECTED AT BRANCHES {'3', '0_13', '3_1', '0'}\n"
     ]
    },
    {
     "name": "stderr",
     "output_type": "stream",
     "text": [
      "yt : [INFO     ] 2025-01-02 22:08:28,591 Parameters: current_time              = 19.503658364245\n",
      "yt : [INFO     ] 2025-01-02 22:08:28,594 Parameters: domain_dimensions         = [256 256 256]\n",
      "yt : [INFO     ] 2025-01-02 22:08:28,596 Parameters: domain_left_edge          = [0. 0. 0.]\n",
      "yt : [INFO     ] 2025-01-02 22:08:28,598 Parameters: domain_right_edge         = [1. 1. 1.]\n",
      "yt : [INFO     ] 2025-01-02 22:08:28,600 Parameters: cosmological_simulation   = 1\n",
      "yt : [INFO     ] 2025-01-02 22:08:28,602 Parameters: current_redshift          = 11.175654555311\n",
      "yt : [INFO     ] 2025-01-02 22:08:28,604 Parameters: omega_lambda              = 0.6935\n",
      "yt : [INFO     ] 2025-01-02 22:08:28,606 Parameters: omega_matter              = 0.3065\n",
      "yt : [INFO     ] 2025-01-02 22:08:28,608 Parameters: omega_radiation           = 0.0\n",
      "yt : [INFO     ] 2025-01-02 22:08:28,610 Parameters: hubble_constant           = 0.679\n",
      " 93%|█████████▎| 193/208 [09:59<01:07,  4.50s/it]"
     ]
    },
    {
     "name": "stdout",
     "output_type": "stream",
     "text": [
      "OVERLAP DETECTED AT BRANCHES {'9_1_0', '1', '9', '9_1_1_0', '1_8', '9_1'}\n",
      "DEEPER SUB-BRANCHES DETECTED\n"
     ]
    },
    {
     "name": "stderr",
     "output_type": "stream",
     "text": [
      "yt : [INFO     ] 2025-01-02 22:08:33,913 Parameters: current_time              = 19.551451564245\n",
      "yt : [INFO     ] 2025-01-02 22:08:33,916 Parameters: domain_dimensions         = [256 256 256]\n",
      "yt : [INFO     ] 2025-01-02 22:08:33,918 Parameters: domain_left_edge          = [0. 0. 0.]\n",
      "yt : [INFO     ] 2025-01-02 22:08:33,920 Parameters: domain_right_edge         = [1. 1. 1.]\n",
      "yt : [INFO     ] 2025-01-02 22:08:33,922 Parameters: cosmological_simulation   = 1\n",
      "yt : [INFO     ] 2025-01-02 22:08:33,924 Parameters: current_redshift          = 11.155796034681\n",
      "yt : [INFO     ] 2025-01-02 22:08:33,926 Parameters: omega_lambda              = 0.6935\n",
      "yt : [INFO     ] 2025-01-02 22:08:33,928 Parameters: omega_matter              = 0.3065\n",
      "yt : [INFO     ] 2025-01-02 22:08:33,930 Parameters: omega_radiation           = 0.0\n",
      "yt : [INFO     ] 2025-01-02 22:08:33,932 Parameters: hubble_constant           = 0.679\n",
      " 93%|█████████▎| 194/208 [10:04<01:05,  4.71s/it]"
     ]
    },
    {
     "name": "stdout",
     "output_type": "stream",
     "text": [
      "OVERLAP DETECTED AT BRANCHES {'9', '9_1_0', '9_1'}\n",
      "DEEPER SUB-BRANCHES DETECTED\n"
     ]
    },
    {
     "name": "stderr",
     "output_type": "stream",
     "text": [
      "yt : [INFO     ] 2025-01-02 22:08:41,810 Parameters: current_time              = 19.599244764245\n",
      "yt : [INFO     ] 2025-01-02 22:08:41,813 Parameters: domain_dimensions         = [256 256 256]\n",
      "yt : [INFO     ] 2025-01-02 22:08:41,815 Parameters: domain_left_edge          = [0. 0. 0.]\n",
      "yt : [INFO     ] 2025-01-02 22:08:41,817 Parameters: domain_right_edge         = [1. 1. 1.]\n",
      "yt : [INFO     ] 2025-01-02 22:08:41,819 Parameters: cosmological_simulation   = 1\n",
      "yt : [INFO     ] 2025-01-02 22:08:41,821 Parameters: current_redshift          = 11.136018228952\n",
      "yt : [INFO     ] 2025-01-02 22:08:41,823 Parameters: omega_lambda              = 0.6935\n",
      "yt : [INFO     ] 2025-01-02 22:08:41,825 Parameters: omega_matter              = 0.3065\n",
      "yt : [INFO     ] 2025-01-02 22:08:41,827 Parameters: omega_radiation           = 0.0\n",
      "yt : [INFO     ] 2025-01-02 22:08:41,829 Parameters: hubble_constant           = 0.679\n",
      " 94%|█████████▍| 195/208 [10:13<01:16,  5.85s/it]"
     ]
    },
    {
     "name": "stdout",
     "output_type": "stream",
     "text": [
      "OVERLAP DETECTED AT BRANCHES {'3', '1', '3_1', '0', '0_13', '1_8'}\n"
     ]
    },
    {
     "name": "stderr",
     "output_type": "stream",
     "text": [
      "yt : [INFO     ] 2025-01-02 22:08:43,962 Parameters: current_time              = 19.647037964245\n",
      "yt : [INFO     ] 2025-01-02 22:08:43,964 Parameters: domain_dimensions         = [256 256 256]\n",
      "yt : [INFO     ] 2025-01-02 22:08:43,966 Parameters: domain_left_edge          = [0. 0. 0.]\n",
      "yt : [INFO     ] 2025-01-02 22:08:43,968 Parameters: domain_right_edge         = [1. 1. 1.]\n",
      "yt : [INFO     ] 2025-01-02 22:08:43,970 Parameters: cosmological_simulation   = 1\n",
      "yt : [INFO     ] 2025-01-02 22:08:43,972 Parameters: current_redshift          = 11.116320614298\n",
      "yt : [INFO     ] 2025-01-02 22:08:43,974 Parameters: omega_lambda              = 0.6935\n",
      "yt : [INFO     ] 2025-01-02 22:08:43,976 Parameters: omega_matter              = 0.3065\n",
      "yt : [INFO     ] 2025-01-02 22:08:43,978 Parameters: omega_radiation           = 0.0\n",
      "yt : [INFO     ] 2025-01-02 22:08:43,980 Parameters: hubble_constant           = 0.679\n",
      " 94%|█████████▍| 196/208 [10:15<00:55,  4.67s/it]"
     ]
    },
    {
     "name": "stdout",
     "output_type": "stream",
     "text": [
      "OVERLAP DETECTED AT BRANCHES {'0_13', '0'}\n"
     ]
    },
    {
     "name": "stderr",
     "output_type": "stream",
     "text": [
      "yt : [INFO     ] 2025-01-02 22:08:47,299 Parameters: current_time              = 19.694831164245\n",
      "yt : [INFO     ] 2025-01-02 22:08:47,301 Parameters: domain_dimensions         = [256 256 256]\n",
      "yt : [INFO     ] 2025-01-02 22:08:47,303 Parameters: domain_left_edge          = [0. 0. 0.]\n",
      "yt : [INFO     ] 2025-01-02 22:08:47,305 Parameters: domain_right_edge         = [1. 1. 1.]\n",
      "yt : [INFO     ] 2025-01-02 22:08:47,306 Parameters: cosmological_simulation   = 1\n",
      "yt : [INFO     ] 2025-01-02 22:08:47,308 Parameters: current_redshift          = 11.096702671559\n",
      "yt : [INFO     ] 2025-01-02 22:08:47,309 Parameters: omega_lambda              = 0.6935\n",
      "yt : [INFO     ] 2025-01-02 22:08:47,311 Parameters: omega_matter              = 0.3065\n",
      "yt : [INFO     ] 2025-01-02 22:08:47,312 Parameters: omega_radiation           = 0.0\n",
      "yt : [INFO     ] 2025-01-02 22:08:47,313 Parameters: hubble_constant           = 0.679\n",
      " 95%|█████████▍| 197/208 [10:18<00:46,  4.22s/it]"
     ]
    },
    {
     "name": "stdout",
     "output_type": "stream",
     "text": [
      "OVERLAP DETECTED AT BRANCHES {'0_13', '0'}\n"
     ]
    },
    {
     "name": "stderr",
     "output_type": "stream",
     "text": [
      "yt : [INFO     ] 2025-01-02 22:08:55,442 Parameters: current_time              = 19.742624364245\n",
      "yt : [INFO     ] 2025-01-02 22:08:55,445 Parameters: domain_dimensions         = [256 256 256]\n",
      "yt : [INFO     ] 2025-01-02 22:08:55,447 Parameters: domain_left_edge          = [0. 0. 0.]\n",
      "yt : [INFO     ] 2025-01-02 22:08:55,449 Parameters: domain_right_edge         = [1. 1. 1.]\n",
      "yt : [INFO     ] 2025-01-02 22:08:55,451 Parameters: cosmological_simulation   = 1\n",
      "yt : [INFO     ] 2025-01-02 22:08:55,453 Parameters: current_redshift          = 11.077163886182\n",
      "yt : [INFO     ] 2025-01-02 22:08:55,455 Parameters: omega_lambda              = 0.6935\n",
      "yt : [INFO     ] 2025-01-02 22:08:55,457 Parameters: omega_matter              = 0.3065\n",
      "yt : [INFO     ] 2025-01-02 22:08:55,458 Parameters: omega_radiation           = 0.0\n",
      "yt : [INFO     ] 2025-01-02 22:08:55,460 Parameters: hubble_constant           = 0.679\n",
      " 95%|█████████▌| 198/208 [10:27<00:55,  5.56s/it]"
     ]
    },
    {
     "name": "stdout",
     "output_type": "stream",
     "text": [
      "OVERLAP DETECTED AT BRANCHES {'3', '0_13', '3_1', '0'}\n"
     ]
    },
    {
     "name": "stderr",
     "output_type": "stream",
     "text": [
      " 96%|█████████▌| 199/208 [10:28<00:39,  4.40s/it]yt : [INFO     ] 2025-01-02 22:09:00,972 Parameters: current_time              = 19.838210764245\n",
      "yt : [INFO     ] 2025-01-02 22:09:00,974 Parameters: domain_dimensions         = [256 256 256]\n",
      "yt : [INFO     ] 2025-01-02 22:09:00,975 Parameters: domain_left_edge          = [0. 0. 0.]\n",
      "yt : [INFO     ] 2025-01-02 22:09:00,977 Parameters: domain_right_edge         = [1. 1. 1.]\n",
      "yt : [INFO     ] 2025-01-02 22:09:00,979 Parameters: cosmological_simulation   = 1\n",
      "yt : [INFO     ] 2025-01-02 22:09:00,980 Parameters: current_redshift          = 11.038321752048\n",
      "yt : [INFO     ] 2025-01-02 22:09:00,982 Parameters: omega_lambda              = 0.6935\n",
      "yt : [INFO     ] 2025-01-02 22:09:00,985 Parameters: omega_matter              = 0.3065\n",
      "yt : [INFO     ] 2025-01-02 22:09:00,987 Parameters: omega_radiation           = 0.0\n",
      "yt : [INFO     ] 2025-01-02 22:09:00,989 Parameters: hubble_constant           = 0.679\n",
      " 96%|█████████▌| 200/208 [10:31<00:32,  4.01s/it]"
     ]
    },
    {
     "name": "stdout",
     "output_type": "stream",
     "text": [
      "OVERLAP DETECTED AT BRANCHES {'9', '9_1_0', '9_1', '9_1_1'}\n"
     ]
    },
    {
     "name": "stderr",
     "output_type": "stream",
     "text": [
      " 97%|█████████▋| 201/208 [10:36<00:28,  4.02s/it]yt : [INFO     ] 2025-01-02 22:09:11,930 Parameters: current_time              = 19.933797164245\n",
      "yt : [INFO     ] 2025-01-02 22:09:11,933 Parameters: domain_dimensions         = [256 256 256]\n",
      "yt : [INFO     ] 2025-01-02 22:09:11,935 Parameters: domain_left_edge          = [0. 0. 0.]\n",
      "yt : [INFO     ] 2025-01-02 22:09:11,937 Parameters: domain_right_edge         = [1. 1. 1.]\n",
      "yt : [INFO     ] 2025-01-02 22:09:11,939 Parameters: cosmological_simulation   = 1\n",
      "yt : [INFO     ] 2025-01-02 22:09:11,941 Parameters: current_redshift          = 10.999790185728\n",
      "yt : [INFO     ] 2025-01-02 22:09:11,943 Parameters: omega_lambda              = 0.6935\n",
      "yt : [INFO     ] 2025-01-02 22:09:11,945 Parameters: omega_matter              = 0.3065\n",
      "yt : [INFO     ] 2025-01-02 22:09:11,947 Parameters: omega_radiation           = 0.0\n",
      "yt : [INFO     ] 2025-01-02 22:09:11,949 Parameters: hubble_constant           = 0.679\n",
      " 97%|█████████▋| 202/208 [10:44<00:32,  5.48s/it]"
     ]
    },
    {
     "name": "stdout",
     "output_type": "stream",
     "text": [
      "OVERLAP DETECTED AT BRANCHES {'9_1_0', '3', '9', '3_1', '9_1_1', '8_2', '8', '8_0', '9_1'}\n",
      "DEEPER SUB-BRANCHES DETECTED\n"
     ]
    },
    {
     "name": "stderr",
     "output_type": "stream",
     "text": [
      "yt : [INFO     ] 2025-01-02 22:09:18,128 Parameters: current_time              = 19.981590364245\n",
      "yt : [INFO     ] 2025-01-02 22:09:18,130 Parameters: domain_dimensions         = [256 256 256]\n",
      "yt : [INFO     ] 2025-01-02 22:09:18,132 Parameters: domain_left_edge          = [0. 0. 0.]\n",
      "yt : [INFO     ] 2025-01-02 22:09:18,133 Parameters: domain_right_edge         = [1. 1. 1.]\n",
      "yt : [INFO     ] 2025-01-02 22:09:18,135 Parameters: cosmological_simulation   = 1\n",
      "yt : [INFO     ] 2025-01-02 22:09:18,136 Parameters: current_redshift          = 10.980639626643\n",
      "yt : [INFO     ] 2025-01-02 22:09:18,138 Parameters: omega_lambda              = 0.6935\n",
      "yt : [INFO     ] 2025-01-02 22:09:18,139 Parameters: omega_matter              = 0.3065\n",
      "yt : [INFO     ] 2025-01-02 22:09:18,141 Parameters: omega_radiation           = 0.0\n",
      "yt : [INFO     ] 2025-01-02 22:09:18,142 Parameters: hubble_constant           = 0.679\n",
      " 98%|█████████▊| 203/208 [10:49<00:25,  5.15s/it]"
     ]
    },
    {
     "name": "stdout",
     "output_type": "stream",
     "text": [
      "OVERLAP DETECTED AT BRANCHES {'8_2', '8', '8_0'}\n"
     ]
    },
    {
     "name": "stderr",
     "output_type": "stream",
     "text": [
      "yt : [INFO     ] 2025-01-02 22:09:21,146 Parameters: current_time              = 20.029383564245\n",
      "yt : [INFO     ] 2025-01-02 22:09:21,148 Parameters: domain_dimensions         = [256 256 256]\n",
      "yt : [INFO     ] 2025-01-02 22:09:21,150 Parameters: domain_left_edge          = [0. 0. 0.]\n",
      "yt : [INFO     ] 2025-01-02 22:09:21,151 Parameters: domain_right_edge         = [1. 1. 1.]\n",
      "yt : [INFO     ] 2025-01-02 22:09:21,153 Parameters: cosmological_simulation   = 1\n",
      "yt : [INFO     ] 2025-01-02 22:09:21,154 Parameters: current_redshift          = 10.961565231562\n",
      "yt : [INFO     ] 2025-01-02 22:09:21,156 Parameters: omega_lambda              = 0.6935\n",
      "yt : [INFO     ] 2025-01-02 22:09:21,157 Parameters: omega_matter              = 0.3065\n",
      "yt : [INFO     ] 2025-01-02 22:09:21,159 Parameters: omega_radiation           = 0.0\n",
      "yt : [INFO     ] 2025-01-02 22:09:21,160 Parameters: hubble_constant           = 0.679\n",
      " 98%|█████████▊| 204/208 [10:52<00:17,  4.46s/it]"
     ]
    },
    {
     "name": "stdout",
     "output_type": "stream",
     "text": [
      "OVERLAP DETECTED AT BRANCHES {'8_2', '8', '8_0'}\n"
     ]
    },
    {
     "name": "stderr",
     "output_type": "stream",
     "text": [
      "yt : [INFO     ] 2025-01-02 22:09:25,286 Parameters: current_time              = 20.077176764245\n",
      "yt : [INFO     ] 2025-01-02 22:09:25,288 Parameters: domain_dimensions         = [256 256 256]\n",
      "yt : [INFO     ] 2025-01-02 22:09:25,289 Parameters: domain_left_edge          = [0. 0. 0.]\n",
      "yt : [INFO     ] 2025-01-02 22:09:25,291 Parameters: domain_right_edge         = [1. 1. 1.]\n",
      "yt : [INFO     ] 2025-01-02 22:09:25,293 Parameters: cosmological_simulation   = 1\n",
      "yt : [INFO     ] 2025-01-02 22:09:25,294 Parameters: current_redshift          = 10.942566516787\n",
      "yt : [INFO     ] 2025-01-02 22:09:25,296 Parameters: omega_lambda              = 0.6935\n",
      "yt : [INFO     ] 2025-01-02 22:09:25,297 Parameters: omega_matter              = 0.3065\n",
      "yt : [INFO     ] 2025-01-02 22:09:25,298 Parameters: omega_radiation           = 0.0\n",
      "yt : [INFO     ] 2025-01-02 22:09:25,300 Parameters: hubble_constant           = 0.679\n",
      " 99%|█████████▊| 205/208 [10:56<00:13,  4.46s/it]"
     ]
    },
    {
     "name": "stdout",
     "output_type": "stream",
     "text": [
      "OVERLAP DETECTED AT BRANCHES {'3', '3_1', '8_2', '8', '8_0'}\n"
     ]
    },
    {
     "name": "stderr",
     "output_type": "stream",
     "text": [
      " 99%|█████████▉| 206/208 [11:00<00:08,  4.30s/it]yt : [INFO     ] 2025-01-02 22:09:34,632 Parameters: current_time              = 20.172763164245\n",
      "yt : [INFO     ] 2025-01-02 22:09:34,635 Parameters: domain_dimensions         = [256 256 256]\n",
      "yt : [INFO     ] 2025-01-02 22:09:34,636 Parameters: domain_left_edge          = [0. 0. 0.]\n",
      "yt : [INFO     ] 2025-01-02 22:09:34,638 Parameters: domain_right_edge         = [1. 1. 1.]\n",
      "yt : [INFO     ] 2025-01-02 22:09:34,639 Parameters: cosmological_simulation   = 1\n",
      "yt : [INFO     ] 2025-01-02 22:09:34,641 Parameters: current_redshift          = 10.904794214388\n",
      "yt : [INFO     ] 2025-01-02 22:09:34,642 Parameters: omega_lambda              = 0.6935\n",
      "yt : [INFO     ] 2025-01-02 22:09:34,644 Parameters: omega_matter              = 0.3065\n",
      "yt : [INFO     ] 2025-01-02 22:09:34,645 Parameters: omega_radiation           = 0.0\n",
      "yt : [INFO     ] 2025-01-02 22:09:34,647 Parameters: hubble_constant           = 0.679\n",
      "100%|█████████▉| 207/208 [11:05<00:04,  4.54s/it]"
     ]
    },
    {
     "name": "stdout",
     "output_type": "stream",
     "text": [
      "OVERLAP DETECTED AT BRANCHES {'18_5', '18', '18_4'}\n"
     ]
    },
    {
     "name": "stderr",
     "output_type": "stream",
     "text": [
      "100%|██████████| 208/208 [11:07<00:00,  3.21s/it]\n"
     ]
    }
   ],
   "source": [
    "print_mode = False\n",
    "\n",
    "#for idx in tqdm(range(21, 212)):\n",
    "for idx in tqdm(ray_tree['0'].keys()):\n",
    "    idx = str(idx)\n",
    "    #\n",
    "    ray_metadata = np.load('/work/hdd/bbvl/gtg115x/new_zoom_5/box_2_z_1/star_metadata/star_metadata_allbox_%s.npy' % idx, allow_pickle=True).tolist()\n",
    "    ray_pos_all = ray_metadata['pos']\n",
    "    ray_age_all = ray_metadata['age']\n",
    "    ray_mass_all = ray_metadata['mass']\n",
    "    ray_ID_all = np.array(np.load('/work/hdd/bbvl/gtg115x/new_zoom_5/box_2_z_1/star_metadata/star_ID_allbox_%s.npy' % idx, allow_pickle=True).tolist()).astype(int)\n",
    "    if os.path.exists('/work/hdd/bbvl/gtg115x/new_zoom_5/box_2_z_1/star_metadata/star_vel_allbox_%s.npy' % idx) == True:\n",
    "        ray_vel_all = np.array(np.load('/work/hdd/bbvl/gtg115x/new_zoom_5/box_2_z_1/star_metadata/star_vel_allbox_%s.npy' % idx, allow_pickle=True).tolist()['vel'])\n",
    "    else:\n",
    "        ray_vel_all = np.empty(shape=(0,3))\n",
    "    #\n",
    "    if idx == list(ray_tree['0'].keys())[0]:\n",
    "        ray_ID_all_prev = np.array([])\n",
    "    #\n",
    "    ray_ID_unassign = np.setdiff1d(ray_ID_all, ray_ID_all_prev)\n",
    "    ray_pos_unassign = ray_pos_all[np.intersect1d(ray_ID_all, ray_ID_unassign, return_indices=True)[1]]\n",
    "    ray_vel_unassign = ray_vel_all[np.intersect1d(ray_ID_all, ray_ID_unassign, return_indices=True)[1]]\n",
    "    #Obtain the halos with stars\n",
    "    halo_wstars_pos, halo_wstars_rvir, halo_wstars_branch = list_of_halos_wstars_idx(ray_tree, idx)\n",
    "    #\n",
    "    #The shape of halo_boolean is (X,Y), where X is the number of star particles and Y is the number of halos with stars\n",
    "    halo_boolean = np.linalg.norm(ray_pos_unassign[:, np.newaxis, :] - halo_wstars_pos, axis=2) <= halo_wstars_rvir\n",
    "    #The number of halos a star particle is in. For example, if this value = 2, the star particle is in the region of 2 halos\n",
    "    overlap_boolean = np.sum(halo_boolean, axis=1) \n",
    "    #\n",
    "    ray_ID_overlap = ray_ID_unassign[overlap_boolean > 1]\n",
    "    halo_boolean_overlap = halo_boolean[overlap_boolean > 1]\n",
    "    ray_ID_indp = ray_ID_unassign[overlap_boolean == 1]\n",
    "    halo_boolean_indp = halo_boolean[overlap_boolean == 1]\n",
    "    #\n",
    "    #The list of stars in each halo's region\n",
    "    starmap_ID = []\n",
    "    for j in range(halo_boolean_indp.shape[1]):\n",
    "        starmap_ID.append(ray_ID_indp[halo_boolean_indp[:,j]])\n",
    "    #\n",
    "    if len(ray_ID_overlap) > 0:\n",
    "        ds = yt.load(ray_pfs[int(idx)])\n",
    "        ray_pos_overlap = ray_pos_unassign[overlap_boolean > 1]\n",
    "        ray_vel_overlap = ray_vel_unassign[overlap_boolean > 1]\n",
    "        overlap_branch_total = []\n",
    "        for k in range(len(ray_ID_overlap)):\n",
    "            overlap_branch = halo_wstars_branch[halo_boolean_overlap[k]]\n",
    "            E_list = np.array([])\n",
    "            for branch in overlap_branch:\n",
    "                overlap_branch_total.append(branch)\n",
    "                E = find_total_E(ray_pos_overlap[k], ray_vel_overlap[k], ds, ray_rawtree, branch, int(idx))\n",
    "                E_list = np.append(E_list, E)\n",
    "            bound_branch = overlap_branch[np.argmin(E_list)]\n",
    "            #print('Star ID', ray_ID_overlap[k], 'belong to Branch', bound_branch)\n",
    "            starmap_ID[list(halo_wstars_branch).index(bound_branch)] = np.append(starmap_ID[list(halo_wstars_branch).index(bound_branch)], ray_ID_overlap[k])\n",
    "        print('OVERLAP DETECTED AT BRANCHES', set(overlap_branch_total))\n",
    "    len_starmap = [len(i) for i in starmap_ID]\n",
    "    #\n",
    "    for i in range(len(halo_wstars_branch)):\n",
    "        if len(starmap_ID[i]) > 0: \n",
    "            for j in ray_tree[halo_wstars_branch[i]].keys(): #assuming when a star forms inside a halo, it will not leave that halo \n",
    "                if int(j) >= int(idx):\n",
    "                    if halo_wstars_branch[i] not in output[j].keys():\n",
    "                        output[j][halo_wstars_branch[i]] = starmap_ID[i]\n",
    "                    else:\n",
    "                        output[j][halo_wstars_branch[i]] = np.append(output[j][halo_wstars_branch[i]], starmap_ID[i])\n",
    "            #for subbranch (or deeper sub-branch), the stars in that sub-branch will belong to the branch at lower level after the two halos merge\n",
    "            nlevels = halo_wstars_branch[i].count('_')\n",
    "            if nlevels > 1:\n",
    "                print('DEEPER SUB-BRANCHES DETECTED')\n",
    "            loop_branch = halo_wstars_branch[i]\n",
    "            for level in range(nlevels): #add the stars in the sub-branch to higher branches\n",
    "                deepest_lvl = loop_branch.split('_')[-1]\n",
    "                mainbranch = loop_branch.split('_' + deepest_lvl)[0]\n",
    "                merge_timestep = np.max(np.array(list(ray_tree[loop_branch].keys())).astype(int)) + 1\n",
    "                last_timestep = np.max(np.array(list(ray_tree[mainbranch].keys())).astype(int))\n",
    "                for j in range(merge_timestep, last_timestep + 1):\n",
    "                    if mainbranch not in output[str(j)].keys():\n",
    "                        output[str(j)][mainbranch] = starmap_ID[i]\n",
    "                    else:\n",
    "                        output[str(j)][mainbranch] = np.append(output[str(j)][mainbranch], starmap_ID[i])\n",
    "                loop_branch = mainbranch\n",
    "    #\n",
    "    ray_ID_all_prev = ray_ID_all\n",
    "    #\n",
    "    if print_mode == True:\n",
    "        print(idx, 'Number of total unassigned stars is:', len(ray_ID_unassign))\n",
    "        print('Number of overlapped stars is', len(ray_ID_overlap), ', Number of independent stars is', len(ray_ID_indp))\n",
    "        print('Halo with stars:', halo_wstars_branch)\n",
    "        print('Number of assingned stars in each halo:', len_starmap, '\\n')\n",
    "        #print(starmap_ID,'\\n')"
   ]
  },
  {
   "cell_type": "code",
   "execution_count": 87,
   "id": "b35bb7b2-2cd3-4ac6-a996-d55796cc8cb0",
   "metadata": {
    "tags": []
   },
   "outputs": [],
   "source": [
    "output_check = {}\n",
    "for idx in output.keys():\n",
    "    output_check[idx] = {}\n",
    "    stars_metadata = np.load('/work/hdd/bbvl/gtg115x/new_zoom_5/box_2_z_1/star_metadata/star_metadata_allbox_%s.npy' % idx, allow_pickle=True).tolist()\n",
    "    stars_pos_all = stars_metadata['pos']\n",
    "    stars_mass_all = stars_metadata['mass']\n",
    "    stars_age_all = stars_metadata['age']\n",
    "    stars_ID_all = np.array(np.load('/work/hdd/bbvl/gtg115x/new_zoom_5/box_2_z_1/star_metadata/star_ID_allbox_%s.npy' % idx, allow_pickle=True).tolist()).astype(int)\n",
    "    for branch in output[idx].keys():\n",
    "        stars_ID = output[idx][branch]\n",
    "        stars_pos = stars_pos_all[np.intersect1d(stars_ID_all, stars_ID, return_indices=True)[1]]\n",
    "        stars_mass = stars_mass_all[np.intersect1d(stars_ID_all, stars_ID, return_indices=True)[1]]\n",
    "        stars_age = stars_age_all[np.intersect1d(stars_ID_all, stars_ID, return_indices=True)[1]]\n",
    "        stars_ID = stars_ID_all[np.intersect1d(stars_ID_all, stars_ID, return_indices=True)[1]]\n",
    "        #\n",
    "        halo_center = ray_rawtree[branch][int(idx)]['Halo_Center']\n",
    "        halo_radius = ray_rawtree[branch][int(idx)]['Halo_Radius']\n",
    "        #\n",
    "        check_bool = np.linalg.norm(stars_pos - halo_center, axis=1) < halo_radius\n",
    "        stars_ID_check = stars_ID[check_bool]\n",
    "        stars_pos_check = stars_pos[check_bool]\n",
    "        stars_mass_check = stars_mass[check_bool]\n",
    "        stars_age_check = stars_age[check_bool]\n",
    "        output_check[idx][branch] = {}\n",
    "        output_check[idx][branch]['ID'] = stars_ID_check\n",
    "        output_check[idx][branch]['total_mass'] = np.sum(stars_mass_check)\n",
    "        output_check[idx][branch]['sfr'] = np.sum(stars_mass_check[stars_age_check < 0.01])/1e7 #sfr is averaged on the timescale of 10 million years"
   ]
  },
  {
   "cell_type": "code",
   "execution_count": 92,
   "id": "45303bfc-43f2-470a-872d-628f4257c066",
   "metadata": {
    "tags": []
   },
   "outputs": [],
   "source": [
    "time = []\n",
    "n_halowstars_total = []\n",
    "n_halowstars_range1 = [] #range 1: Halo Mass < 1e9 \n",
    "n_halowstars_range2 = [] #range 2: 1e9 < Halo Mass < 1e10\n",
    "n_halowstars_range3 = [] #range 3: Halo Mass > 1e10\n",
    "for idx in output_check.keys():\n",
    "    time.append(ray_tree['0'][idx]['time'])\n",
    "    n_total = 0 #counter for n_halowstars_total\n",
    "    n1 = 0 #counter for n_halowstars_range1\n",
    "    n2 = 0 #counter for n_halowstars_range2\n",
    "    n3 = 0 #counter for n_halowstars_range3\n",
    "    for branch in output_check[idx].keys():\n",
    "        halo_mass = ray_rawtree[branch][int(idx)]['Halo_Mass']\n",
    "        if output_check[idx][branch]['total_mass'] > 0:\n",
    "            n_total += 1\n",
    "        if output_check[idx][branch]['total_mass'] > 0 and halo_mass < 1e9:\n",
    "            n1 += 1\n",
    "        elif output_check[idx][branch]['total_mass'] > 0 and halo_mass >= 1e9 and halo_mass < 1e10:\n",
    "            n2 += 1\n",
    "        elif output_check[idx][branch]['total_mass'] > 0 and halo_mass >= 1e10:\n",
    "            n3 += 1\n",
    "    n_halowstars_total.append(n_total)\n",
    "    n_halowstars_range1.append(n1)\n",
    "    n_halowstars_range2.append(n2)\n",
    "    n_halowstars_range3.append(n3)"
   ]
  },
  {
   "cell_type": "code",
   "execution_count": 93,
   "id": "01d3f5dd-55a9-44ed-ad11-df1755e68727",
   "metadata": {
    "tags": []
   },
   "outputs": [
    {
     "data": {
      "image/png": "[encoded data removed]",
      "text/plain": [
       "<Figure size 800x800 with 4 Axes>"
      ]
     },
     "metadata": {},
     "output_type": "display_data"
    }
   ],
   "source": [
    "fig, axs = plt.subplots(ncols=1, nrows=4, sharex = True, figsize=(8,8))\n",
    "axs[0].plot(time, n_halowstars_total)\n",
    "axs[0].set_title('Total')\n",
    "\n",
    "axs[1].plot(time, n_halowstars_range1)\n",
    "axs[1].set_title(r'$M_{halo} < 10^{9} M_\\odot$')\n",
    "\n",
    "axs[2].plot(time, n_halowstars_range2)\n",
    "axs[2].set_title(r'$10^{9} M_\\odot \\leq M_{halo} < 10^{10} M_\\odot$')\n",
    "\n",
    "axs[3].plot(time, n_halowstars_range3)\n",
    "axs[3].set_title(r'$M_{halo} \\geq 10^{10} M_\\odot$')\n",
    "axs[3].set_yticks([0,1])\n",
    "\n",
    "fig.tight_layout()"
   ]
  },
  {
   "cell_type": "code",
   "execution_count": 94,
   "id": "eae33ac1-98e3-4de5-984e-549ea1621743",
   "metadata": {
    "tags": []
   },
   "outputs": [],
   "source": [
    "def halom_sm_sfr(idx):\n",
    "    halom = []\n",
    "    sm = []\n",
    "    sfr =[]\n",
    "    redshift = ray_tree['0'][idx]['redshift']\n",
    "    for branch in output_check[idx].keys():\n",
    "        if output_check[idx][branch]['total_mass'] > 0:\n",
    "            sm.append(output_check[idx][branch]['total_mass'])\n",
    "            halom.append(ray_rawtree[branch][int(idx)]['Halo_Mass'])\n",
    "            sfr.append(output_check[idx][branch]['sfr'])\n",
    "    return halom, sm, sfr, redshift"
   ]
  },
  {
   "cell_type": "code",
   "execution_count": 95,
   "id": "797e0650-96db-45e0-ace2-f5ea9335ab87",
   "metadata": {
    "tags": []
   },
   "outputs": [],
   "source": [
    "halom1, sm1, sfr1, redshift1 = halom_sm_sfr('108')\n",
    "halom, sm, sfr, redshift = halom_sm_sfr('211')\n",
    "halom0, sm0, sfr0, redshift0 = halom_sm_sfr('4')"
   ]
  },
  {
   "cell_type": "code",
   "execution_count": 96,
   "id": "a5a52e66-6e1c-4641-bfba-553384f3397d",
   "metadata": {
    "tags": []
   },
   "outputs": [
    {
     "data": {
      "image/png": "[encoded data removed]",
      "text/plain": [
       "<Figure size 1200x600 with 6 Axes>"
      ]
     },
     "metadata": {},
     "output_type": "display_data"
    }
   ],
   "source": [
    "fig, axs = plt.subplots(nrows = 2, ncols = 3, sharey = 'row', figsize=(12,6))\n",
    "\n",
    "axs[0,0].plot(halom0, sm0,'^',label='EarlyRe-ray')\n",
    "axs[0,0].set_xscale('log')\n",
    "axs[0,0].set_yscale('log')\n",
    "axs[0,0].set_xlabel(r'Total mass ($M_\\odot$)', fontsize=14)\n",
    "axs[0,0].set_ylabel(r'Stellar mass ($M_\\odot$)', fontsize=14)\n",
    "axs[0,0].set_ylim([0.5e1,1e10])\n",
    "axs[0,0].set_xlim(1e7,3e10)\n",
    "axs[0,0].set_title('z = %.2f' % redshift0, fontsize=14)\n",
    "#plt.xticks([1e6,1e7,1e8,1e9,1e10])\n",
    "axs[0,0].legend(loc='lower left', fontsize=14)\n",
    "axs[0,0].tick_params(axis='both', which='major', labelsize=14)\n",
    "\n",
    "axs[1,0].plot(sm0, sfr0,'^',label='EarlyRe-ray')\n",
    "axs[1,0].set_xscale('log')\n",
    "axs[1,0].set_xlabel(r'Stellar mass ($M_\\odot$)', fontsize=14)\n",
    "axs[1,0].set_ylabel(r'SFR ($M_\\odot/yr$)', fontsize=14)\n",
    "axs[1,0].set_xlim([0.5e1,1e10])\n",
    "axs[1,0].set_ylim([-1,17])\n",
    "axs[1,0].tick_params(axis='both', which='major', labelsize=14)\n",
    "\n",
    "#------------------------------------------------------------------\n",
    "\n",
    "axs[0,1].plot(halom1, sm1,'^',label='EarlyRe-ray')\n",
    "axs[0,1].set_xscale('log')\n",
    "axs[0,1].set_yscale('log')\n",
    "axs[0,1].set_xlabel(r'Total mass ($M_\\odot$)', fontsize=14)\n",
    "axs[0,1].set_ylim([0.5e1,1e10])\n",
    "axs[0,1].set_xlim(1e7,3e10)\n",
    "axs[0,1].set_title('z = %.2f' % redshift1, fontsize=14)\n",
    "axs[0,1].tick_params(axis='both', which='major', labelsize=14)\n",
    "\n",
    "axs[1,1].plot(sm1, sfr1,'^',label='EarlyRe-ray')\n",
    "axs[1,1].set_xscale('log')\n",
    "axs[1,1].set_xlabel(r'Stellar mass ($M_\\odot$)', fontsize=14)\n",
    "axs[1,1].set_xlim([0.5e1,1e10])\n",
    "axs[1,1].set_ylim([-1,17])\n",
    "axs[1,1].tick_params(axis='both', which='major', labelsize=14)\n",
    "\n",
    "#------------------------------------------------------------------\n",
    "\n",
    "axs[0,2].plot(halom, sm,'^',label='EarlyRe-ray')\n",
    "axs[0,2].set_xscale('log')\n",
    "axs[0,2].set_yscale('log')\n",
    "axs[0,2].set_xlabel(r'Total mass ($M_\\odot$)', fontsize=14)\n",
    "axs[0,2].set_ylim([0.5e1,1e10])\n",
    "axs[0,2].set_xlim(1e7,3e10)\n",
    "axs[0,2].set_title('z = %.2f' % redshift, fontsize=14)\n",
    "axs[0,2].tick_params(axis='both', which='major', labelsize=14)\n",
    "\n",
    "axs[1,2].plot(sm, sfr,'^',label='EarlyRe-ray')\n",
    "axs[1,2].set_xscale('log')\n",
    "axs[1,2].set_xlabel(r'Stellar mass ($M_\\odot$)', fontsize=14)\n",
    "axs[1,2].set_xlim([0.5e1,1e10])\n",
    "axs[1,2].set_ylim([-1,17])\n",
    "axs[1,2].tick_params(axis='both', which='major', labelsize=14)\n",
    "\n",
    "plt.tight_layout()\n",
    "\n",
    "#plt.savefig('/work/hdd/bbvl/tnguyen2/figures/self-shielding/SFR_stellarmass_totalmass_EarlyRe.png', dpi=300)"
   ]
  },
  {
   "cell_type": "code",
   "execution_count": 51,
   "id": "ffa0bb0d-d2df-4366-a404-bd00c4182e54",
   "metadata": {
    "tags": []
   },
   "outputs": [
    {
     "data": {
      "text/plain": [
       "{'1': {'ID': array([65333966, 65333967, 65333969, ..., 65440877, 65440878, 65440879]),\n",
       "  'total_mass': 69602991.58186208,\n",
       "  'sfr': 4.499585736544708},\n",
       " '7': {'ID': array([], dtype=int64), 'total_mass': 0.0, 'sfr': 0.0},\n",
       " '0_35': {'ID': array([65363536, 65363537, 65363538, 65363539, 65363540, 65363541,\n",
       "         65363542, 65363543, 65363546, 65363549, 65363554, 65363555,\n",
       "         65363558, 65363561, 65363565, 65363572, 65363576, 65363577,\n",
       "         65363580, 65363587, 65363588, 65363590, 65363593, 65363596,\n",
       "         65363599, 65363606, 65363607, 65363613, 65363616, 65363619,\n",
       "         65363621, 65363624, 65363627, 65363636, 65363644, 65363646,\n",
       "         65363648, 65363650, 65363651, 65363652, 65363653, 65363654,\n",
       "         65363655, 65363656, 65363657, 65363658, 65363659, 65363660,\n",
       "         65363661, 65363662, 65363663, 65363664, 65363665, 65363673,\n",
       "         65363674, 65363683, 65363690, 65363698, 65363706, 65363714,\n",
       "         65363722, 65363737, 65363738, 65363746, 65363753, 65363760,\n",
       "         65363767, 65363773, 65363782, 65363784, 65363822, 65363826,\n",
       "         65363831, 65363833, 65363835, 65363837, 65363843, 65363846,\n",
       "         65363847, 65363849, 65363851, 65363853, 65363859, 65363860,\n",
       "         65363863, 65363865, 65363866, 65363869, 65363871, 65363872,\n",
       "         65363874, 65363875, 65363877, 65363879, 65363880, 65363881,\n",
       "         65363882, 65363883, 65363884, 65363885, 65363886, 65363888,\n",
       "         65363889, 65363891, 65363893, 65363894, 65363895, 65363896,\n",
       "         65363899, 65363900, 65363904, 65363907, 65363908, 65363910,\n",
       "         65363913, 65363936, 65363939, 65363943, 65363947, 65363953,\n",
       "         65363954, 65363959, 65363961, 65363964, 65363965, 65363966,\n",
       "         65363967, 65363968, 65363971, 65363973, 65363977, 65363978,\n",
       "         65363980, 65363982, 65363985, 65363986, 65363992, 65363995,\n",
       "         65363998, 65364002, 65364003, 65364007, 65364015, 65364016,\n",
       "         65364023, 65364028, 65364030, 65364032, 65364034, 65364043,\n",
       "         65364050, 65364057, 65364060, 65364062, 65364064, 65364066,\n",
       "         65364068, 65364071, 65364073, 65364077, 65364078, 65364081,\n",
       "         65364082, 65364084, 65364085, 65364086, 65364088, 65364089,\n",
       "         65364090, 65364091, 65364092, 65364094, 65364095, 65364096,\n",
       "         65364099, 65364100, 65364101, 65364102, 65364104, 65364106,\n",
       "         65364107, 65364110, 65364111, 65364112, 65364113, 65364117,\n",
       "         65364119, 65364122, 65364124, 65364127, 65364129, 65364133,\n",
       "         65364134, 65364136, 65364137, 65364140, 65364141, 65364143,\n",
       "         65364145, 65364150, 65364153, 65364154, 65364155, 65364157,\n",
       "         65364158, 65364163, 65364164, 65364165, 65364166, 65364167,\n",
       "         65364168, 65364171, 65364172, 65364173, 65364174, 65364179,\n",
       "         65364183, 65364194, 65364195, 65364203, 65364205, 65364209,\n",
       "         65364212, 65364214, 65364217]),\n",
       "  'total_mass': 7141780.066657861,\n",
       "  'sfr': 0.0},\n",
       " '0': {'ID': array([65364634, 65364635, 65364636, 65364638, 65364639, 65364641,\n",
       "         65364642, 65364643, 65364645, 65364646, 65364647, 65364648,\n",
       "         65364649, 65364650, 65364651, 65364652, 65364653, 65364654,\n",
       "         65364657, 65364660, 65364664, 65364665, 65364667, 65364668,\n",
       "         65364670, 65364672, 65364674, 65364676, 65364679, 65364681,\n",
       "         65364683, 65364688, 65364690, 65364691, 65364693, 65364695,\n",
       "         65364698, 65364700, 65364701, 65364702, 65364703, 65364704,\n",
       "         65364705, 65364706, 65364707, 65364708, 65364709, 65364711,\n",
       "         65364713, 65364718, 65364725, 65364726, 65364734, 65364742,\n",
       "         65364744, 65364745, 65364746, 65364747, 65364748, 65364751,\n",
       "         65364752, 65364753, 65364757, 65364763, 65364777, 65364778,\n",
       "         65364780, 65364781, 65364782, 65364783, 65383937, 65383938,\n",
       "         65383939, 65383940, 65383941, 65383942, 65383944, 65383945,\n",
       "         65383946, 65383947, 65383948, 65383949, 65383950, 65383954,\n",
       "         65383955, 65383958, 65383959, 65383961, 65383964, 65383966,\n",
       "         65383970, 65383972, 65383974, 65383975, 65383982, 65383984,\n",
       "         65383986, 65383989, 65383993, 65383994, 65383997, 65383998,\n",
       "         65383999, 65384000, 65384001, 65384002, 65384003]),\n",
       "  'total_mass': 4869553.394685657,\n",
       "  'sfr': 0.4869553394685657},\n",
       " '6': {'ID': array([65365755, 65367533, 65369533, 65369619, 65369710, 65369905,\n",
       "         65369907, 65369909, 65370186, 65370786, 65371414, 65371438,\n",
       "         65371440, 65371442, 65371444, 65371630, 65373976, 65377649,\n",
       "         65380737, 65382017, 65382665, 65383501, 65383572, 65383621,\n",
       "         65383689, 65383718, 65383759, 65383797, 65383854, 65384004,\n",
       "         65384006, 65384007, 65384159, 65384484, 65384596, 65384670,\n",
       "         65384707, 65384786, 65384886, 65385017, 65386305, 65388678,\n",
       "         65391376, 65393248, 65394126, 65394480, 65394532, 65394646,\n",
       "         65394733, 65394838, 65395065, 65395130, 65395625, 65397554,\n",
       "         65401815, 65403820, 65405086, 65405664, 65406016, 65406357,\n",
       "         65407381, 65408949, 65410800, 65418615, 65422298, 65425722,\n",
       "         65428954, 65435793, 65439046, 65439753, 65440683, 65440857]),\n",
       "  'total_mass': 2695.2102393157193,\n",
       "  'sfr': 0.00026952102393157194}}"
      ]
     },
     "execution_count": 51,
     "metadata": {},
     "output_type": "execute_result"
    }
   ],
   "source": [
    "output_check['100']"
   ]
  },
  {
   "cell_type": "code",
   "execution_count": 10,
   "id": "f6a7e6f0-6a4e-4895-a104-05c4e1e1af06",
   "metadata": {
    "tags": []
   },
   "outputs": [
    {
     "data": {
      "text/plain": [
       "dict_keys(['1', '7', '0'])"
      ]
     },
     "execution_count": 10,
     "metadata": {},
     "output_type": "execute_result"
    }
   ],
   "source": [
    "output['101'].keys()"
   ]
  },
  {
   "cell_type": "code",
   "execution_count": 10,
   "id": "4af4cf91-4d14-4cc8-a283-7a47e63dfb82",
   "metadata": {
    "tags": []
   },
   "outputs": [
    {
     "data": {
      "text/plain": [
       "{'tree_loc': '1_22',\n",
       " 'coor': array([0.47356483, 0.50200012, 0.49968263]),\n",
       " 'Rvir': 0.0017621845302556892,\n",
       " 'redshift': 14.393940210744,\n",
       " 'time': 0.2870843688082701,\n",
       " 'gas_mass': 302999751.91776574,\n",
       " 'gas_mass_frac': 0.1788584872392928,\n",
       " 'h2_mass': 30722800.068975758,\n",
       " 'h2_fraction': 0.1013954627834611,\n",
       " 'dm_mass': 1370376768.8724527,\n",
       " 'pop2_mass': 20698815.49721027,\n",
       " 'pop3_mass': 0.0,\n",
       " 'star_mass': 20698815.49721027,\n",
       " 'metal_mass': 84355.03970861924,\n",
       " 'metallicity': 0.0002783996989261999,\n",
       " 'sfr': 0.0,\n",
       " 'total_mass': 1694075336.2874289}"
      ]
     },
     "execution_count": 10,
     "metadata": {},
     "output_type": "execute_result"
    }
   ],
   "source": [
    "ray_tree['1_22']['75']"
   ]
  },
  {
   "cell_type": "markdown",
   "id": "b0c4a4d2-62ea-4612-9d5f-454d2b836712",
   "metadata": {},
   "source": [
    "#### Testing each for loop step"
   ]
  },
  {
   "cell_type": "code",
   "execution_count": 61,
   "id": "06e91e85-442a-4e06-83f0-fa42e0a902f0",
   "metadata": {
    "tags": []
   },
   "outputs": [
    {
     "name": "stderr",
     "output_type": "stream",
     "text": [
      "yt : [INFO     ] 2025-01-02 05:34:59,572 Parameters: current_time              = 19.503658364245\n",
      "yt : [INFO     ] 2025-01-02 05:34:59,574 Parameters: domain_dimensions         = [256 256 256]\n",
      "yt : [INFO     ] 2025-01-02 05:34:59,576 Parameters: domain_left_edge          = [0. 0. 0.]\n",
      "yt : [INFO     ] 2025-01-02 05:34:59,578 Parameters: domain_right_edge         = [1. 1. 1.]\n",
      "yt : [INFO     ] 2025-01-02 05:34:59,580 Parameters: cosmological_simulation   = 1\n",
      "yt : [INFO     ] 2025-01-02 05:34:59,582 Parameters: current_redshift          = 11.175654555311\n",
      "yt : [INFO     ] 2025-01-02 05:34:59,583 Parameters: omega_lambda              = 0.6935\n",
      "yt : [INFO     ] 2025-01-02 05:34:59,585 Parameters: omega_matter              = 0.3065\n",
      "yt : [INFO     ] 2025-01-02 05:34:59,587 Parameters: omega_radiation           = 0.0\n",
      "yt : [INFO     ] 2025-01-02 05:34:59,588 Parameters: hubble_constant           = 0.679\n"
     ]
    }
   ],
   "source": [
    "idx = '196'\n",
    "ray_metadata = np.load('/work/hdd/bbvl/gtg115x/new_zoom_5/box_2_z_1/star_metadata/star_metadata_allbox_%s.npy' % idx, allow_pickle=True).tolist()\n",
    "ray_pos_all = ray_metadata['pos']\n",
    "ray_age_all = ray_metadata['age']\n",
    "ray_mass_all = ray_metadata['mass']\n",
    "ray_ID_all = np.array(np.load('/work/hdd/bbvl/gtg115x/new_zoom_5/box_2_z_1/star_metadata/star_ID_allbox_%s.npy' % idx, allow_pickle=True).tolist()).astype(int)\n",
    "ray_vel_all = np.array(np.load('/work/hdd/bbvl/gtg115x/new_zoom_5/box_2_z_1/star_metadata/star_vel_allbox_%s.npy' % idx, allow_pickle=True).tolist()['vel'])\n",
    "ds = yt.load(ray_pfs[int(idx)])\n",
    "\n",
    "if idx == '21':\n",
    "    ray_ID_all_prev = np.array([])"
   ]
  },
  {
   "cell_type": "code",
   "execution_count": 62,
   "id": "1cfd1306-de50-42a2-a455-489fb566e33f",
   "metadata": {
    "tags": []
   },
   "outputs": [
    {
     "name": "stdout",
     "output_type": "stream",
     "text": [
      "[65769579 65769581 65769590 65769591 65769592 65769593 65769594 65769595\n",
      " 65769596 65769597 65769598 65769599 65769603 65769604 65769607 65769608\n",
      " 65769609 65769611 65769614 65769615 65769618 65769619 65769622 65769624\n",
      " 65769625 65769626 65769627 65769628 65769629 65769631 65769632 65769635\n",
      " 65769637 65769638 65769639 65769640 65769641 65769643 65769645 65769646\n",
      " 65769647 65769649 65769650 65769651 65769652 65769653 65769655 65769656\n",
      " 65769659 65769660 65769661 65769662 65769663 65769666 65769667 65769669\n",
      " 65769671 65769672 65769673 65769674 65769675 65769676 65769678 65769680\n",
      " 65769682 65769683 65769684]\n"
     ]
    }
   ],
   "source": [
    "ray_ID_unassign = np.setdiff1d(ray_ID_all, ray_ID_all_prev)\n",
    "print(ray_ID_unassign)\n",
    "ray_pos_unassign = ray_pos_all[np.intersect1d(ray_ID_all, ray_ID_unassign, return_indices=True)[1]]\n",
    "ray_vel_unassign = ray_vel_all[np.intersect1d(ray_ID_all, ray_ID_unassign, return_indices=True)[1]]"
   ]
  },
  {
   "cell_type": "code",
   "execution_count": 63,
   "id": "dfdab33c-8ded-4ec4-a0be-ce4461e7db0e",
   "metadata": {
    "tags": []
   },
   "outputs": [
    {
     "name": "stdout",
     "output_type": "stream",
     "text": [
      "['0' '0_14' '0_2' '0_8' '0_10' '0_6' '0_13' '1' '1_8' '3' '3_2' '3_1' '4'\n",
      " '4_2' '4_0' '5' '5_0' '6' '8' '8_3' '8_2' '9' '9_1' '9_1_1_0' '9_1_0'\n",
      " '20' '69' '69_1']\n"
     ]
    }
   ],
   "source": [
    "halo_wstars_pos, halo_wstars_rvir, halo_wstars_branch = list_of_halos_wstars_idx(ray_tree, idx)\n",
    "print(halo_wstars_branch)"
   ]
  },
  {
   "cell_type": "code",
   "execution_count": 12,
   "id": "c4630a0d-1c77-4421-b153-e5dede616f75",
   "metadata": {
    "tags": []
   },
   "outputs": [],
   "source": [
    "def find_total_E_multiple(star_pos, star_vel, ds, tree, branch, idx):\n",
    "    #this function calculate the total orbital energy of a star around a halo\n",
    "    #the unit of position is code_length and the unit of velocity is code_length/s\n",
    "    if star_pos.shape == (3,):\n",
    "        star_r_codelength = np.linalg.norm(star_pos - tree[branch][idx]['Halo_Center'])\n",
    "    else:\n",
    "        star_r_codelength = np.linalg.norm(star_pos - tree[branch][idx]['Halo_Center'], axis=1)\n",
    "    star_r = (star_r_codelength*ds.units.code_length).to('m').v\n",
    "    #\n",
    "    halo_vel = (tree[branch][idx]['Vel_Com']*ds.units.code_length/ds.units.s).to('m/s').v\n",
    "    if star_pos.shape == (3,):\n",
    "        star_relvel_mag = np.linalg.norm(star_vel - halo_vel)\n",
    "    else:\n",
    "        star_relvel_mag = np.linalg.norm(star_vel - halo_vel, axis=1)\n",
    "    #Kinetic energy\n",
    "    KE = 0.5*star_relvel_mag**2\n",
    "    #Approximate M(r < star_r) by using the overdensity\n",
    "    oden_list, char_radius_list = extract_char_radius(tree, branch, idx)\n",
    "    char_radius_list = (char_radius_list*ds.units.code_length).to('m').v\n",
    "    oden_boolean = char_radius_list > star_r[:,np.newaxis]\n",
    "    oden = np.array([])\n",
    "    for j in range(len(oden_boolean)):\n",
    "        oden = np.append(oden, oden_list[np.where(oden_boolean[j] == True)[0][-1]])\n",
    "    #\n",
    "    M = (4/3)*np.pi*oden*univDen(ds)*star_r**3\n",
    "    PE = -G.value*M/star_r\n",
    "    E = KE + PE\n",
    "    return E"
   ]
  },
  {
   "cell_type": "code",
   "execution_count": 13,
   "id": "20bcdcfd-9020-4262-8cb8-59123409a976",
   "metadata": {
    "tags": []
   },
   "outputs": [],
   "source": [
    "def find_total_E(star_pos, star_vel, ds, tree, branch, idx):\n",
    "    #this function calculate the total orbital energy of a star around a halo\n",
    "    #the unit of position is code_length and the unit of velocity is code_length/s\n",
    "    star_r_codelength = np.linalg.norm(star_pos - tree[branch][idx]['Halo_Center'])\n",
    "    star_r = (star_r_codelength*ds.units.code_length).to('m').v\n",
    "    #\n",
    "    halo_vel = (tree[branch][idx]['Vel_Com']*ds.units.code_length/ds.units.s).to('m/s').v\n",
    "    star_relvel_mag = np.linalg.norm(star_vel - halo_vel)\n",
    "    #Kinetic energy\n",
    "    KE = 0.5*star_relvel_mag**2\n",
    "    #Approximate M(r < star_r) by using the overdensity\n",
    "    oden_list, char_radius_list = extract_char_radius(tree, branch, idx)\n",
    "    char_radius_list = (char_radius_list*ds.units.code_length).to('m').v\n",
    "    oden = oden_list[char_radius_list > star_r][-1]\n",
    "    M = (4/3)*np.pi*oden*univDen(ds)*star_r**3\n",
    "    PE = -G.value*M/star_r\n",
    "    E = KE + PE\n",
    "    return E"
   ]
  },
  {
   "cell_type": "code",
   "execution_count": 64,
   "id": "fddda328-c18d-48d6-ab2c-8572c7123fde",
   "metadata": {
    "tags": []
   },
   "outputs": [
    {
     "name": "stdout",
     "output_type": "stream",
     "text": [
      "OVERLAP DETECTED\n",
      "Star ID 65769579 belong to Branch 9_1_0 with energies [2.27404812e+09 2.31908535e+09 2.04412294e+09 7.04623371e+08]\n",
      "Star ID 65769581 belong to Branch 9_1_0 with energies [2.27488678e+09 2.31944627e+09 2.04462480e+09 7.14668490e+08]\n",
      "Star ID 65769590 belong to Branch 1_8 with energies [ 8.63616905e+08 -1.52323347e+09]\n",
      "Star ID 65769591 belong to Branch 1_8 with energies [ 8.61315863e+08 -1.51637336e+09]\n",
      "Star ID 65769592 belong to Branch 1_8 with energies [ 8.61467133e+08 -1.51652629e+09]\n",
      "Star ID 65769593 belong to Branch 1_8 with energies [ 8.61599742e+08 -1.51664657e+09]\n",
      "Star ID 65769594 belong to Branch 1_8 with energies [ 8.61760352e+08 -1.51678897e+09]\n",
      "Star ID 65769595 belong to Branch 1_8 with energies [ 8.55008091e+08 -1.50751866e+09]\n",
      "Star ID 65769596 belong to Branch 1_8 with energies [ 8.61904304e+08 -1.51690079e+09]\n",
      "Star ID 65769597 belong to Branch 1_8 with energies [ 8.55124601e+08 -1.50772976e+09]\n",
      "Star ID 65769598 belong to Branch 1_8 with energies [ 8.62041227e+08 -1.51699020e+09]\n",
      "Star ID 65769599 belong to Branch 1_8 with energies [ 8.57376707e+08 -1.51073449e+09]\n",
      "Star ID 65769603 belong to Branch 1_8 with energies [ 8.58743113e+08 -1.51281409e+09]\n",
      "Star ID 65769604 belong to Branch 1_8 with energies [ 8.56543012e+08 -1.51098076e+09]\n",
      "Star ID 65769607 belong to Branch 1_8 with energies [ 8.59442846e+08 -1.51281782e+09]\n",
      "Star ID 65769608 belong to Branch 1_8 with energies [ 8.56568697e+08 -1.51103675e+09]\n",
      "Star ID 65769609 belong to Branch 1_8 with energies [ 8.57639875e+08 -1.50938780e+09]\n",
      "Star ID 65769611 belong to Branch 1_8 with energies [ 8.59516555e+08 -1.51421794e+09]\n",
      "Star ID 65769614 belong to Branch 1_8 with energies [ 8.58255265e+08 -1.51102778e+09]\n",
      "Star ID 65769615 belong to Branch 1_8 with energies [ 8.56666685e+08 -1.51120213e+09]\n",
      "Star ID 65769618 belong to Branch 1_8 with energies [ 8.58467865e+08 -1.51294021e+09]\n",
      "Star ID 65769619 belong to Branch 1_8 with energies [ 8.58029939e+08 -1.51159532e+09]\n",
      "Star ID 65769622 belong to Branch 1_8 with energies [ 8.54473297e+08 -1.50469089e+09]\n",
      "Star ID 65769624 belong to Branch 1_8 with energies [ 8.59901298e+08 -1.51447404e+09]\n",
      "Star ID 65769625 belong to Branch 1_8 with energies [ 8.56709815e+08 -1.51079921e+09]\n",
      "Star ID 65769626 belong to Branch 1_8 with energies [ 8.57024804e+08 -1.51166211e+09]\n",
      "Star ID 65769627 belong to Branch 1_8 with energies [ 8.61205791e+08 -1.51262667e+09]\n",
      "Star ID 65769628 belong to Branch 1_8 with energies [ 8.57043803e+08 -1.51162316e+09]\n",
      "Star ID 65769629 belong to Branch 1_8 with energies [ 8.55786131e+08 -1.50809621e+09]\n",
      "Star ID 65769631 belong to Branch 1_8 with energies [ 8.57197557e+08 -1.51183965e+09]\n",
      "Star ID 65769632 belong to Branch 1_8 with energies [ 8.59323411e+08 -1.51273220e+09]\n",
      "Star ID 65769635 belong to Branch 1_8 with energies [ 8.58583830e+08 -1.51208392e+09]\n",
      "Star ID 65769637 belong to Branch 1_8 with energies [ 8.57403576e+08 -1.51198731e+09]\n",
      "Star ID 65769638 belong to Branch 1_8 with energies [ 8.57532253e+08 -1.51200368e+09]\n",
      "Star ID 65769639 belong to Branch 1_8 with energies [ 8.55511742e+08 -1.50669701e+09]\n",
      "Star ID 65769640 belong to Branch 1_8 with energies [ 8.58023903e+08 -1.51334331e+09]\n",
      "Star ID 65769641 belong to Branch 1_8 with energies [ 8.5981029e+08 -1.5130093e+09]\n",
      "Star ID 65769643 belong to Branch 1_8 with energies [ 8.56849314e+08 -1.51005328e+09]\n",
      "Star ID 65769645 belong to Branch 1_8 with energies [ 8.57905756e+08 -1.51228539e+09]\n",
      "Star ID 65769646 belong to Branch 1_8 with energies [ 8.55641027e+08 -1.50564457e+09]\n",
      "Star ID 65769647 belong to Branch 1_8 with energies [ 8.57272792e+08 -1.51066656e+09]\n",
      "Star ID 65769649 belong to Branch 1_8 with energies [ 8.58219102e+08 -1.51250504e+09]\n",
      "Star ID 65769650 belong to Branch 1_8 with energies [ 8.55790284e+08 -1.50586002e+09]\n",
      "Star ID 65769651 belong to Branch 1_8 with energies [ 8.58397408e+08 -1.51257664e+09]\n",
      "Star ID 65769652 belong to Branch 1_8 with energies [ 8.5688658e+08 -1.5095285e+09]\n",
      "Star ID 65769653 belong to Branch 1_8 with energies [ 8.57258525e+08 -1.50947785e+09]\n",
      "Star ID 65769655 belong to Branch 1_8 with energies [ 8.58720382e+08 -1.51278752e+09]\n",
      "Star ID 65769656 belong to Branch 1_8 with energies [ 8.59166714e+08 -1.51144494e+09]\n",
      "Star ID 65769659 belong to Branch 1_8 with energies [ 8.57478701e+08 -1.51072894e+09]\n",
      "Star ID 65769660 belong to Branch 1_8 with energies [ 8.58986425e+08 -1.51294491e+09]\n",
      "Star ID 65769661 belong to Branch 1_8 with energies [ 8.56307418e+08 -1.50656023e+09]\n",
      "Star ID 65769662 belong to Branch 1_8 with energies [ 8.59197228e+08 -1.51303843e+09]\n",
      "Star ID 65769663 belong to Branch 1_8 with energies [ 8.57813323e+08 -1.50984095e+09]\n",
      "Star ID 65769666 belong to Branch 1_8 with energies [ 8.58877855e+08 -1.51291864e+09]\n",
      "Star ID 65769667 belong to Branch 1_8 with energies [ 8.58010847e+08 -1.50998025e+09]\n",
      "Star ID 65769669 belong to Branch 1_8 with energies [ 8.58233613e+08 -1.51021567e+09]\n",
      "Star ID 65769671 belong to Branch 1_8 with energies [ 8.59886783e+08 -1.51335426e+09]\n",
      "Star ID 65769672 belong to Branch 1_8 with energies [ 8.56991629e+08 -1.50744574e+09]\n",
      "Star ID 65769673 belong to Branch 1_8 with energies [ 8.60084915e+08 -1.51347829e+09]\n",
      "Star ID 65769674 belong to Branch 1_8 with energies [ 8.57192271e+08 -1.50772149e+09]\n",
      "Star ID 65769675 belong to Branch 1_8 with energies [ 8.60274042e+08 -1.51361298e+09]\n",
      "Star ID 65769676 belong to Branch 1_8 with energies [ 8.58825564e+08 -1.51077834e+09]\n",
      "Star ID 65769678 belong to Branch 1_8 with energies [ 8.59004637e+08 -1.51100359e+09]\n",
      "Star ID 65769680 belong to Branch 1_8 with energies [ 8.59117454e+08 -1.51114733e+09]\n",
      "Star ID 65769682 belong to Branch 1_8 with energies [ 8.57881023e+08 -1.50877714e+09]\n",
      "Star ID 65769683 belong to Branch 1_8 with energies [ 8.60926678e+08 -1.51428449e+09]\n",
      "Star ID 65769684 belong to Branch 1_8 with energies [ 8.58021826e+08 -1.50905550e+09]\n"
     ]
    }
   ],
   "source": [
    "#The shape of halo_boolean is (X,Y), where X is the number of star particles and Y is the number of halos with stars\n",
    "halo_boolean = np.linalg.norm(ray_pos_unassign[:, np.newaxis, :] - halo_wstars_pos, axis=2) <= halo_wstars_rvir\n",
    "#The number of halos a star particle is in. For example, if this value = 2, the star particle is in the region of 2 halos\n",
    "overlap_boolean = np.sum(halo_boolean, axis=1) \n",
    "#The list of stars in each halo's region\n",
    "starmap_ID = []\n",
    "    \n",
    "ray_ID_overlap = ray_ID_unassign[overlap_boolean > 1]\n",
    "halo_boolean_overlap = halo_boolean[overlap_boolean > 1]\n",
    "ray_ID_indp = ray_ID_unassign[overlap_boolean == 1]\n",
    "halo_boolean_indp = halo_boolean[overlap_boolean == 1]\n",
    "\n",
    "for j in range(halo_boolean_indp.shape[1]):\n",
    "    starmap_ID.append(ray_ID_indp[halo_boolean_indp[:,j]])\n",
    "    \n",
    "if len(ray_ID_overlap) > 0:\n",
    "    print('OVERLAP DETECTED')\n",
    "    ray_pos_overlap = ray_pos_unassign[overlap_boolean > 1]\n",
    "    ray_vel_overlap = ray_vel_unassign[overlap_boolean > 1]\n",
    "    #WRITE MORE CODE HERE TO IMPLEMENT THE DETERMINATION OF STARS TO SPECIFIC HALOS\n",
    "    for k in range(len(ray_ID_overlap)):\n",
    "        overlap_branch = halo_wstars_branch[halo_boolean_overlap[k]]\n",
    "        E_list = np.array([])\n",
    "        for branch in overlap_branch:\n",
    "            E = find_total_E(ray_pos_overlap[k], ray_vel_overlap[k], ds, ray_rawtree, branch, int(idx))\n",
    "            E_list = np.append(E_list, E)\n",
    "        bound_branch = overlap_branch[np.argmin(E_list)]\n",
    "        print('Star ID', ray_ID_overlap[k], 'belong to Branch', bound_branch, 'with energies', E_list)\n",
    "        starmap_ID[list(halo_wstars_branch).index(bound_branch)] = np.append(starmap_ID[list(halo_wstars_branch).index(bound_branch)], ray_ID_overlap[k])"
   ]
  },
  {
   "cell_type": "code",
   "execution_count": null,
   "id": "badaaebc-4873-4fc4-9106-808ebb9773d3",
   "metadata": {},
   "outputs": [],
   "source": [
    "\"\"\" Old version before 01/01/2024\n",
    "#The shape of halo_boolean is (X,Y), where X is the number of star particles and Y is the number of halos with stars\n",
    "halo_boolean = np.linalg.norm(ray_pos_unassign[:, np.newaxis, :] - halo_wstars_pos, axis=2) <= halo_wstars_rvir\n",
    "#The number of halos a star particle is in. For example, if this value = 2, the star particle is in the region of 2 halos\n",
    "overlap_boolean = np.sum(halo_boolean, axis=1) \n",
    "#The list of stars in each halo's region\n",
    "starmap_ID = []\n",
    "if len(overlap_boolean) > 0 and (overlap_boolean > 1).any() == True:\n",
    "    print('OVERLAP DETECTED')\n",
    "    for n in range(len(halo_wstars_branch)):\n",
    "        starmap_ID.append(np.empty(0))\n",
    "    ray_pos_overlap = ray_pos_unassign[overlap_boolean > 1]\n",
    "    ray_vel_overlap = ray_vel_unassign[overlap_boolean > 1]\n",
    "    ray_ID_overlap = ray_ID_unassign[overlap_boolean > 1]\n",
    "    #WRITE MORE CODE HERE TO IMPLEMENT THE DETERMINATION OF STARS TO SPECIFIC HALOS\n",
    "    for k in range(len(halo_boolean)):\n",
    "        overlap_branch = halo_wstars_branch[halo_boolean[k]]\n",
    "        E_list = np.array([])\n",
    "        for branch in overlap_branch:\n",
    "            E = find_total_E(ray_pos_overlap[k], ray_vel_overlap[k], ds, ray_rawtree, branch, int(idx))\n",
    "            E_list = np.append(E_list, E)\n",
    "        bound_branch = overlap_branch[np.argmin(E_list)]\n",
    "        print('Star ID', ray_ID_overlap[k], 'belong to Branch', bound_branch)\n",
    "        starmap_ID[list(halo_wstars_branch).index(bound_branch)] = np.append(starmap_ID[list(halo_wstars_branch).index(bound_branch)], ray_ID_overlap[k])\n",
    "else: #if none of the stars are in overlapped halos\n",
    "    for j in range(halo_boolean.shape[1]):\n",
    "        starmap_ID.append(ray_ID_unassign[halo_boolean[:,j]])\n",
    "\"\"\""
   ]
  },
  {
   "cell_type": "code",
   "execution_count": 65,
   "id": "1a5b84cb-ee9b-45ad-9986-87222b3f338f",
   "metadata": {
    "tags": []
   },
   "outputs": [
    {
     "name": "stdout",
     "output_type": "stream",
     "text": [
      "SUB-SUB-BRANCHES DETECTED AT SNAPSHOT 196\n"
     ]
    }
   ],
   "source": [
    "i = 24\n",
    "if len(starmap_ID[i]) > 0: \n",
    "    for j in ray_tree[halo_wstars_branch[i]].keys(): #assuming when a star forms inside a halo, it will not leave that halo \n",
    "        if int(j) >= int(idx):\n",
    "            if halo_wstars_branch[i] not in output[j].keys():\n",
    "                output[j][halo_wstars_branch[i]] = starmap_ID[i]\n",
    "            else:\n",
    "                output[j][halo_wstars_branch[i]] = np.append(output[j][halo_wstars_branch[i]], starmap_ID[i])\n",
    "    if halo_wstars_branch[i].count('_') > 1:\n",
    "        print('SUB-SUB-BRANCHES DETECTED AT SNAPSHOT', idx)\n",
    "    nlevels = halo_wstars_branch[i].count('_')\n",
    "    #for subbranch (or deeper sub-branch), the stars in that sub-branch will belong to the branch at lower level after the two halos merge\n",
    "    loop_branch = halo_wstars_branch[i]\n",
    "    for level in range(nlevels):\n",
    "        deepest_lvl = loop_branch.split('_')[-1]\n",
    "        mainbranch = loop_branch.split('_' + deepest_lvl)[0]\n",
    "        merge_timestep = np.max(np.array(list(ray_tree[loop_branch].keys())).astype(int)) + 1\n",
    "        last_timestep = np.max(np.array(list(ray_tree[mainbranch].keys())).astype(int))\n",
    "        for j in range(merge_timestep, last_timestep + 1):\n",
    "            if mainbranch not in output[str(j)].keys():\n",
    "                output[str(j)][mainbranch] = starmap_ID[i]\n",
    "            else:\n",
    "                output[str(j)][mainbranch] = np.append(output[str(j)][mainbranch], starmap_ID[i])\n",
    "        loop_branch = mainbranch"
   ]
  },
  {
   "cell_type": "code",
   "execution_count": 71,
   "id": "28f092ff-d57f-4990-907e-173d86d138ac",
   "metadata": {
    "tags": []
   },
   "outputs": [
    {
     "data": {
      "text/plain": [
       "array([65769579, 65769581])"
      ]
     },
     "execution_count": 71,
     "metadata": {},
     "output_type": "execute_result"
    }
   ],
   "source": [
    "output['210']['9_1_0']"
   ]
  },
  {
   "cell_type": "code",
   "execution_count": 31,
   "id": "ff80336c-a18c-43c7-af20-74a38c903374",
   "metadata": {
    "tags": []
   },
   "outputs": [
    {
     "data": {
      "text/plain": [
       "dict_keys(['158', '159', '160', '161', '162', '163', '164', '165', '166', '167', '168', '169', '170', '171', '172', '173', '174', '175', '176', '177', '178', '179', '180', '181', '182', '183', '184', '185', '186', '187', '188', '189', '190', '191', '192', '193', '194', '195', '196', '197', '198', '199', '200', '201', '202', '203', '204', '205', '206', '207', '208', '209', '210', '211'])"
      ]
     },
     "execution_count": 31,
     "metadata": {},
     "output_type": "execute_result"
    }
   ],
   "source": [
    "ray_tree['9'].keys()"
   ]
  },
  {
   "cell_type": "code",
   "execution_count": 26,
   "id": "d489e4d3-ae56-4612-9122-5a778b293c74",
   "metadata": {
    "tags": []
   },
   "outputs": [
    {
     "data": {
      "text/plain": [
       "dict_keys(['47', '48', '49', '50', '51', '52', '53', '54', '55', '56', '57', '58', '59', '60', '61', '62', '63', '64', '65', '66', '67', '68', '69', '70', '71', '72', '73', '74', '75', '76', '77', '78', '79', '80', '81', '82', '83', '84', '85', '86', '87', '88', '89', '90', '91', '92', '93', '94', '95', '96', '97', '98', '99', '100', '101', '102', '103', '104', '105', '106', '107', '108', '109', '110', '111', '112', '113', '114', '115', '116', '117', '118', '119', '120', '121', '122', '123', '124', '125', '126', '127', '128', '129', '130', '131', '132', '133', '134', '135', '136', '137', '138', '139', '140', '141', '142', '143', '144', '145', '146', '147', '148', '149', '150', '151', '152', '153', '154', '155', '156', '157', '158', '159', '160', '161', '162', '163', '164', '165', '166', '167', '168', '169', '170', '171', '172', '173', '174', '175', '176', '177', '178', '179', '180', '181', '182', '183', '184', '185', '186', '187', '188', '189', '190', '191', '192', '193', '194', '195', '196', '197', '198', '199', '200', '201', '202', '203', '204', '205', '206', '207', '208', '209', '210'])"
      ]
     },
     "execution_count": 26,
     "metadata": {},
     "output_type": "execute_result"
    }
   ],
   "source": [
    "ray_tree[halo_wstars_branch[i]].keys()"
   ]
  },
  {
   "cell_type": "markdown",
   "id": "a18caed8-d8ee-4b02-b60e-338dd493eed5",
   "metadata": {},
   "source": [
    "To do:\n",
    "+ In a case where one particle belongs to multiple halos, write code to assign that star to a specific halo -> done\n",
    "+ If a star particle belongs to a sub-branch (for example, '0_20'), add it to the main branch when the halos merge (in the example, add it to branch '0') (done, however, the code doesn't account for sub-sub halos yet (or deeper sub-branches) -> done\n",
    "+ In the final step, double check whether all stars are located in each halos of all snapshots. If they are not, remove them. -> done\n"
   ]
  },
  {
   "cell_type": "code",
   "execution_count": 342,
   "id": "2cac3691-b65c-451d-9c27-359a3849efe4",
   "metadata": {},
   "outputs": [
    {
     "data": {
      "text/plain": [
       "269"
      ]
     },
     "execution_count": 342,
     "metadata": {},
     "output_type": "execute_result"
    }
   ],
   "source": [
    "len(output['57']['1'])"
   ]
  },
  {
   "cell_type": "markdown",
   "id": "2585657d-1b8b-4544-bf19-27703efe9953",
   "metadata": {},
   "source": [
    "### Star Assignment Technique using Energy Definition"
   ]
  },
  {
   "cell_type": "code",
   "execution_count": 2,
   "id": "4f70f6f8-7eab-49ac-9023-e3f77061bec6",
   "metadata": {
    "tags": []
   },
   "outputs": [],
   "source": [
    "def univDen(ds):\n",
    "    # Hubble constant\n",
    "    H0 = ds.hubble_constant * 100 * u.km/u.s/u.Mpc\n",
    "    H = H0**2 * (ds.omega_matter*(1 + ds.current_redshift)**3 + ds.omega_lambda)  # Technically H^2\n",
    "    G = 6.67e-11 * u.m**3/u.s**2/u.kg\n",
    "    # Density of the universe\n",
    "    den = (3*H/(8*np.pi*G)).to(\"kg/m**3\") / u.kg * u.m**3\n",
    "    return den.value"
   ]
  },
  {
   "cell_type": "code",
   "execution_count": 3,
   "id": "99e10010-7eba-45f8-83de-38c974e6bfa5",
   "metadata": {
    "tags": []
   },
   "outputs": [],
   "source": [
    "def extract_char_radius(tree, branch, idx):\n",
    "    oden_list = np.array([100, 150, 200, 250, 300, 500, 700])\n",
    "    char_radius_list = np.array([])\n",
    "    for oden in oden_list:\n",
    "        key = 'r%s' % oden\n",
    "        char_radius_list = np.append(char_radius_list, tree[branch][idx][key])\n",
    "    return oden_list, char_radius_list"
   ]
  },
  {
   "cell_type": "code",
   "execution_count": 4,
   "id": "4e5377c8-749c-4351-8d91-667969ec1b4c",
   "metadata": {
    "tags": []
   },
   "outputs": [],
   "source": [
    "def find_total_E(star_r, star_relvel_mag, ds, tree, branch, idx):\n",
    "    #this function calculate the total orbital energy of a star around a halo\n",
    "    #the unit of position is km and the unit of velocity is km/s\n",
    "    KE = 0.5*star_relvel_mag**2\n",
    "    #Approximate M(r < star_r) by using the overdensity\n",
    "    oden_list, char_radius_list = extract_char_radius(tree, branch, idx)\n",
    "    char_radius_list = (char_radius_list*ds.units.code_length).to('m').v\n",
    "    oden = oden_list[char_radius_list > star_r][-1]\n",
    "    #\n",
    "    M = (4/3)*np.pi*oden*univDen(ds)*star_r**3\n",
    "    PE = -G.value*M/star_r\n",
    "    E = KE + PE\n",
    "    return E"
   ]
  },
  {
   "cell_type": "code",
   "execution_count": 5,
   "id": "9ef90a98-af8c-4e7e-8557-a4c074f34704",
   "metadata": {
    "tags": []
   },
   "outputs": [],
   "source": [
    "ray_rawtree = np.load('/scratch/bbvl/gtg115x/new_zoom_5/box_2_z_1/halotree_1088_final.npy', allow_pickle=True).tolist()\n",
    "ray_pfs = np.loadtxt('/scratch/bbvl/gtg115x/new_zoom_5/box_2_z_1/pfs_allsnaps_1088.txt', dtype=str).tolist()"
   ]
  },
  {
   "cell_type": "code",
   "execution_count": 6,
   "id": "6c5392cd-c4c9-4132-8648-956e7eacc33e",
   "metadata": {
    "tags": []
   },
   "outputs": [],
   "source": [
    "idx = 170\n",
    "branch = '0'"
   ]
  },
  {
   "cell_type": "code",
   "execution_count": 7,
   "id": "9c515928-3bb8-479b-8ff5-b01baecdc68d",
   "metadata": {
    "tags": []
   },
   "outputs": [
    {
     "name": "stderr",
     "output_type": "stream",
     "text": [
      "yt : [INFO     ] 2024-12-13 18:28:03,482 Parameters: current_time              = 18.261035164245\n",
      "yt : [INFO     ] 2024-12-13 18:28:03,484 Parameters: domain_dimensions         = [256 256 256]\n",
      "yt : [INFO     ] 2024-12-13 18:28:03,485 Parameters: domain_left_edge          = [0. 0. 0.]\n",
      "yt : [INFO     ] 2024-12-13 18:28:03,486 Parameters: domain_right_edge         = [1. 1. 1.]\n",
      "yt : [INFO     ] 2024-12-13 18:28:03,487 Parameters: cosmological_simulation   = 1\n",
      "yt : [INFO     ] 2024-12-13 18:28:03,488 Parameters: current_redshift          = 11.722141902049\n",
      "yt : [INFO     ] 2024-12-13 18:28:03,489 Parameters: omega_lambda              = 0.6935\n",
      "yt : [INFO     ] 2024-12-13 18:28:03,489 Parameters: omega_matter              = 0.3065\n",
      "yt : [INFO     ] 2024-12-13 18:28:03,490 Parameters: omega_radiation           = 0.0\n",
      "yt : [INFO     ] 2024-12-13 18:28:03,491 Parameters: hubble_constant           = 0.679\n"
     ]
    }
   ],
   "source": [
    "ds = yt.load(ray_pfs[idx])"
   ]
  },
  {
   "cell_type": "code",
   "execution_count": 8,
   "id": "ed470a72-794e-4754-b092-72bbe40e3e89",
   "metadata": {
    "tags": []
   },
   "outputs": [],
   "source": [
    "ray_metadata = np.load('/work/hdd/bbvl/gtg115x/new_zoom_5/box_2_z_1/star_metadata/star_metadata_allbox_%s.npy' % idx, allow_pickle=True).tolist()\n",
    "ray_pos_all = ray_metadata['pos']\n",
    "ray_age_all = ray_metadata['age']\n",
    "ray_ID_all = np.array(np.load('/work/hdd/bbvl/gtg115x/new_zoom_5/box_2_z_1/star_metadata/star_ID_allbox_%s.npy' % idx, allow_pickle=True).tolist())\n",
    "ray_vel_all = np.array(np.load('/work/hdd/bbvl/gtg115x/new_zoom_5/box_2_z_1/star_metadata/star_vel_allbox_%s.npy' % idx, allow_pickle=True).tolist()['vel'])"
   ]
  },
  {
   "cell_type": "code",
   "execution_count": 32,
   "id": "bcb467cb-6cc0-4c2a-a3e2-933f41118832",
   "metadata": {
    "tags": []
   },
   "outputs": [],
   "source": [
    "ray_halo_center = ray_rawtree[branch][idx]['Halo_Center']\n",
    "ray_halo_rvir = ray_rawtree[branch][idx]['Halo_Radius']\n",
    "ray_halo_vel = ray_rawtree[branch][idx]['Vel_Com']"
   ]
  },
  {
   "cell_type": "code",
   "execution_count": 33,
   "id": "85db83e9-37ae-4a5d-8489-8e4a367ddf4b",
   "metadata": {
    "tags": []
   },
   "outputs": [],
   "source": [
    "halo_boolean = np.linalg.norm(ray_pos_all - ray_halo_center, axis=1) < ray_halo_rvir\n",
    "halo_star_pos = ray_pos_all[halo_boolean]\n",
    "halo_star_r = np.linalg.norm(halo_star_pos - ray_halo_center, axis=1)\n",
    "halo_star_r = (halo_star_r*ds.units.code_length).to('m').v\n",
    "halo_star_vel = ray_vel_all[halo_boolean]\n",
    "halo_star_relvel_mag = np.linalg.norm(halo_star_vel - ray_halo_vel, axis=1)\n",
    "halo_star_relvel_mag = (halo_star_relvel_mag*ds.units.km/ds.units.s).to('m/s').v\n",
    "halo_star_age = ray_age_all[halo_boolean]\n",
    "halo_star_ID = ray_ID_all[halo_boolean]"
   ]
  },
  {
   "cell_type": "code",
   "execution_count": 34,
   "id": "af8727da-32e6-42b8-be35-2bd31ac4b1f6",
   "metadata": {
    "tags": []
   },
   "outputs": [],
   "source": [
    "E_list = []\n",
    "for j in range(len(halo_star_r)):\n",
    "    E_list.append(find_total_E(halo_star_r[j], halo_star_relvel_mag[j], ds, ray_rawtree, branch, idx))\n",
    "E_list = np.array(E_list)"
   ]
  },
  {
   "cell_type": "code",
   "execution_count": 35,
   "id": "d8adeb48-ee9f-4acc-b77a-a8ac1199771a",
   "metadata": {
    "tags": []
   },
   "outputs": [
    {
     "data": {
      "text/plain": [
       "Text(0.5, 0, 'Distance to Halo Center / Rvir')"
      ]
     },
     "execution_count": 35,
     "metadata": {},
     "output_type": "execute_result"
    },
    {
     "data": {
      "image/png": "[encoded data removed]",
      "text/plain": [
       "<Figure size 640x480 with 1 Axes>"
      ]
     },
     "metadata": {},
     "output_type": "display_data"
    }
   ],
   "source": [
    "#sns.kdeplot(x = halo_star_r/(ray_halo_rvir*ds.units.code_length).to('m'), y = E_list, fill=True)\n",
    "plt.plot(halo_star_r/(ray_halo_rvir*ds.units.code_length).to('m'), E_list, '.')\n",
    "plt.axhline(0, linestyle='--', color='black')\n",
    "plt.ylabel('KE + PE')\n",
    "plt.xlabel('Distance to Halo Center / Rvir')"
   ]
  },
  {
   "cell_type": "code",
   "execution_count": null,
   "id": "a30fc7d8-4d23-414b-96e8-18e5c5638959",
   "metadata": {},
   "outputs": [],
   "source": []
  },
  {
   "cell_type": "markdown",
   "id": "488cea19-6d2b-4a0e-88d2-73d8c0249987",
   "metadata": {},
   "source": [
    "Only 30% of the stars are bound, which is unlikely. The error may come from the fact that the center of the stellar population is significantly off from the halo center, this introduces errors in the energy calculation. \n",
    "\n",
    "Suggestion from Kirk: subtract "
   ]
  },
  {
   "cell_type": "markdown",
   "id": "0b933d2d-579a-4750-95c9-97c836b9bfe9",
   "metadata": {},
   "source": [
    "Use peak to determine the group of "
   ]
  },
  {
   "cell_type": "markdown",
   "id": "ddcf269f-08aa-4bc1-95cf-37339e3d2b24",
   "metadata": {},
   "source": [
    "### Star Assignment Technique from AGORA Paper V and VII"
   ]
  },
  {
   "cell_type": "markdown",
   "id": "32ff9ba5-a838-4927-9695-b9eb81362f7b",
   "metadata": {},
   "source": [
    "Because SHINBAD output doesn't store the maximum circular velocity, we need to estimate it from the circular velocity at the virial radius"
   ]
  },
  {
   "cell_type": "code",
   "execution_count": 2,
   "id": "6c48c26c-9fb8-46b1-bbda-418929c75b62",
   "metadata": {
    "tags": []
   },
   "outputs": [],
   "source": [
    "def weighted_std(values, weights_list):\n",
    "    \"\"\"\n",
    "    Return the weighted standard deviation.\n",
    "\n",
    "    values, weights -- NumPy ndarrays with the same shape.\n",
    "    \"\"\"\n",
    "    average = np.average(values, weights=weights_list)\n",
    "    N = len(values)\n",
    "    # Fast and numerically precise:\n",
    "    variance = np.sum(weights_list*(values-average)**2)/((N-1)*np.sum(weights_list)/N)\n",
    "    return np.sqrt(variance)"
   ]
  },
  {
   "cell_type": "code",
   "execution_count": 3,
   "id": "adf29027-62c6-409b-b515-2dbfbfc378b6",
   "metadata": {
    "tags": []
   },
   "outputs": [],
   "source": [
    "def star_assignment(tree, branch, idx, pfs, sigma_cut = 2, distance_cut = 2):\n",
    "    ds = yt.load(pfs[int(idx)])\n",
    "    #\n",
    "    branch = '0_4'\n",
    "    halo_center = tree[branch][int(idx)]['Halo_Center']\n",
    "    halo_rvir = tree[branch][int(idx)]['Halo_Radius']\n",
    "    halo_mass = tree[branch][int(idx)]['Halo_Mass']\n",
    "    halo_vel = tree[branch][int(idx)]['Vel_Com']\n",
    "    halo_vel = (halo_vel*ds.units.code_length/ds.units.s).to('km/s').v\n",
    "    #\n",
    "    halo_rvir_si = ((halo_rvir*ds.units.code_length).to('m').v)*u.m\n",
    "    halo_mass_si = ((halo_mass*ds.units.Msun).to('kg').v)*u.kg\n",
    "    vcir = np.sqrt(G*halo_mass_si/halo_rvir_si).to('km/s').value #this is the circular velocity at r = Rvir\n",
    "    #"
   ]
  },
  {
   "cell_type": "code",
   "execution_count": 17,
   "id": "df8f2df2-44c5-4578-807e-07d691864856",
   "metadata": {
    "tags": []
   },
   "outputs": [
    {
     "name": "stderr",
     "output_type": "stream",
     "text": [
      "yt : [INFO     ] 2024-12-11 16:59:32,587 Parameters: current_time              = 19.408071964245\n",
      "yt : [INFO     ] 2024-12-11 16:59:32,590 Parameters: domain_dimensions         = [256 256 256]\n",
      "yt : [INFO     ] 2024-12-11 16:59:32,592 Parameters: domain_left_edge          = [0. 0. 0.]\n",
      "yt : [INFO     ] 2024-12-11 16:59:32,595 Parameters: domain_right_edge         = [1. 1. 1.]\n",
      "yt : [INFO     ] 2024-12-11 16:59:32,597 Parameters: cosmological_simulation   = 1\n",
      "yt : [INFO     ] 2024-12-11 16:59:32,600 Parameters: current_redshift          = 11.215615860209\n",
      "yt : [INFO     ] 2024-12-11 16:59:32,602 Parameters: omega_lambda              = 0.6935\n",
      "yt : [INFO     ] 2024-12-11 16:59:32,604 Parameters: omega_matter              = 0.3065\n",
      "yt : [INFO     ] 2024-12-11 16:59:32,607 Parameters: omega_radiation           = 0.0\n",
      "yt : [INFO     ] 2024-12-11 16:59:32,607 Parameters: hubble_constant           = 0.679\n"
     ]
    }
   ],
   "source": [
    "idx = '194'\n",
    "ray_pfs = np.loadtxt('/scratch/bbvl/gtg115x/new_zoom_5/box_2_z_1/pfs_allsnaps_1088.txt', dtype=str).tolist()\n",
    "ds = yt.load(ray_pfs[int(idx)])"
   ]
  },
  {
   "cell_type": "code",
   "execution_count": 5,
   "id": "24e85bad-07e2-4ea8-87da-4649dd69ff59",
   "metadata": {
    "tags": []
   },
   "outputs": [],
   "source": [
    "ray_rawtree = np.load('/scratch/bbvl/gtg115x/new_zoom_5/box_2_z_1/halotree_1088_final.npy', allow_pickle=True).tolist()"
   ]
  },
  {
   "cell_type": "code",
   "execution_count": 18,
   "id": "0533f24f-acef-41c6-8d5a-1362e042503a",
   "metadata": {
    "tags": []
   },
   "outputs": [],
   "source": [
    "branch = '0'\n",
    "halo_center = ray_rawtree[branch][int(idx)]['Halo_Center']\n",
    "halo_rvir = ray_rawtree[branch][int(idx)]['Halo_Radius']\n",
    "halo_mass = ray_rawtree[branch][int(idx)]['Halo_Mass']\n",
    "halo_vel = ray_rawtree[branch][int(idx)]['Vel_Com']\n",
    "halo_vel = (halo_vel*ds.units.code_length/ds.units.s).to('km/s').v\n",
    "\n",
    "halo_rvir_si = ((halo_rvir*ds.units.code_length).to('m').v)*u.m\n",
    "halo_mass_si = ((halo_mass*ds.units.Msun).to('kg').v)*u.kg\n",
    "vcir = np.sqrt(G*halo_mass_si/halo_rvir_si).to('km/s').value #this is the circular velocity at r = Rvir"
   ]
  },
  {
   "cell_type": "code",
   "execution_count": 19,
   "id": "fb42ce45-637f-43a3-8928-644d333e2b99",
   "metadata": {
    "tags": []
   },
   "outputs": [],
   "source": [
    "ray_metadata = np.load('/work/hdd/bbvl/gtg115x/new_zoom_5/box_2_z_1/star_metadata/star_metadata_allbox_%s.npy' % idx, allow_pickle=True).tolist()\n",
    "ray_pos_all = ray_metadata['pos']\n",
    "ray_age_all = ray_metadata['age']\n",
    "ray_mass_all = ray_metadata['mass']\n",
    "ray_ID_all = np.array(np.load('/work/hdd/bbvl/gtg115x/new_zoom_5/box_2_z_1/star_metadata/star_ID_allbox_%s.npy' % idx, allow_pickle=True).tolist())\n",
    "ray_vel_all = np.array(np.load('/work/hdd/bbvl/gtg115x/new_zoom_5/box_2_z_1/star_metadata/star_vel_allbox_%s.npy' % idx, allow_pickle=True).tolist()['vel'])"
   ]
  },
  {
   "cell_type": "code",
   "execution_count": 20,
   "id": "6f0ebda0-be94-4818-9b44-c56668fa2dcc",
   "metadata": {
    "tags": []
   },
   "outputs": [],
   "source": [
    "#Identify all the stars within the halo region\n",
    "inreg_bool = np.linalg.norm(ray_pos_all - halo_center, axis=1) < halo_rvir\n",
    "inreg_pos = ray_pos_all[inreg_bool]\n",
    "inreg_r = np.linalg.norm(inreg_pos - halo_center, axis=1)\n",
    "#\n",
    "inreg_vel = ray_vel_all[inreg_bool]\n",
    "inreg_relvel = inreg_vel - halo_vel\n",
    "inreg_relvelmag = np.linalg.norm(inreg_relvel, axis=1)\n",
    "#\n",
    "inreg_ID = ray_ID_all[inreg_bool]\n",
    "inreg_mass = ray_mass_all[inreg_bool]"
   ]
  },
  {
   "cell_type": "code",
   "execution_count": 21,
   "id": "4b5abd31-53ab-489d-8539-5751549cfc2f",
   "metadata": {
    "tags": []
   },
   "outputs": [],
   "source": [
    "sigma_cut = 2\n",
    "distance_cut = 2"
   ]
  },
  {
   "cell_type": "code",
   "execution_count": 22,
   "id": "5c4ab4fb-85b2-4569-9057-74735fb41c9c",
   "metadata": {
    "tags": []
   },
   "outputs": [],
   "source": [
    "reduced_bool = np.logical_and(inreg_r < 0.8*halo_rvir, inreg_relvelmag < 4*vcir)\n",
    "reduced_mass = inreg_mass[reduced_bool]\n",
    "reduced_pos = inreg_pos[reduced_bool]\n",
    "reduced_com = np.average(reduced_pos, weights=reduced_mass, axis=0)\n",
    "#\n",
    "reduced_vel = inreg_vel[reduced_bool]\n",
    "reduced_relvel = reduced_vel - np.average(reduced_vel, weights=reduced_mass, axis=0)\n",
    "reduced_relvelmag = np.linalg.norm(reduced_relvel, axis=1)\n",
    "sigma_vel = weighted_std(reduced_relvelmag, weights_list=reduced_mass)\n",
    "#\n",
    "reduced_ID = inreg_ID[reduced_bool]"
   ]
  },
  {
   "cell_type": "code",
   "execution_count": 11,
   "id": "66b68d32-ac54-4740-8210-65b3c59455f5",
   "metadata": {
    "tags": []
   },
   "outputs": [
    {
     "data": {
      "text/plain": [
       "<matplotlib.lines.Line2D at 0x7f2cc1a02ed0>"
      ]
     },
     "execution_count": 11,
     "metadata": {},
     "output_type": "execute_result"
    },
    {
     "data": {
      "image/png": "[encoded data removed]",
      "text/plain": [
       "<Figure size 640x480 with 1 Axes>"
      ]
     },
     "metadata": {},
     "output_type": "display_data"
    }
   ],
   "source": [
    "plt.hist(reduced_relvelmag, bins=100)\n",
    "plt.axvline(np.average(reduced_relvelmag), color='k', linestyle='--')\n",
    "plt.axvline(np.average(reduced_relvelmag) - sigma_cut*sigma_vel, color='k', linestyle='--')\n",
    "plt.axvline(np.average(reduced_relvelmag) + sigma_cut*sigma_vel, color='k', linestyle='--')"
   ]
  },
  {
   "cell_type": "code",
   "execution_count": 23,
   "id": "faf19175-2bd8-44a6-8f97-f2a388eae358",
   "metadata": {
    "tags": []
   },
   "outputs": [],
   "source": [
    "def cal_R90(pos, center, mass):\n",
    "    r = np.linalg.norm(pos - center, axis=1)\n",
    "    r_sort = r[np.argsort(r)]\n",
    "    mass_sort = mass[np.argsort(r)]\n",
    "    mass_cumsum = np.cumsum(mass_sort)\n",
    "    mass_cumsumpercent = mass_cumsum/mass_cumsum[-1]\n",
    "    R90 = r_sort[np.where(mass_cumsumpercent > 0.9)[0][0]]\n",
    "    return R90"
   ]
  },
  {
   "cell_type": "code",
   "execution_count": 24,
   "id": "b54fa26f-c7af-4c0e-8532-754dccb22aa4",
   "metadata": {
    "tags": []
   },
   "outputs": [],
   "source": [
    "r90_halocenter = cal_R90(reduced_pos, halo_center, reduced_mass)\n",
    "r90_starcenter = cal_R90(reduced_pos, reduced_com, reduced_mass)"
   ]
  },
  {
   "cell_type": "code",
   "execution_count": 25,
   "id": "e7e4a26a-b041-4f80-b1dd-739b15d55e08",
   "metadata": {
    "tags": []
   },
   "outputs": [],
   "source": [
    "reduced2_bool = (np.linalg.norm(reduced_pos - halo_center, axis=1) < distance_cut*r90_halocenter) & \\\n",
    "                (np.linalg.norm(reduced_pos - reduced_com, axis=1) < distance_cut*r90_starcenter) & \\\n",
    "                (reduced_relvelmag <= np.average(reduced_relvelmag) + sigma_cut*sigma_vel)\n",
    "reduced2_pos = reduced_pos[reduced2_bool]\n",
    "reduced2_mass = reduced_mass[reduced2_bool]\n",
    "reduced2_ID = reduced_ID[reduced2_bool]\n",
    "reduced2_vel = reduced_vel[reduced2_bool]\n",
    "reduced2_com = np.average(reduced2_pos, weights=reduced2_mass, axis=0)"
   ]
  },
  {
   "cell_type": "code",
   "execution_count": 26,
   "id": "f82f019e-8181-4bf5-b8bb-17e5d5d69e48",
   "metadata": {
    "tags": []
   },
   "outputs": [
    {
     "name": "stdout",
     "output_type": "stream",
     "text": [
      "1\n",
      "2\n",
      "3\n"
     ]
    }
   ],
   "source": [
    "counter = 0\n",
    "while np.sum(reduced2_bool)/len(reduced2_bool) <= 0.99:\n",
    "    if len(reduced2_pos) == 0:\n",
    "        reduced2_com = np.nan\n",
    "        break\n",
    "    reduced2_relvel = reduced2_vel - np.average(reduced2_vel, weights=reduced2_mass, axis=0)\n",
    "    reduced2_relvelmag = np.linalg.norm(reduced2_relvel, axis=1)\n",
    "    #\n",
    "    sigma_vel = weighted_std(reduced2_relvelmag, weights_list=reduced2_mass)\n",
    "    r90_halocenter = cal_R90(reduced2_pos, halo_center, reduced2_mass)\n",
    "    r90_starcenter = cal_R90(reduced2_pos, reduced2_com, reduced2_mass)\n",
    "    #\n",
    "    reduced2_bool = (np.linalg.norm(reduced2_pos - halo_center, axis=1) < distance_cut*r90_halocenter) & \\\n",
    "                    (np.linalg.norm(reduced2_pos - reduced2_com, axis=1) < distance_cut*r90_starcenter) & \\\n",
    "                    (reduced2_relvelmag <= np.average(reduced2_relvelmag) + sigma_cut*sigma_vel)\n",
    "    reduced2_pos = reduced2_pos[reduced2_bool]\n",
    "    reduced2_mass = reduced2_mass[reduced2_bool]\n",
    "    reduced2_ID = reduced2_ID[reduced2_bool]\n",
    "    reduced2_vel = reduced2_vel[reduced2_bool]\n",
    "    reduced2_com = np.average(reduced2_pos, weights=reduced2_mass, axis=0)\n",
    "    counter += 1\n",
    "    print(counter)"
   ]
  },
  {
   "cell_type": "code",
   "execution_count": 19,
   "id": "8cb3ab9a-af42-41b1-80c1-450e0c414b9c",
   "metadata": {
    "tags": []
   },
   "outputs": [
    {
     "data": {
      "text/plain": [
       "<matplotlib.lines.Line2D at 0x7f6563f5e510>"
      ]
     },
     "execution_count": 19,
     "metadata": {},
     "output_type": "execute_result"
    },
    {
     "data": {
      "image/png": "[encoded data removed]",
      "text/plain": [
       "<Figure size 640x480 with 1 Axes>"
      ]
     },
     "metadata": {},
     "output_type": "display_data"
    }
   ],
   "source": [
    "plt.hist(reduced2_relvelmag, bins=100)\n",
    "plt.axvline(np.average(reduced2_relvelmag), color='k', linestyle='--')\n",
    "plt.axvline(np.average(reduced2_relvelmag) + sigma_cut*sigma_vel, color='k', linestyle='--')"
   ]
  },
  {
   "cell_type": "code",
   "execution_count": 27,
   "id": "bdb42559-c1ae-4150-a4ed-dd2d999e76e3",
   "metadata": {
    "tags": []
   },
   "outputs": [
    {
     "data": {
      "image/png": "[encoded data removed]",
      "text/plain": [
       "<Figure size 1500x500 with 3 Axes>"
      ]
     },
     "metadata": {},
     "output_type": "display_data"
    }
   ],
   "source": [
    "fig, axs = plt.subplots(nrows=1, ncols=3, figsize=(15,5))\n",
    "\n",
    "axs[0].scatter(inreg_pos[:,0], inreg_pos[:,1], s=1, color='black')\n",
    "\n",
    "axs[0].scatter(reduced2_pos[:,0], reduced2_pos[:,1], s=1)\n",
    "\n",
    "axs[0].scatter(halo_center[0], halo_center[1], color='red', s=15)\n",
    "circle1 = plt.Circle((halo_center[0], halo_center[1]), distance_cut*r90_halocenter, color='red', fill=False)\n",
    "axs[0].add_patch(circle1)\n",
    "\n",
    "axs[0].scatter(reduced2_com[0], reduced2_com[1], color='green', s=15)\n",
    "circle2 = plt.Circle((reduced2_com[0], reduced2_com[1]), distance_cut*r90_starcenter, color='green', fill=False)\n",
    "axs[0].add_patch(circle2)\n",
    "\n",
    "axs[0].set_aspect('equal')\n",
    "\n",
    "#---------------------------------------------------------\n",
    "axs[1].scatter(inreg_pos[:,1], inreg_pos[:,2], s=1, color='black')\n",
    "\n",
    "axs[1].scatter(reduced2_pos[:,1], reduced2_pos[:,2], s=1)\n",
    "\n",
    "axs[1].scatter(halo_center[1], halo_center[2], color='red', s=15)\n",
    "circle1 = plt.Circle((halo_center[1], halo_center[2]), distance_cut*r90_halocenter, color='red', fill=False)\n",
    "axs[1].add_patch(circle1)\n",
    "\n",
    "axs[1].scatter(reduced2_com[1], reduced2_com[2], color='green', s=15)\n",
    "circle2 = plt.Circle((reduced2_com[1], reduced2_com[2]), distance_cut*r90_starcenter, color='green', fill=False)\n",
    "axs[1].add_patch(circle2)\n",
    "\n",
    "axs[1].set_aspect('equal')\n",
    "#---------------------------------------------------------\n",
    "axs[2].scatter(inreg_pos[:,2], inreg_pos[:,0], s=1, color='black')\n",
    "\n",
    "axs[2].scatter(reduced2_pos[:,2], reduced2_pos[:,0], s=1)\n",
    "\n",
    "axs[2].scatter(halo_center[2], halo_center[0], color='red', s=15)\n",
    "circle1 = plt.Circle((halo_center[2], halo_center[0]), distance_cut*r90_halocenter, color='red', fill=False)\n",
    "axs[2].add_patch(circle1)\n",
    "\n",
    "axs[2].scatter(reduced2_com[2], reduced2_com[0], color='green', s=15)\n",
    "circle2 = plt.Circle((reduced2_com[2], reduced2_com[0]), distance_cut*r90_starcenter, color='green', fill=False)\n",
    "axs[2].add_patch(circle2)\n",
    "\n",
    "axs[2].set_aspect('equal')\n",
    "\n",
    "fig.tight_layout()"
   ]
  }
 ],
 "metadata": {
  "kernelspec": {
   "display_name": "Python [conda env:.conda-mpi_ss10]",
   "language": "python",
   "name": "conda-env-.conda-mpi_ss10-py"
  },
  "language_info": {
   "codemirror_mode": {
    "name": "ipython",
    "version": 3
   },
   "file_extension": ".py",
   "mimetype": "text/x-python",
   "name": "python",
   "nbconvert_exporter": "python",
   "pygments_lexer": "ipython3",
   "version": "3.11.7"
  }
 },
 "nbformat": 4,
 "nbformat_minor": 5
}
