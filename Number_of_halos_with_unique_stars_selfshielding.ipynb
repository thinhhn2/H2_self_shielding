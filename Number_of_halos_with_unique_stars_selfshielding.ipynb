{
 "cells": [
  {
   "cell_type": "code",
   "execution_count": 1,
   "id": "ae30d07e-d9cb-4155-b8a8-d21c5b5a4714",
   "metadata": {
    "tags": []
   },
   "outputs": [],
   "source": [
    "import numpy as np\n",
    "import matplotlib.pyplot as plt\n",
    "import yt\n",
    "from astropy.constants import G\n",
    "import astropy.units as u\n",
    "import seaborn as sns"
   ]
  },
  {
   "cell_type": "code",
   "execution_count": 2,
   "id": "17b607a9-068b-4ebd-aa56-0049efb1a0e0",
   "metadata": {
    "tags": []
   },
   "outputs": [],
   "source": [
    "def search_closest_upper(value, array):\n",
    "    diff = array - value\n",
    "    return np.where(diff >= 0)[0][0]"
   ]
  },
  {
   "cell_type": "code",
   "execution_count": 3,
   "id": "a1bc97fe-afe2-4bbc-a8c7-18e2ddc02b38",
   "metadata": {
    "tags": []
   },
   "outputs": [],
   "source": [
    "ray_tree = np.load('/scratch/bbvl/gtg115x/new_zoom_5/box_2_z_1/halotree_1088_final_Thinh_structure.npy', allow_pickle=True).tolist()\n",
    "apx_tree = np.load('/scratch/bbvl/gtg115x/new_zoom_5/box_2_z_1_no-shield/box_2_z_1_no-shield_run2/halotree_1088_final_Thinh_structure.npy', allow_pickle=True).tolist()"
   ]
  },
  {
   "cell_type": "code",
   "execution_count": 3,
   "id": "4cb1e7c9-b054-4ddb-a18f-9e5d02423696",
   "metadata": {
    "tags": []
   },
   "outputs": [],
   "source": [
    "ray_pfs = np.loadtxt('/scratch/bbvl/gtg115x/new_zoom_5/box_2_z_1/pfs_allsnaps_1088.txt', dtype=str).tolist()\n",
    "apx_pfs = np.loadtxt('/scratch/bbvl/gtg115x/new_zoom_5/box_2_z_1_no-shield/box_2_z_1_no-shield_run2/pfs_allsnaps_1088.txt', dtype=str).tolist()"
   ]
  },
  {
   "cell_type": "code",
   "execution_count": 5,
   "id": "f3d9c42f-b294-4678-853b-58dd88941785",
   "metadata": {
    "tags": []
   },
   "outputs": [],
   "source": [
    "ray_rawtree = np.load('/scratch/bbvl/gtg115x/new_zoom_5/box_2_z_1/halotree_1088_final.npy', allow_pickle=True).tolist()\n",
    "#apx_rawtree = np.load('/scratch/bbvl/gtg115x/new_zoom_5/box_2_z_1_no-shield/box_2_z_1_no-shield_run2/halotree_1088_final.npy', allow_pickle=True).tolist()"
   ]
  },
  {
   "cell_type": "code",
   "execution_count": 4,
   "id": "0f03c8a6-12b3-4ba7-a45b-6c856f0996b4",
   "metadata": {
    "tags": []
   },
   "outputs": [],
   "source": [
    "time_list = np.array([ray_tree['0'][key]['time'] for key in ray_tree['0'].keys()])\n",
    "idx_list = np.array([int(key) for key in ray_tree['0'].keys()])"
   ]
  },
  {
   "cell_type": "code",
   "execution_count": 5,
   "id": "114b4d8f-aeed-48e3-94d7-9ebc66dacaf1",
   "metadata": {
    "tags": []
   },
   "outputs": [],
   "source": [
    "ray_halo_wstars = {}\n",
    "apx_halo_wstars = {}"
   ]
  },
  {
   "cell_type": "code",
   "execution_count": 7,
   "id": "49db15ad-2fad-4671-a9e7-5d853ef102c8",
   "metadata": {
    "tags": []
   },
   "outputs": [],
   "source": [
    "idx = '170'\n",
    "\n",
    "ray_halo_wstars_pos = np.empty(shape=(0,3))\n",
    "ray_halo_wstars_rvir = np.array([])\n",
    "ray_halo_wstars_branch = np.array([])\n",
    "#ray_halo_wstars_dmmass = np.empty(shape=(0,1))\n",
    "\n",
    "for key, vals in ray_tree.items():\n",
    "    if idx in vals.keys() and vals[idx]['star_mass'] > 1:\n",
    "        ray_halo_wstars[key] = vals[idx]\n",
    "        ray_halo_wstars_pos = np.vstack((ray_halo_wstars_pos, vals[idx]['coor']))\n",
    "        ray_halo_wstars_rvir = np.append(ray_halo_wstars_rvir, vals[idx]['Rvir'])\n",
    "        ray_halo_wstars_branch = np.append(ray_halo_wstars_branch, key)\n",
    "        \n",
    "for key, vals in apx_tree.items():\n",
    "    if idx in vals.keys() and vals[idx]['star_mass'] > 1:\n",
    "        apx_halo_wstars[key] = vals[idx]"
   ]
  },
  {
   "cell_type": "code",
   "execution_count": 8,
   "id": "0a7c812a-60c5-45ea-8143-a35243cb9577",
   "metadata": {
    "tags": []
   },
   "outputs": [],
   "source": [
    "#Locate the overlapping halos. \n",
    "#For these halos, the stellar mass from the Thinh_structure file can be double counted. Therefore, we need to uniquely assign stars to each halo rather than loading the whole yt region.\n",
    "overlap_pair = []\n",
    "for i in range(len(ray_halo_wstars_branch)):\n",
    "    for j in range(len(ray_halo_wstars_branch)):\n",
    "        if (i == j) or sorted([ray_halo_wstars_branch[i],ray_halo_wstars_branch[j]]) in overlap_pair:\n",
    "            continue\n",
    "        else:\n",
    "            if np.linalg.norm(ray_halo_wstars_pos[i] - ray_halo_wstars_pos[j]) < (ray_halo_wstars_rvir[i] + ray_halo_wstars_rvir[j]): #overlapping condition\n",
    "                overlap_pair.append(sorted([ray_halo_wstars_branch[i],ray_halo_wstars_branch[j]]))\n",
    "\n",
    "overlap_group = []\n",
    "for pair in overlap_pair:\n",
    "    if pair == overlap_pair[0]:\n",
    "        group = pair\n",
    "    else:\n",
    "        if (pair[0] in group) or (pair[1] in group):\n",
    "            group = list(set(group + pair))\n",
    "        else:\n",
    "            overlap_group.append(group)\n",
    "            group = pair"
   ]
  },
  {
   "cell_type": "code",
   "execution_count": 9,
   "id": "357d2d55-656d-4207-9f75-e02bd9412ab7",
   "metadata": {
    "tags": []
   },
   "outputs": [
    {
     "data": {
      "text/plain": [
       "[['0_20', '0_21', '0', '0_16', '0_18', '0_19', '0_4', '0_2'],\n",
       " ['1', '1_14', '1_10'],\n",
       " ['3_1', '3', '3_7'],\n",
       " ['5', '5_1']]"
      ]
     },
     "execution_count": 9,
     "metadata": {},
     "output_type": "execute_result"
    }
   ],
   "source": [
    "#These are the groups of halos that need to be disentangled in terms of stellar mass\n",
    "overlap_group"
   ]
  },
  {
   "cell_type": "code",
   "execution_count": 76,
   "id": "40bd4db0-7aee-492f-9e1b-7c6d21903109",
   "metadata": {
    "tags": []
   },
   "outputs": [],
   "source": [
    "ray_metadata = np.load('/work/hdd/bbvl/gtg115x/new_zoom_5/box_2_z_1/star_metadata/star_metadata_allbox_%s.npy' % idx, allow_pickle=True).tolist()\n",
    "ray_pos_all = ray_metadata['pos']\n",
    "ray_age_all = ray_metadata['age']\n",
    "ray_ID_all = np.array(np.load('/work/hdd/bbvl/gtg115x/new_zoom_5/box_2_z_1/star_metadata/star_ID_allbox_%s.npy' % idx, allow_pickle=True).tolist())\n",
    "ray_vel_all = np.array(np.load('/work/hdd/bbvl/gtg115x/new_zoom_5/box_2_z_1/star_metadata/star_vel_allbox_%s.npy' % idx, allow_pickle=True).tolist()['vel'])"
   ]
  },
  {
   "cell_type": "code",
   "execution_count": 79,
   "id": "651cabd0-acbf-4667-8998-70d02ece0d8f",
   "metadata": {
    "tags": []
   },
   "outputs": [
    {
     "name": "stderr",
     "output_type": "stream",
     "text": [
      "yt : [INFO     ] 2024-12-10 10:23:52,751 Parameters: current_time              = 19.025726364245\n",
      "yt : [INFO     ] 2024-12-10 10:23:52,752 Parameters: domain_dimensions         = [256 256 256]\n",
      "yt : [INFO     ] 2024-12-10 10:23:52,754 Parameters: domain_left_edge          = [0. 0. 0.]\n",
      "yt : [INFO     ] 2024-12-10 10:23:52,762 Parameters: domain_right_edge         = [1. 1. 1.]\n",
      "yt : [INFO     ] 2024-12-10 10:23:52,765 Parameters: cosmological_simulation   = 1\n",
      "yt : [INFO     ] 2024-12-10 10:23:52,768 Parameters: current_redshift          = 11.378797765779\n",
      "yt : [INFO     ] 2024-12-10 10:23:52,770 Parameters: omega_lambda              = 0.6935\n",
      "yt : [INFO     ] 2024-12-10 10:23:52,773 Parameters: omega_matter              = 0.3065\n",
      "yt : [INFO     ] 2024-12-10 10:23:52,774 Parameters: omega_radiation           = 0.0\n",
      "yt : [INFO     ] 2024-12-10 10:23:52,774 Parameters: hubble_constant           = 0.679\n"
     ]
    }
   ],
   "source": [
    "group_test = np.array(overlap_group[0])\n",
    "group_velcom = np.array([ray_rawtree[group_i][int(idx)]['Vel_Com'] for group_i in group_test])\n",
    "#convert the unit of halo velocity from code_length/s to km/s\n",
    "ds = yt.load(ray_pfs[int(idx)])\n",
    "group_velcom = (group_velcom*ds.units.code_length/ds.units.s).to('km/s').v\n",
    "group_starID = {}\n",
    "allstars = []\n",
    "for halo in group_test:\n",
    "    halo_center = ray_tree[halo][idx]['coor']\n",
    "    halo_radius = ray_tree[halo][idx]['Rvir']\n",
    "    boolean = np.linalg.norm(ray_pos_all - halo_center, axis=1) < halo_radius\n",
    "    group_starID[halo] = ray_ID_all[boolean].astype(int)\n",
    "    allstars = list(set(allstars + list(ray_ID_all[boolean].astype(int))))\n",
    "allstars = np.array(group_allstars)"
   ]
  },
  {
   "cell_type": "code",
   "execution_count": 32,
   "id": "58070d0c-f1c1-46f9-883e-1acbc6033fd0",
   "metadata": {
    "tags": []
   },
   "outputs": [
    {
     "data": {
      "text/plain": [
       "{'0_20': array([65363538, 65364102, 65364638, 65364670, 65364748]),\n",
       " '0_21': array([65731297, 65734353, 65734354, 65734355, 65734356, 65734357,\n",
       "        65734358, 65734359, 65734360, 65734362, 65734363, 65734364,\n",
       "        65734366]),\n",
       " '0': array([65363541, 65363542, 65364086, ..., 65665931, 65665937, 65724384]),\n",
       " '0_16': array([65363537, 65363546, 65363851, ..., 65665931, 65665937, 65724384]),\n",
       " '0_18': array([65363541, 65363542, 65364086, 65364088, 65364194, 65364698,\n",
       "        65364664, 65364679, 65364681, 65614185, 65614414, 65617205,\n",
       "        65659343, 65363652, 65363539, 65363540, 65363665, 65363673,\n",
       "        65363674, 65363767, 65363773]),\n",
       " '0_19': array([65363541, 65363542, 65364086, 65364113, 65364693, 65364695,\n",
       "        65364700, 65363652, 65363826, 65363539, 65363540, 65363665,\n",
       "        65363673, 65363683, 65363767, 65363773, 65363831, 65364106]),\n",
       " '0_4': array([65364088, 65364194, 65364127, 65364129]),\n",
       " '0_2': array([65731297, 65734353, 65734354, 65734355, 65734356, 65734357,\n",
       "        65734358, 65734359, 65734360, 65734362, 65734363, 65734364,\n",
       "        65734366])}"
      ]
     },
     "execution_count": 32,
     "metadata": {},
     "output_type": "execute_result"
    }
   ],
   "source": [
    "group_starID"
   ]
  },
  {
   "cell_type": "code",
   "execution_count": 33,
   "id": "50ef372d-9351-4052-99f1-33e06dc0158e",
   "metadata": {
    "tags": []
   },
   "outputs": [
    {
     "data": {
      "text/plain": [
       "array([65732608, 65658881, 65658882, ..., 65363965, 65724414, 65732607])"
      ]
     },
     "execution_count": 33,
     "metadata": {},
     "output_type": "execute_result"
    }
   ],
   "source": [
    "allstars"
   ]
  },
  {
   "cell_type": "code",
   "execution_count": 46,
   "id": "466e06a5-d14d-43ce-b5e1-c868a0aae9b0",
   "metadata": {
    "tags": []
   },
   "outputs": [],
   "source": [
    "count_list = {}\n",
    "for ID in allstars:\n",
    "    count = 0\n",
    "    branch_overlap = []\n",
    "    for branch in group_starID.keys():\n",
    "        if ID in group_starID[branch]:\n",
    "            count += 1\n",
    "            branch_overlap.append(branch)\n",
    "    if count > 1:\n",
    "        count_list[ID] = [count, branch_overlap]"
   ]
  },
  {
   "cell_type": "code",
   "execution_count": 85,
   "id": "38d7c11f-7b76-4387-9cb0-a4067925cbb5",
   "metadata": {
    "tags": []
   },
   "outputs": [
    {
     "data": {
      "text/plain": [
       "array([[-65.81759841,  12.10400267, 120.21314368]])"
      ]
     },
     "execution_count": 85,
     "metadata": {},
     "output_type": "execute_result"
    }
   ],
   "source": [
    "ray_vel_all[ray_ID_all == 65732608]"
   ]
  },
  {
   "cell_type": "code",
   "execution_count": 90,
   "id": "1af6e383-babc-4265-b964-6471d8aca7e6",
   "metadata": {
    "tags": []
   },
   "outputs": [
    {
     "data": {
      "text/plain": [
       "{'NumParts': 10324,\n",
       " 'Halo_Mass': 7628372984.201647,\n",
       " 'Halo_Radius': 0.003219896406693052,\n",
       " 'cden': 202.11934833096655,\n",
       " 'r100': 0.0038463181360783145,\n",
       " 'r150': 0.0036909953190874156,\n",
       " 'r200': 0.003237456954225626,\n",
       " 'r250': 0.0028894798550874417,\n",
       " 'r300': 0.0026477752928777674,\n",
       " 'r500': 0.0020518783497319,\n",
       " 'r700': 0.001687430599046631,\n",
       " 'Halo_Center': array([0.49444511, 0.50351903, 0.51216658]),\n",
       " 'Vel_Com': array([-7.90055792e-19, -4.80827245e-20,  1.03378648e-19])}"
      ]
     },
     "execution_count": 90,
     "metadata": {},
     "output_type": "execute_result"
    }
   ],
   "source": [
    "ray_rawtree['0'][171]"
   ]
  },
  {
   "cell_type": "code",
   "execution_count": 86,
   "id": "a63df16d-8ee6-4619-9535-011d773e55cc",
   "metadata": {
    "tags": []
   },
   "outputs": [
    {
     "data": {
      "text/plain": [
       "[2, ['0', '0_16']]"
      ]
     },
     "execution_count": 86,
     "metadata": {},
     "output_type": "execute_result"
    }
   ],
   "source": [
    "count_list[65732608]"
   ]
  },
  {
   "cell_type": "code",
   "execution_count": 88,
   "id": "d9fc77cc-45dc-44fc-92bd-74444efcf0cf",
   "metadata": {
    "tags": []
   },
   "outputs": [
    {
     "data": {
      "text/plain": [
       "array([[-35.6028203 ,  -4.23333669,  10.90924301]])"
      ]
     },
     "execution_count": 88,
     "metadata": {},
     "output_type": "execute_result"
    }
   ],
   "source": [
    "group_velcom[group_test == '0']"
   ]
  },
  {
   "cell_type": "code",
   "execution_count": 89,
   "id": "aa956998-4356-4980-984c-bbbab848efb0",
   "metadata": {
    "tags": []
   },
   "outputs": [
    {
     "data": {
      "text/plain": [
       "array([[  8.91740217, -44.69326534,  60.8857723 ]])"
      ]
     },
     "execution_count": 89,
     "metadata": {},
     "output_type": "execute_result"
    }
   ],
   "source": [
    "group_velcom[group_test == '0_16']"
   ]
  },
  {
   "cell_type": "code",
   "execution_count": 65,
   "id": "2bc25a91-f139-43bc-8509-673645f705b3",
   "metadata": {
    "tags": []
   },
   "outputs": [
    {
     "data": {
      "text/plain": [
       "['0_20', '0_21', '0_4', '0_16', '0', '0_18', '0_19', '0_2']"
      ]
     },
     "execution_count": 65,
     "metadata": {},
     "output_type": "execute_result"
    }
   ],
   "source": [
    "group_test"
   ]
  },
  {
   "cell_type": "code",
   "execution_count": 14,
   "id": "87f099af-0fdb-4b35-ad28-72c7190b6640",
   "metadata": {
    "tags": []
   },
   "outputs": [
    {
     "data": {
      "text/plain": [
       "(30056, 3)"
      ]
     },
     "execution_count": 14,
     "metadata": {},
     "output_type": "execute_result"
    }
   ],
   "source": [
    "ray_pos_all.shape"
   ]
  },
  {
   "cell_type": "code",
   "execution_count": 17,
   "id": "d5973a1d-5193-4bff-a91b-3f15fdd8df49",
   "metadata": {
    "tags": []
   },
   "outputs": [
    {
     "data": {
      "text/plain": [
       "array([[0.49420246, 0.50316925, 0.51266823],\n",
       "       [0.49296721, 0.50155015, 0.51324955],\n",
       "       [0.47673882, 0.50389487, 0.5022506 ],\n",
       "       [0.48908694, 0.50969391, 0.50063493],\n",
       "       [0.50191681, 0.51200992, 0.53478709],\n",
       "       [0.50191068, 0.51098171, 0.53401179],\n",
       "       [0.50015472, 0.49932791, 0.512181  ],\n",
       "       [0.48527808, 0.4967556 , 0.51121502],\n",
       "       [0.50025661, 0.50790924, 0.53018027],\n",
       "       [0.49264434, 0.51777617, 0.49249299],\n",
       "       [0.48658425, 0.52111066, 0.52580045],\n",
       "       [0.5022803 , 0.51522828, 0.53829083],\n",
       "       [0.50312778, 0.51599952, 0.53952004]])"
      ]
     },
     "execution_count": 17,
     "metadata": {},
     "output_type": "execute_result"
    }
   ],
   "source": [
    "ray_halo_wstars_pos"
   ]
  },
  {
   "cell_type": "code",
   "execution_count": 21,
   "id": "91901cfb-8fbe-4119-b6d9-53fcf28f555e",
   "metadata": {
    "tags": []
   },
   "outputs": [
    {
     "data": {
      "text/plain": [
       "dict_keys(['0', '0_2', '1', '3', '4', '4_0', '5', '6', '8', '9', '18', '20', '69'])"
      ]
     },
     "execution_count": 21,
     "metadata": {},
     "output_type": "execute_result"
    }
   ],
   "source": [
    "ray_halo_wstars.keys()"
   ]
  },
  {
   "cell_type": "code",
   "execution_count": 22,
   "id": "924f2d88-790b-45c9-b497-841b7f929768",
   "metadata": {
    "tags": []
   },
   "outputs": [
    {
     "data": {
      "text/plain": [
       "{'tree_loc': '0_2',\n",
       " 'coor': array([0.49296721, 0.50155015, 0.51324955]),\n",
       " 'Rvir': 0.0014047493591527603,\n",
       " 'redshift': 10.886019680253,\n",
       " 'time': 0.42308436376385633,\n",
       " 'gas_mass': 170519124.77518892,\n",
       " 'gas_mass_frac': 0.12780071866170767,\n",
       " 'h2_mass': 5220394.575481022,\n",
       " 'h2_fraction': 0.030614715987802243,\n",
       " 'dm_mass': 1162249229.1687708,\n",
       " 'pop2_mass': 1489589.9787338013,\n",
       " 'pop3_mass': 5.17818883535532,\n",
       " 'star_mass': 1489595.1569226366,\n",
       " 'metal_mass': 14570.536272090665,\n",
       " 'metallicity': 8.544810613648377e-05,\n",
       " 'sfr': 0.0,\n",
       " 'total_mass': 1334257949.1008823}"
      ]
     },
     "execution_count": 22,
     "metadata": {},
     "output_type": "execute_result"
    }
   ],
   "source": [
    "ray_halo_wstars['0_2']"
   ]
  },
  {
   "cell_type": "markdown",
   "id": "84f310cb-bb4f-454d-bcda-632d8dc87346",
   "metadata": {
    "tags": []
   },
   "source": [
    "We need to assign each star to a unique halo. This can be done by tracking back the star's position when it first forms to see if it forms inside the same halo"
   ]
  },
  {
   "cell_type": "code",
   "execution_count": 8,
   "id": "3433cd2d-9b31-4465-add7-3a72fd6ac840",
   "metadata": {
    "tags": []
   },
   "outputs": [],
   "source": [
    "ray_halo_idx = '0'\n",
    "ray_halo_center = ray_tree[ray_halo_idx][idx]['coor']\n",
    "ray_halo_rvir = ray_tree[ray_halo_idx][idx]['Rvir']"
   ]
  },
  {
   "cell_type": "code",
   "execution_count": 9,
   "id": "b61bdd26-f091-4bcb-888e-20d1832c1ac5",
   "metadata": {
    "tags": []
   },
   "outputs": [],
   "source": [
    "ray_metadata = np.load('/work/hdd/bbvl/gtg115x/new_zoom_5/box_2_z_1/star_metadata/star_metadata_allbox_%s.npy' % idx, allow_pickle=True).tolist()\n",
    "ray_pos_all = ray_metadata['pos']\n",
    "ray_age_all = ray_metadata['age']\n",
    "ray_ID_all = np.array(np.load('/work/hdd/bbvl/gtg115x/new_zoom_5/box_2_z_1/star_metadata/star_ID_allbox_%s.npy' % idx, allow_pickle=True).tolist())"
   ]
  },
  {
   "cell_type": "code",
   "execution_count": 10,
   "id": "34f27008-6650-428e-8259-ba8b825094ab",
   "metadata": {
    "tags": []
   },
   "outputs": [],
   "source": [
    "halo_star_pos = ray_pos_all[np.linalg.norm(ray_pos_all - ray_halo_center, axis=1) < ray_halo_rvir]\n",
    "halo_star_age = ray_age_all[np.linalg.norm(ray_pos_all - ray_halo_center, axis=1) < ray_halo_rvir]\n",
    "halo_star_ID = ray_ID_all[np.linalg.norm(ray_pos_all - ray_halo_center, axis=1) < ray_halo_rvir]"
   ]
  },
  {
   "cell_type": "code",
   "execution_count": 15,
   "id": "2bf733bb-ea2f-40b7-824f-3d943bf319ee",
   "metadata": {
    "tags": []
   },
   "outputs": [],
   "source": [
    "ftime_dict = {}\n",
    "for j in range(len(halo_star_age)):\n",
    "    ftime = time_list[-1] - halo_star_age[j]\n",
    "    ftime_snapidx = idx_list[search_closest_upper(ftime, time_list)]\n",
    "    try:\n",
    "        ftime_dict[ftime_snapidx].append(int(halo_star_ID[j]))\n",
    "    except:\n",
    "        ftime_dict[ftime_snapidx] = []\n",
    "        ftime_dict[ftime_snapidx].append(int(halo_star_ID[j]))"
   ]
  },
  {
   "cell_type": "code",
   "execution_count": 18,
   "id": "754667e4-47d2-48ee-9c8a-f106466c902c",
   "metadata": {
    "tags": []
   },
   "outputs": [
    {
     "data": {
      "text/plain": [
       "dict_keys([80, 95, 117, 122, 124, 125, 154, 158, 159, 176, 190, 193, 194, 195, 201, 203, 130, 79, 156, 163, 198, 199, 114, 118, 200, 99, 109, 111, 112, 116, 119, 120, 121, 123, 127, 129, 131, 133, 134, 137, 138, 139, 141, 142, 143, 144, 160, 161, 175, 184, 202, 126, 150, 152, 162, 164, 169, 170, 174, 177, 178, 179, 183, 187, 191, 192, 204, 165, 180, 205, 206, 207, 208, 182, 209, 210, 211])"
      ]
     },
     "execution_count": 18,
     "metadata": {},
     "output_type": "execute_result"
    }
   ],
   "source": [
    "ftime_dict.keys()"
   ]
  },
  {
   "cell_type": "code",
   "execution_count": null,
   "id": "6c0c9b3f-5ee5-496c-b0c3-fe4715605420",
   "metadata": {},
   "outputs": [],
   "source": []
  },
  {
   "cell_type": "code",
   "execution_count": null,
   "id": "8806e86c-8d2d-432f-8b5f-c37f83e60014",
   "metadata": {},
   "outputs": [],
   "source": []
  },
  {
   "cell_type": "code",
   "execution_count": null,
   "id": "2ddc4757-763c-4083-891e-7d5229b089d9",
   "metadata": {},
   "outputs": [],
   "source": []
  },
  {
   "cell_type": "code",
   "execution_count": null,
   "id": "7a699190-1fb4-4063-902e-823de4dc5292",
   "metadata": {},
   "outputs": [],
   "source": []
  },
  {
   "cell_type": "code",
   "execution_count": null,
   "id": "22692d78-2bf2-43f0-a966-f1266e5fb8d4",
   "metadata": {},
   "outputs": [],
   "source": []
  },
  {
   "cell_type": "markdown",
   "id": "45dd52af-f123-43df-89b9-e520a01eb68b",
   "metadata": {},
   "source": [
    "### Star Assignment Technique by Thinh"
   ]
  },
  {
   "cell_type": "markdown",
   "id": "29ab6af9-c0e6-414a-b79f-843ffd95c234",
   "metadata": {},
   "source": [
    "Starting from the earlier snapshot to the later snapshot. If a star particle is formed in a halo, assume that it will not escape that halo (there is a chance that during fly by, a DM halo can still some star particles, but since we are investigating star formation in halo, this can be neglected). If that halo is a sub branch, the star particle will belong to the main branch at the time step of merging. If a star particle is formed between the region of multiple halos, use energy definition to determine which halo it belongs to (choose the halo in which the star particle has the lowest total energy)"
   ]
  },
  {
   "cell_type": "code",
   "execution_count": 4,
   "id": "5b46680e-fc44-4885-8322-a029d5127a81",
   "metadata": {
    "tags": []
   },
   "outputs": [],
   "source": [
    "output = {}\n",
    "for idx in range(21, 212):\n",
    "    output[str(idx)] = {}"
   ]
  },
  {
   "cell_type": "code",
   "execution_count": 5,
   "id": "a292e579-2757-4c4a-97de-1a67a2f19d47",
   "metadata": {
    "tags": []
   },
   "outputs": [],
   "source": [
    "def list_of_halos_wstars_idx(tree, idx):\n",
    "    halo_wstars_pos = np.empty(shape=(0,3))\n",
    "    halo_wstars_rvir = np.array([])\n",
    "    halo_wstars_branch = np.array([])\n",
    "    for key, vals in tree.items():\n",
    "        if idx in vals.keys() and vals[idx]['star_mass'] > 1:\n",
    "            halo_wstars_pos = np.vstack((halo_wstars_pos, vals[idx]['coor']))\n",
    "            halo_wstars_rvir = np.append(halo_wstars_rvir, vals[idx]['Rvir'])\n",
    "            halo_wstars_branch = np.append(halo_wstars_branch, key)   \n",
    "    return halo_wstars_pos, halo_wstars_rvir, halo_wstars_branch"
   ]
  },
  {
   "cell_type": "code",
   "execution_count": 6,
   "id": "fab91df7-c153-49fd-a29d-1539e53ebf11",
   "metadata": {
    "tags": []
   },
   "outputs": [],
   "source": [
    "#In a case where one particle belongs to multiple halos, this code assigns that star to a specific halo\n",
    "def univDen(ds):\n",
    "    # Hubble constant\n",
    "    H0 = ds.hubble_constant * 100 * u.km/u.s/u.Mpc\n",
    "    H = H0**2 * (ds.omega_matter*(1 + ds.current_redshift)**3 + ds.omega_lambda)  # Technically H^2\n",
    "    G = 6.67e-11 * u.m**3/u.s**2/u.kg\n",
    "    # Density of the universe\n",
    "    den = (3*H/(8*np.pi*G)).to(\"kg/m**3\") / u.kg * u.m**3\n",
    "    return den.value\n",
    "\n",
    "def extract_char_radius(tree, branch, idx):\n",
    "    oden_list = np.array([100, 150, 200, 250, 300, 500, 700])\n",
    "    char_radius_list = np.array([])\n",
    "    for oden in oden_list:\n",
    "        key = 'r%s' % oden\n",
    "        char_radius_list = np.append(char_radius_list, tree[branch][idx][key])\n",
    "    return oden_list, char_radius_list\n",
    "\n",
    "def find_total_E_multiple(star_pos, star_vel, ds, tree, branch, idx):\n",
    "    #this function calculate the total orbital energy of a star around a halo\n",
    "    #the unit of position is km and the unit of velocity is km/s\n",
    "    #star_pos is an array of stellar positions, star_vel is an array of stellar velocity\n",
    "    star_r_codelength = np.linalg.norm(star_pos - tree[branch][idx]['Halo_Center'], axis=1)\n",
    "    star_r = (star_r_codelength*ds.units.code_length).to('m').v\n",
    "    #\n",
    "    halo_vel = (tree[branch][idx]['Vel_Com']*ds.units.code_length/ds.units.s).to('m/s').v\n",
    "    star_relvel_mag = np.linalg.norm(star_vel - halo_vel, axis=1)\n",
    "    #Kinetic energy\n",
    "    KE = 0.5*star_relvel_mag**2\n",
    "    #Approximate M(r < star_r) by using the overdensity\n",
    "    oden_list, char_radius_list = extract_char_radius(tree, branch, idx)\n",
    "    char_radius_list = (char_radius_list*ds.units.code_length).to('m').v\n",
    "    oden_boolean = char_radius_list > star_r[:,np.newaxis]\n",
    "    oden = np.array([])\n",
    "    for j in range(len(oden_boolean)):\n",
    "        oden = np.append(oden, oden_list[np.where(oden_boolean[j] == True)[0][-1]])\n",
    "    #\n",
    "    M = (4/3)*np.pi*oden*univDen(ds)*star_r**3\n",
    "    PE = -G.value*M/star_r\n",
    "    E = KE + PE\n",
    "    return E"
   ]
  },
  {
   "cell_type": "code",
   "execution_count": 7,
   "id": "6012667b-f9a9-4f52-b8f0-aed54f563205",
   "metadata": {
    "tags": []
   },
   "outputs": [],
   "source": [
    "ray_tree = np.load('/scratch/bbvl/gtg115x/new_zoom_5/box_2_z_1/halotree_1088_final_Thinh_structure.npy', allow_pickle=True).tolist()\n",
    "ray_rawtree = np.load('/scratch/bbvl/gtg115x/new_zoom_5/box_2_z_1/halotree_1088_final.npy', allow_pickle=True).tolist()"
   ]
  },
  {
   "cell_type": "code",
   "execution_count": 8,
   "id": "75f90277-e948-4736-9b6c-708878a42ace",
   "metadata": {
    "tags": []
   },
   "outputs": [
    {
     "name": "stdout",
     "output_type": "stream",
     "text": [
      "21 ['1'] 4\n",
      "[array([65333248, 65333864, 65333953, 65333965])]\n",
      "22 ['1'] 0\n",
      "[array([], dtype=int64)]\n",
      "23 ['1'] 0\n",
      "[array([], dtype=int64)]\n",
      "24 ['1'] 186\n",
      "[array([65333966, 65333967, 65333969, 65333970, 65333971, 65333972,\n",
      "       65333973, 65333974, 65333975, 65333976, 65333977, 65333980,\n",
      "       65333981, 65333982, 65333983, 65333984, 65333985, 65333986,\n",
      "       65333987, 65333990, 65333993, 65334000, 65334001, 65334007,\n",
      "       65334008, 65334011, 65334014, 65334016, 65334017, 65334018,\n",
      "       65334020, 65334021, 65334023, 65334025, 65334028, 65334031,\n",
      "       65334034, 65334035, 65334037, 65334038, 65334039, 65334040,\n",
      "       65334042, 65334043, 65334045, 65334046, 65334054, 65334062,\n",
      "       65334063, 65334069, 65334075, 65334076, 65334077, 65334081,\n",
      "       65334082, 65334083, 65334084, 65334085, 65334086, 65334087,\n",
      "       65334088, 65334089, 65334090, 65334091, 65334094, 65334100,\n",
      "       65334107, 65334108, 65334112, 65334116, 65334122, 65334124,\n",
      "       65334126, 65334127, 65334129, 65334130, 65334131, 65334133,\n",
      "       65334135, 65334138, 65334141, 65334142, 65334144, 65334145,\n",
      "       65334146, 65334147, 65334148, 65334150, 65334152, 65334154,\n",
      "       65334155, 65334157, 65334158, 65334160, 65334161, 65334162,\n",
      "       65334163, 65334165, 65334166, 65334167, 65334168, 65334169,\n",
      "       65334170, 65334171, 65334172, 65334173, 65334174, 65334178,\n",
      "       65334180, 65334183, 65334186, 65334189, 65334192, 65334196,\n",
      "       65334197, 65334198, 65334202, 65334204, 65334205, 65334207,\n",
      "       65334212, 65334213, 65334214, 65334216, 65334218, 65334222,\n",
      "       65334230, 65334231, 65334233, 65334240, 65334250, 65334251,\n",
      "       65334255, 65334256, 65334258, 65334261, 65334265, 65334271,\n",
      "       65334273, 65334277, 65334281, 65334285, 65334287, 65334290,\n",
      "       65334295, 65334299, 65334301, 65334306, 65334310, 65334311,\n",
      "       65334313, 65334316, 65334319, 65334323, 65334326, 65334333,\n",
      "       65334341, 65334342, 65334344, 65334346, 65334347, 65334350,\n",
      "       65334360, 65334364, 65334365, 65334381, 65334385, 65334388,\n",
      "       65334389, 65334396, 65334397, 65334400, 65334401, 65334404,\n",
      "       65334409, 65334410, 65334411, 65334414, 65334415, 65334418,\n",
      "       65334419, 65334420, 65334425, 65334428, 65334429, 65334430])]\n",
      "25 ['1'] 0\n",
      "[array([], dtype=int64)]\n",
      "26 ['1'] 0\n",
      "[array([], dtype=int64)]\n",
      "27 ['1'] 0\n",
      "[array([], dtype=int64)]\n",
      "28 ['1'] 0\n",
      "[array([], dtype=int64)]\n",
      "29 ['1'] 0\n",
      "[array([], dtype=int64)]\n",
      "30 ['1'] 0\n",
      "[array([], dtype=int64)]\n",
      "31 ['1'] 0\n",
      "[array([], dtype=int64)]\n",
      "32 ['1'] 0\n",
      "[array([], dtype=int64)]\n",
      "33 ['1'] 0\n",
      "[array([], dtype=int64)]\n",
      "34 ['1'] 0\n",
      "[array([], dtype=int64)]\n",
      "35 ['1'] 0\n",
      "[array([], dtype=int64)]\n",
      "36 ['1'] 0\n",
      "[array([], dtype=int64)]\n",
      "37 ['1'] 0\n",
      "[array([], dtype=int64)]\n",
      "38 ['1'] 0\n",
      "[array([], dtype=int64)]\n",
      "39 ['1'] 0\n",
      "[array([], dtype=int64)]\n",
      "40 ['1'] 0\n",
      "[array([], dtype=int64)]\n",
      "41 ['1'] 0\n",
      "[array([], dtype=int64)]\n",
      "42 ['1'] 0\n",
      "[array([], dtype=int64)]\n",
      "43 ['1'] 0\n",
      "[array([], dtype=int64)]\n",
      "44 ['1'] 0\n",
      "[array([], dtype=int64)]\n",
      "45 ['1'] 0\n",
      "[array([], dtype=int64)]\n",
      "46 ['1'] 28\n",
      "[array([65334431, 65334432, 65334433, 65334434, 65334435, 65334436,\n",
      "       65334437, 65334438, 65334439, 65334440, 65334441, 65334442,\n",
      "       65334443, 65334444, 65334445, 65334446, 65334447, 65334458,\n",
      "       65334459, 65334468, 65334472, 65334477, 65334481, 65334487,\n",
      "       65334488, 65334489, 65334490, 65334491])]\n",
      "47 ['1'] 11\n",
      "[array([65334492, 65334493, 65334494, 65334495, 65334496, 65334497,\n",
      "       65334498, 65334499, 65334500, 65334501, 65334502])]\n",
      "48 ['1'] 1\n",
      "[array([65334503])]\n",
      "49 ['1'] 0\n",
      "[array([], dtype=int64)]\n",
      "50 ['1'] 11\n",
      "[array([65334504, 65334505, 65334506, 65334507, 65334508, 65334509,\n",
      "       65334510, 65334511, 65334512, 65334513, 65334514])]\n",
      "51 ['1'] 0\n",
      "[array([], dtype=int64)]\n",
      "52 ['1'] 0\n",
      "[array([], dtype=int64)]\n",
      "53 ['1' '7'] 19\n",
      "[array([65336405, 65336406, 65336407, 65336408, 65336409, 65336410,\n",
      "       65336411, 65336412, 65336413, 65336414, 65336415, 65336416,\n",
      "       65336417, 65336418, 65336419]), array([65334515, 65335362, 65336234, 65336402])]\n",
      "54 ['1' '7'] 0\n",
      "[array([], dtype=int64), array([], dtype=int64)]\n",
      "55 ['1' '7'] 0\n",
      "[array([], dtype=int64), array([], dtype=int64)]\n",
      "56 ['1' '7'] 0\n",
      "[array([], dtype=int64), array([], dtype=int64)]\n",
      "57 ['1' '7'] 13\n",
      "[array([65336420, 65336421, 65336422, 65336423, 65336424, 65336425,\n",
      "       65336426, 65336427, 65336428, 65336429, 65336430, 65336431,\n",
      "       65336432]), array([], dtype=int64)]\n",
      "58 ['1' '7'] 0\n",
      "[array([], dtype=int64), array([], dtype=int64)]\n",
      "59 ['1' '7'] 0\n",
      "[array([], dtype=int64), array([], dtype=int64)]\n",
      "60 ['1' '7'] 0\n",
      "[array([], dtype=int64), array([], dtype=int64)]\n",
      "61 ['1' '7'] 0\n",
      "[array([], dtype=int64), array([], dtype=int64)]\n",
      "62 ['1' '7'] 0\n",
      "[array([], dtype=int64), array([], dtype=int64)]\n",
      "63 ['1' '7'] 0\n",
      "[array([], dtype=int64), array([], dtype=int64)]\n",
      "64 ['1' '7'] 36\n",
      "[array([65336433, 65336434, 65336435, 65336436, 65336437, 65336438,\n",
      "       65336439, 65336440, 65336441, 65336442, 65336443, 65336444,\n",
      "       65336445, 65336446, 65336447, 65336448, 65336449, 65336450,\n",
      "       65336451, 65336452, 65336453, 65336454, 65336455, 65336456,\n",
      "       65336457, 65336458, 65336459, 65336460, 65336461, 65336463,\n",
      "       65336464, 65336465, 65336466, 65336467, 65336468, 65336469]), array([], dtype=int64)]\n",
      "65 ['1' '7'] 5\n",
      "[array([65336470, 65336471, 65336472, 65336473, 65336474]), array([], dtype=int64)]\n",
      "66 ['1' '7'] 0\n",
      "[array([], dtype=int64), array([], dtype=int64)]\n",
      "67 ['1' '7'] 0\n",
      "[array([], dtype=int64), array([], dtype=int64)]\n",
      "68 ['1' '7'] 0\n",
      "[array([], dtype=int64), array([], dtype=int64)]\n",
      "69 ['1' '7'] 0\n",
      "[array([], dtype=int64), array([], dtype=int64)]\n",
      "70 ['1' '7'] 0\n",
      "[array([], dtype=int64), array([], dtype=int64)]\n",
      "71 ['1' '7'] 0\n",
      "[array([], dtype=int64), array([], dtype=int64)]\n",
      "72 ['0_35' '1'] 3\n",
      "[array([65336475, 65337214, 65337592]), array([], dtype=int64)]\n",
      "73 ['0_35' '1'] 2\n",
      "[array([65337820, 65338025]), array([], dtype=int64)]\n",
      "74 ['0_35' '1'] 18\n",
      "[array([65338044, 65339287, 65340942, 65342100, 65343265, 65344593,\n",
      "       65345603, 65346859, 65350360, 65351493, 65353234, 65355262,\n",
      "       65356873, 65358714, 65358900, 65358913, 65359278, 65359864]), array([], dtype=int64)]\n",
      "75 ['0_35' '1' '1_22'] 2\n",
      "[array([65360656, 65361198]), array([], dtype=int64), array([], dtype=int64)]\n",
      "76 ['0_35' '1'] 4\n",
      "[array([65361204, 65362105, 65363487, 65363534]), array([], dtype=int64)]\n",
      "77 ['0_35' '1'] 0\n",
      "[array([], dtype=int64), array([], dtype=int64)]\n",
      "78 ['0_35' '1'] 0\n",
      "[array([], dtype=int64), array([], dtype=int64)]\n",
      "79 ['0_35' '1'] 52\n",
      "[array([65363536, 65363537, 65363538, 65363539, 65363540, 65363541,\n",
      "       65363542, 65363543, 65363546, 65363549, 65363554, 65363555,\n",
      "       65363558, 65363561, 65363565, 65363572, 65363576, 65363577,\n",
      "       65363580, 65363587, 65363588, 65363590, 65363593, 65363596,\n",
      "       65363599, 65363606, 65363607, 65363613, 65363616, 65363619,\n",
      "       65363621, 65363624, 65363627, 65363636, 65363644, 65363646,\n",
      "       65363648, 65363650, 65363651, 65363652, 65363653, 65363654,\n",
      "       65363655, 65363656, 65363657, 65363658, 65363659, 65363660,\n",
      "       65363661, 65363662, 65363663, 65363664]), array([], dtype=int64)]\n",
      "80 ['0_35' '1'] 199\n",
      "[array([65363665, 65363673, 65363674, 65363683, 65363690, 65363698,\n",
      "       65363706, 65363714, 65363722, 65363737, 65363738, 65363746,\n",
      "       65363753, 65363760, 65363767, 65363773, 65363782, 65363784,\n",
      "       65363787, 65363789, 65363791, 65363793, 65363795, 65363798,\n",
      "       65363799, 65363800, 65363802, 65363805, 65363808, 65363811,\n",
      "       65363812, 65363816, 65363818, 65363820, 65363822, 65363826,\n",
      "       65363829, 65363831, 65363833, 65363835, 65363837, 65363843,\n",
      "       65363846, 65363847, 65363849, 65363851, 65363853, 65363859,\n",
      "       65363860, 65363863, 65363865, 65363866, 65363869, 65363871,\n",
      "       65363872, 65363874, 65363875, 65363877, 65363879, 65363880,\n",
      "       65363881, 65363882, 65363883, 65363884, 65363885, 65363886,\n",
      "       65363888, 65363889, 65363891, 65363893, 65363894, 65363895,\n",
      "       65363896, 65363899, 65363900, 65363904, 65363907, 65363908,\n",
      "       65363910, 65363913, 65363914, 65363918, 65363922, 65363925,\n",
      "       65363928, 65363932, 65363936, 65363939, 65363943, 65363947,\n",
      "       65363953, 65363954, 65363959, 65363961, 65363964, 65363965,\n",
      "       65363966, 65363967, 65363968, 65363971, 65363973, 65363977,\n",
      "       65363978, 65363980, 65363982, 65363985, 65363986, 65363992,\n",
      "       65363995, 65363998, 65364002, 65364003, 65364007, 65364015,\n",
      "       65364016, 65364023, 65364028, 65364030, 65364032, 65364034,\n",
      "       65364043, 65364050, 65364057, 65364060, 65364062, 65364064,\n",
      "       65364066, 65364068, 65364071, 65364073, 65364077, 65364078,\n",
      "       65364081, 65364082, 65364084, 65364085, 65364086, 65364088,\n",
      "       65364089, 65364090, 65364091, 65364092, 65364094, 65364095,\n",
      "       65364096, 65364099, 65364100, 65364101, 65364102, 65364104,\n",
      "       65364106, 65364107, 65364110, 65364111, 65364112, 65364113,\n",
      "       65364117, 65364119, 65364122, 65364124, 65364127, 65364129,\n",
      "       65364133, 65364134, 65364136, 65364137, 65364140, 65364141,\n",
      "       65364143, 65364145, 65364147, 65364148, 65364149, 65364150,\n",
      "       65364153, 65364154, 65364155, 65364157, 65364158, 65364163,\n",
      "       65364164, 65364165, 65364166, 65364167, 65364168, 65364171,\n",
      "       65364172, 65364173, 65364174, 65364179, 65364183, 65364194,\n",
      "       65364195, 65364203, 65364205, 65364209, 65364212, 65364214,\n",
      "       65364217]), array([], dtype=int64)]\n",
      "81 ['0_35' '1'] 4\n",
      "[array([], dtype=int64), array([65364218, 65364219, 65364220, 65364221])]\n",
      "82 ['0_35' '1'] 46\n",
      "[array([], dtype=int64), array([65364222, 65364223, 65364224, 65364226, 65364227, 65364228,\n",
      "       65364230, 65364231, 65364232, 65364233, 65364234, 65364235,\n",
      "       65364237, 65364238, 65364239, 65364240, 65364241, 65364242,\n",
      "       65364243, 65364244, 65364245, 65364246, 65364247, 65364248,\n",
      "       65364249, 65364250, 65364251, 65364252, 65364253, 65364254,\n",
      "       65364255, 65364256, 65364257, 65364259, 65364260, 65364261,\n",
      "       65364262, 65364263, 65364264, 65364265, 65364267, 65364268,\n",
      "       65364270, 65364271, 65364272, 65364273])]\n",
      "83 ['0_35' '1'] 0\n",
      "[array([], dtype=int64), array([], dtype=int64)]\n",
      "84 ['0_35' '1'] 8\n",
      "[array([], dtype=int64), array([65364274, 65364276, 65364277, 65364278, 65364280, 65364282,\n",
      "       65364283, 65364284])]\n",
      "85 ['0_35' '1'] 39\n",
      "[array([], dtype=int64), array([65364285, 65364286, 65364287, 65364288, 65364290, 65364291,\n",
      "       65364293, 65364294, 65364295, 65364296, 65364298, 65364299,\n",
      "       65364300, 65364302, 65364303, 65364306, 65364307, 65364309,\n",
      "       65364310, 65364312, 65364313, 65364314, 65364315, 65364316,\n",
      "       65364317, 65364318, 65364319, 65364320, 65364324, 65364325,\n",
      "       65364326, 65364329, 65364330, 65364331, 65364332, 65364333,\n",
      "       65364334, 65364337, 65364338])]\n",
      "86 ['0_34' '0_35' '1' '1_22'] 0\n",
      "[array([], dtype=int64), array([], dtype=int64), array([], dtype=int64), array([], dtype=int64)]\n",
      "87 ['0' '0_34' '0_35' '1'] 0\n",
      "[array([], dtype=int64), array([], dtype=int64), array([], dtype=int64), array([], dtype=int64)]\n",
      "88 ['0' '0_34' '0_35' '1' '1_22'] 74\n",
      "[array([], dtype=int64), array([], dtype=int64), array([], dtype=int64), array([65364341, 65364342, 65364343, 65364344, 65364347, 65364348,\n",
      "       65364349, 65364350, 65364352, 65364353, 65364354, 65364355,\n",
      "       65364356, 65364358, 65364359, 65364361, 65364363, 65364364,\n",
      "       65364365, 65364366, 65364367, 65364369, 65364370, 65364371,\n",
      "       65364372, 65364373, 65364374, 65364377, 65364378, 65364379,\n",
      "       65364380, 65364381, 65364382, 65364383, 65364384, 65364385,\n",
      "       65364386, 65364387, 65364388, 65364389, 65364390, 65364391,\n",
      "       65364392, 65364393, 65364394, 65364395, 65364397, 65364398,\n",
      "       65364399, 65364400, 65364401, 65364402, 65364403, 65364404,\n",
      "       65364405, 65364406, 65364407, 65364408, 65364409, 65364411,\n",
      "       65364413, 65364414, 65364416, 65364417, 65364420, 65364421,\n",
      "       65364424, 65364425, 65364426, 65364427, 65364428, 65364429,\n",
      "       65364430, 65364431]), array([], dtype=int64)]\n",
      "89 ['0' '0_34' '0_35' '1' '1_22'] 0\n",
      "[array([], dtype=int64), array([], dtype=int64), array([], dtype=int64), array([], dtype=int64), array([], dtype=int64)]\n",
      "90 ['0' '0_36' '0_34' '0_35' '1' '1_22'] 0\n",
      "[array([], dtype=int64), array([], dtype=int64), array([], dtype=int64), array([], dtype=int64), array([], dtype=int64), array([], dtype=int64)]\n"
     ]
    }
   ],
   "source": [
    "for idx in range(21, 91):\n",
    "    idx = str(idx)\n",
    "    #\n",
    "    ray_metadata = np.load('/work/hdd/bbvl/gtg115x/new_zoom_5/box_2_z_1/star_metadata/star_metadata_allbox_%s.npy' % idx, allow_pickle=True).tolist()\n",
    "    ray_pos_all = ray_metadata['pos']\n",
    "    ray_age_all = ray_metadata['age']\n",
    "    ray_mass_all = ray_metadata['mass']\n",
    "    ray_ID_all = np.array(np.load('/work/hdd/bbvl/gtg115x/new_zoom_5/box_2_z_1/star_metadata/star_ID_allbox_%s.npy' % idx, allow_pickle=True).tolist()).astype(int)\n",
    "    ray_vel_all = np.array(np.load('/work/hdd/bbvl/gtg115x/new_zoom_5/box_2_z_1/star_metadata/star_vel_allbox_%s.npy' % idx, allow_pickle=True).tolist()['vel'])\n",
    "    #\n",
    "    if idx == '21':\n",
    "        ray_ID_all_prev = np.array([])\n",
    "    #\n",
    "    ray_ID_unassign = np.setdiff1d(ray_ID_all, ray_ID_all_prev)\n",
    "    ray_pos_unassign = ray_pos_all[np.intersect1d(ray_ID_all, ray_ID_unassign, return_indices=True)[1]]\n",
    "    ray_vel_unassign = ray_vel_all[np.intersect1d(ray_ID_all, ray_ID_unassign, return_indices=True)[1]]\n",
    "    #Obtain the halos with stars\n",
    "    halo_wstars_pos, halo_wstars_rvir, halo_wstars_branch = list_of_halos_wstars_idx(ray_tree, idx)\n",
    "    print(idx, halo_wstars_branch, len(ray_ID_unassign))\n",
    "    #\n",
    "    #The shape of halo_boolean is (X,Y), where X is the number of star particles and Y is the number of halos with stars\n",
    "    halo_boolean = np.linalg.norm(ray_pos_unassign[:, np.newaxis, :] - halo_wstars_pos, axis=2) <= halo_wstars_rvir\n",
    "    #The number of halos a star particle is in. For example, if this value = 2, the star particle is in the region of 2 halos\n",
    "    overlap_boolean = np.sum(halo_boolean, axis=1) \n",
    "    if len(overlap_boolean) > 0 and (overlap_boolean != 1).any() == True:\n",
    "        print(idx, 'OVERLAP DETECTED')\n",
    "    #The list of stars in each halo's region\n",
    "    starmap_ID = []\n",
    "    for j in range(halo_boolean.shape[1]):\n",
    "        starmap_ID.append(ray_ID_unassign[halo_boolean[:,j]])\n",
    "    print(starmap_ID)\n",
    "    #\n",
    "    for i in range(len(halo_wstars_branch)):\n",
    "        if len(starmap_ID[i]) > 0: \n",
    "            for j in ray_tree[halo_wstars_branch[i]].keys(): #assuming when a star forms inside a halo, it will not leave that halo \n",
    "                if int(j) >= int(idx):\n",
    "                    if halo_wstars_branch[i] not in output[j].keys():\n",
    "                        output[j][halo_wstars_branch[i]] = starmap_ID[i]\n",
    "                    else:\n",
    "                        output[j][halo_wstars_branch[i]] = np.append(output[j][halo_wstars_branch[i]], starmap_ID[i])\n",
    "            if '_' in halo_wstars_branch[i]: #for subbranch, the stars in the sub-branch will belong to the main branch after the two halos merge\n",
    "                mainbranch = halo_wstars_branch[i].split('_')[0]\n",
    "                merge_timestep = np.max(np.array(list(ray_tree[halo_wstars_branch[i]].keys())).astype(int)) + 1\n",
    "                last_timestep = np.max(np.array(list(ray_tree['0'].keys())).astype(int))\n",
    "                for j in range(merge_timestep, last_timestep + 1):\n",
    "                    if mainbranch not in output[str(j)].keys():\n",
    "                        output[str(j)][mainbranch] = starmap_ID[i]\n",
    "                    else:\n",
    "                        output[str(j)][mainbranch] = np.append(output[str(j)][mainbranch], starmap_ID[i])\n",
    "                \n",
    "    #\n",
    "    ray_ID_all_prev = ray_ID_all"
   ]
  },
  {
   "cell_type": "code",
   "execution_count": 10,
   "id": "f6a7e6f0-6a4e-4895-a104-05c4e1e1af06",
   "metadata": {
    "tags": []
   },
   "outputs": [
    {
     "data": {
      "text/plain": [
       "dict_keys(['1', '7', '0'])"
      ]
     },
     "execution_count": 10,
     "metadata": {},
     "output_type": "execute_result"
    }
   ],
   "source": [
    "output['101'].keys()"
   ]
  },
  {
   "cell_type": "code",
   "execution_count": 10,
   "id": "4af4cf91-4d14-4cc8-a283-7a47e63dfb82",
   "metadata": {
    "tags": []
   },
   "outputs": [
    {
     "data": {
      "text/plain": [
       "{'tree_loc': '1_22',\n",
       " 'coor': array([0.47356483, 0.50200012, 0.49968263]),\n",
       " 'Rvir': 0.0017621845302556892,\n",
       " 'redshift': 14.393940210744,\n",
       " 'time': 0.2870843688082701,\n",
       " 'gas_mass': 302999751.91776574,\n",
       " 'gas_mass_frac': 0.1788584872392928,\n",
       " 'h2_mass': 30722800.068975758,\n",
       " 'h2_fraction': 0.1013954627834611,\n",
       " 'dm_mass': 1370376768.8724527,\n",
       " 'pop2_mass': 20698815.49721027,\n",
       " 'pop3_mass': 0.0,\n",
       " 'star_mass': 20698815.49721027,\n",
       " 'metal_mass': 84355.03970861924,\n",
       " 'metallicity': 0.0002783996989261999,\n",
       " 'sfr': 0.0,\n",
       " 'total_mass': 1694075336.2874289}"
      ]
     },
     "execution_count": 10,
     "metadata": {},
     "output_type": "execute_result"
    }
   ],
   "source": [
    "ray_tree['1_22']['75']"
   ]
  },
  {
   "cell_type": "markdown",
   "id": "b0c4a4d2-62ea-4612-9d5f-454d2b836712",
   "metadata": {},
   "source": [
    "#### Testing each for loop step"
   ]
  },
  {
   "cell_type": "code",
   "execution_count": 59,
   "id": "06e91e85-442a-4e06-83f0-fa42e0a902f0",
   "metadata": {
    "tags": []
   },
   "outputs": [
    {
     "name": "stderr",
     "output_type": "stream",
     "text": [
      "yt : [INFO     ] 2025-01-01 01:39:04,425 Parameters: current_time              = 14.485372364245\n",
      "yt : [INFO     ] 2025-01-01 01:39:04,427 Parameters: domain_dimensions         = [256 256 256]\n",
      "yt : [INFO     ] 2025-01-01 01:39:04,428 Parameters: domain_left_edge          = [0. 0. 0.]\n",
      "yt : [INFO     ] 2025-01-01 01:39:04,430 Parameters: domain_right_edge         = [1. 1. 1.]\n",
      "yt : [INFO     ] 2025-01-01 01:39:04,431 Parameters: cosmological_simulation   = 1\n",
      "yt : [INFO     ] 2025-01-01 01:39:04,432 Parameters: current_redshift          = 13.847170857863\n",
      "yt : [INFO     ] 2025-01-01 01:39:04,434 Parameters: omega_lambda              = 0.6935\n",
      "yt : [INFO     ] 2025-01-01 01:39:04,435 Parameters: omega_matter              = 0.3065\n",
      "yt : [INFO     ] 2025-01-01 01:39:04,436 Parameters: omega_radiation           = 0.0\n",
      "yt : [INFO     ] 2025-01-01 01:39:04,438 Parameters: hubble_constant           = 0.679\n"
     ]
    }
   ],
   "source": [
    "idx = '91'\n",
    "ray_metadata = np.load('/work/hdd/bbvl/gtg115x/new_zoom_5/box_2_z_1/star_metadata/star_metadata_allbox_%s.npy' % idx, allow_pickle=True).tolist()\n",
    "ray_pos_all = ray_metadata['pos']\n",
    "ray_age_all = ray_metadata['age']\n",
    "ray_mass_all = ray_metadata['mass']\n",
    "ray_ID_all = np.array(np.load('/work/hdd/bbvl/gtg115x/new_zoom_5/box_2_z_1/star_metadata/star_ID_allbox_%s.npy' % idx, allow_pickle=True).tolist()).astype(int)\n",
    "ray_vel_all = np.array(np.load('/work/hdd/bbvl/gtg115x/new_zoom_5/box_2_z_1/star_metadata/star_vel_allbox_%s.npy' % idx, allow_pickle=True).tolist()['vel'])\n",
    "ds = yt.load(ray_pfs[int(idx)])\n",
    "\n",
    "if idx == '21':\n",
    "    ray_ID_all_prev = np.array([])"
   ]
  },
  {
   "cell_type": "code",
   "execution_count": 60,
   "id": "1cfd1306-de50-42a2-a455-489fb566e33f",
   "metadata": {
    "tags": []
   },
   "outputs": [
    {
     "name": "stdout",
     "output_type": "stream",
     "text": [
      "[65364432 65364433 65364434 65364435 65364437 65364438 65364439 65364440\n",
      " 65364442 65364443 65364445 65364447 65364449 65364450 65364452 65364454\n",
      " 65364456 65364457 65364459 65364461 65364463 65364466 65364468 65364472\n",
      " 65364473 65364476 65364480 65364481 65364484 65364488 65364489]\n"
     ]
    }
   ],
   "source": [
    "ray_ID_unassign = np.setdiff1d(ray_ID_all, ray_ID_all_prev)\n",
    "print(ray_ID_unassign)\n",
    "ray_pos_unassign = ray_pos_all[np.intersect1d(ray_ID_all, ray_ID_unassign, return_indices=True)[1]]\n",
    "ray_vel_unassign = ray_vel_all[np.intersect1d(ray_ID_all, ray_ID_unassign, return_indices=True)[1]]"
   ]
  },
  {
   "cell_type": "code",
   "execution_count": 61,
   "id": "dfdab33c-8ded-4ec4-a0be-ce4461e7db0e",
   "metadata": {
    "tags": []
   },
   "outputs": [
    {
     "name": "stdout",
     "output_type": "stream",
     "text": [
      "['0' '0_36' '0_34' '0_35' '1' '1_22']\n"
     ]
    }
   ],
   "source": [
    "halo_wstars_pos, halo_wstars_rvir, halo_wstars_branch = list_of_halos_wstars_idx(ray_tree, idx)\n",
    "print(halo_wstars_branch)"
   ]
  },
  {
   "cell_type": "code",
   "execution_count": 32,
   "id": "c4630a0d-1c77-4421-b153-e5dede616f75",
   "metadata": {
    "tags": []
   },
   "outputs": [],
   "source": [
    "def find_total_E_multiple(star_pos, star_vel, ds, tree, branch, idx):\n",
    "    #this function calculate the total orbital energy of a star around a halo\n",
    "    #the unit of position is code_length and the unit of velocity is code_length/s\n",
    "    if star_pos.shape == (3,):\n",
    "        star_r_codelength = np.linalg.norm(star_pos - tree[branch][idx]['Halo_Center'])\n",
    "    else:\n",
    "        star_r_codelength = np.linalg.norm(star_pos - tree[branch][idx]['Halo_Center'], axis=1)\n",
    "    star_r = (star_r_codelength*ds.units.code_length).to('m').v\n",
    "    #\n",
    "    halo_vel = (tree[branch][idx]['Vel_Com']*ds.units.code_length/ds.units.s).to('m/s').v\n",
    "    if star_pos.shape == (3,):\n",
    "        star_relvel_mag = np.linalg.norm(star_vel - halo_vel)\n",
    "    else:\n",
    "        star_relvel_mag = np.linalg.norm(star_vel - halo_vel, axis=1)\n",
    "    #Kinetic energy\n",
    "    KE = 0.5*star_relvel_mag**2\n",
    "    #Approximate M(r < star_r) by using the overdensity\n",
    "    oden_list, char_radius_list = extract_char_radius(tree, branch, idx)\n",
    "    char_radius_list = (char_radius_list*ds.units.code_length).to('m').v\n",
    "    oden_boolean = char_radius_list > star_r[:,np.newaxis]\n",
    "    oden = np.array([])\n",
    "    for j in range(len(oden_boolean)):\n",
    "        oden = np.append(oden, oden_list[np.where(oden_boolean[j] == True)[0][-1]])\n",
    "    #\n",
    "    M = (4/3)*np.pi*oden*univDen(ds)*star_r**3\n",
    "    PE = -G.value*M/star_r\n",
    "    E = KE + PE\n",
    "    return E"
   ]
  },
  {
   "cell_type": "code",
   "execution_count": 12,
   "id": "20bcdcfd-9020-4262-8cb8-59123409a976",
   "metadata": {
    "tags": []
   },
   "outputs": [],
   "source": [
    "def find_total_E(star_pos, star_vel, ds, tree, branch, idx):\n",
    "    #this function calculate the total orbital energy of a star around a halo\n",
    "    #the unit of position is code_length and the unit of velocity is code_length/s\n",
    "    star_r_codelength = np.linalg.norm(star_pos - tree[branch][idx]['Halo_Center'])\n",
    "    star_r = (star_r_codelength*ds.units.code_length).to('m').v\n",
    "    #\n",
    "    halo_vel = (tree[branch][idx]['Vel_Com']*ds.units.code_length/ds.units.s).to('m/s').v\n",
    "    star_relvel_mag = np.linalg.norm(star_vel - halo_vel)\n",
    "    #Kinetic energy\n",
    "    KE = 0.5*star_relvel_mag**2\n",
    "    #Approximate M(r < star_r) by using the overdensity\n",
    "    oden_list, char_radius_list = extract_char_radius(tree, branch, idx)\n",
    "    char_radius_list = (char_radius_list*ds.units.code_length).to('m').v\n",
    "    oden = oden_list[char_radius_list > star_r][-1]\n",
    "    M = (4/3)*np.pi*oden*univDen(ds)*star_r**3\n",
    "    PE = -G.value*M/star_r\n",
    "    E = KE + PE\n",
    "    return E"
   ]
  },
  {
   "cell_type": "code",
   "execution_count": 62,
   "id": "fddda328-c18d-48d6-ab2c-8572c7123fde",
   "metadata": {
    "tags": []
   },
   "outputs": [
    {
     "name": "stdout",
     "output_type": "stream",
     "text": [
      "OVERLAP DETECTED\n",
      "Star ID 65364432 belong to Branch 1_22\n",
      "Star ID 65364433 belong to Branch 1_22\n",
      "Star ID 65364434 belong to Branch 1_22\n",
      "Star ID 65364435 belong to Branch 1_22\n",
      "Star ID 65364437 belong to Branch 1_22\n",
      "Star ID 65364438 belong to Branch 1_22\n",
      "Star ID 65364439 belong to Branch 1_22\n",
      "Star ID 65364440 belong to Branch 1_22\n",
      "Star ID 65364442 belong to Branch 1_22\n",
      "Star ID 65364443 belong to Branch 1_22\n",
      "Star ID 65364445 belong to Branch 1_22\n",
      "Star ID 65364447 belong to Branch 1_22\n",
      "Star ID 65364449 belong to Branch 1_22\n",
      "Star ID 65364450 belong to Branch 1_22\n",
      "Star ID 65364452 belong to Branch 1_22\n",
      "Star ID 65364454 belong to Branch 1_22\n",
      "Star ID 65364456 belong to Branch 1_22\n",
      "Star ID 65364457 belong to Branch 1_22\n",
      "Star ID 65364459 belong to Branch 1_22\n",
      "Star ID 65364461 belong to Branch 1_22\n",
      "Star ID 65364463 belong to Branch 1_22\n",
      "Star ID 65364466 belong to Branch 1_22\n",
      "Star ID 65364468 belong to Branch 1_22\n",
      "Star ID 65364472 belong to Branch 1_22\n",
      "Star ID 65364473 belong to Branch 1_22\n",
      "Star ID 65364476 belong to Branch 1_22\n",
      "Star ID 65364480 belong to Branch 1_22\n",
      "Star ID 65364481 belong to Branch 1_22\n",
      "Star ID 65364484 belong to Branch 1_22\n",
      "Star ID 65364488 belong to Branch 1_22\n",
      "Star ID 65364489 belong to Branch 1_22\n"
     ]
    }
   ],
   "source": [
    "#The shape of halo_boolean is (X,Y), where X is the number of star particles and Y is the number of halos with stars\n",
    "halo_boolean = np.linalg.norm(ray_pos_unassign[:, np.newaxis, :] - halo_wstars_pos, axis=2) <= halo_wstars_rvir\n",
    "#The number of halos a star particle is in. For example, if this value = 2, the star particle is in the region of 2 halos\n",
    "overlap_boolean = np.sum(halo_boolean, axis=1) \n",
    "#The list of stars in each halo's region\n",
    "starmap_ID = []\n",
    "    \n",
    "ray_ID_overlap = ray_ID_unassign[overlap_boolean > 1]\n",
    "halo_boolean_overlap = halo_boolean[overlap_boolean > 1]\n",
    "ray_ID_indp = ray_ID_unassign[overlap_boolean == 1]\n",
    "halo_boolean_indp = halo_boolean[overlap_boolean == 1]\n",
    "\n",
    "for j in range(halo_boolean_indp.shape[1]):\n",
    "    starmap_ID.append(ray_ID_indp[halo_boolean_indp[:,j]])\n",
    "    \n",
    "if len(ray_ID_overlap) > 0:\n",
    "    print('OVERLAP DETECTED')\n",
    "    ray_pos_overlap = ray_pos_unassign[overlap_boolean > 1]\n",
    "    ray_vel_overlap = ray_vel_unassign[overlap_boolean > 1]\n",
    "    #WRITE MORE CODE HERE TO IMPLEMENT THE DETERMINATION OF STARS TO SPECIFIC HALOS\n",
    "    for k in range(len(ray_ID_overlap)):\n",
    "        overlap_branch = halo_wstars_branch[halo_boolean_overlap[k]]\n",
    "        E_list = np.array([])\n",
    "        for branch in overlap_branch:\n",
    "            E = find_total_E(ray_pos_overlap[k], ray_vel_overlap[k], ds, ray_rawtree, branch, int(idx))\n",
    "            E_list = np.append(E_list, E)\n",
    "        bound_branch = overlap_branch[np.argmin(E_list)]\n",
    "        print('Star ID', ray_ID_overlap[k], 'belong to Branch', bound_branch)\n",
    "        starmap_ID[list(halo_wstars_branch).index(bound_branch)] = np.append(starmap_ID[list(halo_wstars_branch).index(bound_branch)], ray_ID_overlap[k])"
   ]
  },
  {
   "cell_type": "code",
   "execution_count": null,
   "id": "badaaebc-4873-4fc4-9106-808ebb9773d3",
   "metadata": {},
   "outputs": [],
   "source": [
    "\"\"\" Old version before 01/01/2024\n",
    "#The shape of halo_boolean is (X,Y), where X is the number of star particles and Y is the number of halos with stars\n",
    "halo_boolean = np.linalg.norm(ray_pos_unassign[:, np.newaxis, :] - halo_wstars_pos, axis=2) <= halo_wstars_rvir\n",
    "#The number of halos a star particle is in. For example, if this value = 2, the star particle is in the region of 2 halos\n",
    "overlap_boolean = np.sum(halo_boolean, axis=1) \n",
    "#The list of stars in each halo's region\n",
    "starmap_ID = []\n",
    "if len(overlap_boolean) > 0 and (overlap_boolean > 1).any() == True:\n",
    "    print('OVERLAP DETECTED')\n",
    "    for n in range(len(halo_wstars_branch)):\n",
    "        starmap_ID.append(np.empty(0))\n",
    "    ray_pos_overlap = ray_pos_unassign[overlap_boolean > 1]\n",
    "    ray_vel_overlap = ray_vel_unassign[overlap_boolean > 1]\n",
    "    ray_ID_overlap = ray_ID_unassign[overlap_boolean > 1]\n",
    "    #WRITE MORE CODE HERE TO IMPLEMENT THE DETERMINATION OF STARS TO SPECIFIC HALOS\n",
    "    for k in range(len(halo_boolean)):\n",
    "        overlap_branch = halo_wstars_branch[halo_boolean[k]]\n",
    "        E_list = np.array([])\n",
    "        for branch in overlap_branch:\n",
    "            E = find_total_E(ray_pos_overlap[k], ray_vel_overlap[k], ds, ray_rawtree, branch, int(idx))\n",
    "            E_list = np.append(E_list, E)\n",
    "        bound_branch = overlap_branch[np.argmin(E_list)]\n",
    "        print('Star ID', ray_ID_overlap[k], 'belong to Branch', bound_branch)\n",
    "        starmap_ID[list(halo_wstars_branch).index(bound_branch)] = np.append(starmap_ID[list(halo_wstars_branch).index(bound_branch)], ray_ID_overlap[k])\n",
    "else: #if none of the stars are in overlapped halos\n",
    "    for j in range(halo_boolean.shape[1]):\n",
    "        starmap_ID.append(ray_ID_unassign[halo_boolean[:,j]])\n",
    "\"\"\""
   ]
  },
  {
   "cell_type": "code",
   "execution_count": null,
   "id": "4fa1166b-d5f7-4eb8-8ad5-715f1e16a6e2",
   "metadata": {},
   "outputs": [],
   "source": []
  },
  {
   "cell_type": "code",
   "execution_count": 41,
   "id": "cf5eaf09-5978-4dad-8985-6560088ebcd4",
   "metadata": {
    "tags": []
   },
   "outputs": [],
   "source": [
    "for i in range(len(halo_wstars_branch)):\n",
    "    if len(starmap_ID[i]) > 0:\n",
    "        for j in ray_tree[halo_wstars_branch[i]].keys(): #assuming when a star forms inside a halo, it will not leave that halo \n",
    "            if int(j) >= int(idx):\n",
    "                if halo_wstars_branch[i] not in output[j].keys():\n",
    "                    output[j][halo_wstars_branch[i]] = starmap_ID[i]\n",
    "                else:\n",
    "                    output[j][halo_wstars_branch[i]] = np.append(output[j][halo_wstars_branch[i]], starmap_ID[i])\n",
    "                    \n",
    "ray_ID_all_prev = ray_ID_all"
   ]
  },
  {
   "cell_type": "markdown",
   "id": "a18caed8-d8ee-4b02-b60e-338dd493eed5",
   "metadata": {},
   "source": [
    "To do:\n",
    "+ In a case where one particle belongs to multiple halos, write code to assign that star to a specific halo\n",
    "+ If a star particle belongs to a sub-branch (for example, '0_20'), add it to the main branch when the halos merge (in the example, add it to branch '0') (done, however, the code doesn't account for sub-sub halos yet (or deeper sub-branches)\n",
    "+ In the final step, double check whether all stars are located in each halos of all snapshots. If they are not, remove them.\n"
   ]
  },
  {
   "cell_type": "code",
   "execution_count": 342,
   "id": "2cac3691-b65c-451d-9c27-359a3849efe4",
   "metadata": {},
   "outputs": [
    {
     "data": {
      "text/plain": [
       "269"
      ]
     },
     "execution_count": 342,
     "metadata": {},
     "output_type": "execute_result"
    }
   ],
   "source": [
    "len(output['57']['1'])"
   ]
  },
  {
   "cell_type": "markdown",
   "id": "2585657d-1b8b-4544-bf19-27703efe9953",
   "metadata": {},
   "source": [
    "### Star Assignment Technique using Energy Definition"
   ]
  },
  {
   "cell_type": "code",
   "execution_count": 2,
   "id": "4f70f6f8-7eab-49ac-9023-e3f77061bec6",
   "metadata": {
    "tags": []
   },
   "outputs": [],
   "source": [
    "def univDen(ds):\n",
    "    # Hubble constant\n",
    "    H0 = ds.hubble_constant * 100 * u.km/u.s/u.Mpc\n",
    "    H = H0**2 * (ds.omega_matter*(1 + ds.current_redshift)**3 + ds.omega_lambda)  # Technically H^2\n",
    "    G = 6.67e-11 * u.m**3/u.s**2/u.kg\n",
    "    # Density of the universe\n",
    "    den = (3*H/(8*np.pi*G)).to(\"kg/m**3\") / u.kg * u.m**3\n",
    "    return den.value"
   ]
  },
  {
   "cell_type": "code",
   "execution_count": 3,
   "id": "99e10010-7eba-45f8-83de-38c974e6bfa5",
   "metadata": {
    "tags": []
   },
   "outputs": [],
   "source": [
    "def extract_char_radius(tree, branch, idx):\n",
    "    oden_list = np.array([100, 150, 200, 250, 300, 500, 700])\n",
    "    char_radius_list = np.array([])\n",
    "    for oden in oden_list:\n",
    "        key = 'r%s' % oden\n",
    "        char_radius_list = np.append(char_radius_list, tree[branch][idx][key])\n",
    "    return oden_list, char_radius_list"
   ]
  },
  {
   "cell_type": "code",
   "execution_count": 4,
   "id": "4e5377c8-749c-4351-8d91-667969ec1b4c",
   "metadata": {
    "tags": []
   },
   "outputs": [],
   "source": [
    "def find_total_E(star_r, star_relvel_mag, ds, tree, branch, idx):\n",
    "    #this function calculate the total orbital energy of a star around a halo\n",
    "    #the unit of position is km and the unit of velocity is km/s\n",
    "    KE = 0.5*star_relvel_mag**2\n",
    "    #Approximate M(r < star_r) by using the overdensity\n",
    "    oden_list, char_radius_list = extract_char_radius(tree, branch, idx)\n",
    "    char_radius_list = (char_radius_list*ds.units.code_length).to('m').v\n",
    "    oden = oden_list[char_radius_list > star_r][-1]\n",
    "    #\n",
    "    M = (4/3)*np.pi*oden*univDen(ds)*star_r**3\n",
    "    PE = -G.value*M/star_r\n",
    "    E = KE + PE\n",
    "    return E"
   ]
  },
  {
   "cell_type": "code",
   "execution_count": 5,
   "id": "9ef90a98-af8c-4e7e-8557-a4c074f34704",
   "metadata": {
    "tags": []
   },
   "outputs": [],
   "source": [
    "ray_rawtree = np.load('/scratch/bbvl/gtg115x/new_zoom_5/box_2_z_1/halotree_1088_final.npy', allow_pickle=True).tolist()\n",
    "ray_pfs = np.loadtxt('/scratch/bbvl/gtg115x/new_zoom_5/box_2_z_1/pfs_allsnaps_1088.txt', dtype=str).tolist()"
   ]
  },
  {
   "cell_type": "code",
   "execution_count": 6,
   "id": "6c5392cd-c4c9-4132-8648-956e7eacc33e",
   "metadata": {
    "tags": []
   },
   "outputs": [],
   "source": [
    "idx = 170\n",
    "branch = '0'"
   ]
  },
  {
   "cell_type": "code",
   "execution_count": 7,
   "id": "9c515928-3bb8-479b-8ff5-b01baecdc68d",
   "metadata": {
    "tags": []
   },
   "outputs": [
    {
     "name": "stderr",
     "output_type": "stream",
     "text": [
      "yt : [INFO     ] 2024-12-13 18:28:03,482 Parameters: current_time              = 18.261035164245\n",
      "yt : [INFO     ] 2024-12-13 18:28:03,484 Parameters: domain_dimensions         = [256 256 256]\n",
      "yt : [INFO     ] 2024-12-13 18:28:03,485 Parameters: domain_left_edge          = [0. 0. 0.]\n",
      "yt : [INFO     ] 2024-12-13 18:28:03,486 Parameters: domain_right_edge         = [1. 1. 1.]\n",
      "yt : [INFO     ] 2024-12-13 18:28:03,487 Parameters: cosmological_simulation   = 1\n",
      "yt : [INFO     ] 2024-12-13 18:28:03,488 Parameters: current_redshift          = 11.722141902049\n",
      "yt : [INFO     ] 2024-12-13 18:28:03,489 Parameters: omega_lambda              = 0.6935\n",
      "yt : [INFO     ] 2024-12-13 18:28:03,489 Parameters: omega_matter              = 0.3065\n",
      "yt : [INFO     ] 2024-12-13 18:28:03,490 Parameters: omega_radiation           = 0.0\n",
      "yt : [INFO     ] 2024-12-13 18:28:03,491 Parameters: hubble_constant           = 0.679\n"
     ]
    }
   ],
   "source": [
    "ds = yt.load(ray_pfs[idx])"
   ]
  },
  {
   "cell_type": "code",
   "execution_count": 8,
   "id": "ed470a72-794e-4754-b092-72bbe40e3e89",
   "metadata": {
    "tags": []
   },
   "outputs": [],
   "source": [
    "ray_metadata = np.load('/work/hdd/bbvl/gtg115x/new_zoom_5/box_2_z_1/star_metadata/star_metadata_allbox_%s.npy' % idx, allow_pickle=True).tolist()\n",
    "ray_pos_all = ray_metadata['pos']\n",
    "ray_age_all = ray_metadata['age']\n",
    "ray_ID_all = np.array(np.load('/work/hdd/bbvl/gtg115x/new_zoom_5/box_2_z_1/star_metadata/star_ID_allbox_%s.npy' % idx, allow_pickle=True).tolist())\n",
    "ray_vel_all = np.array(np.load('/work/hdd/bbvl/gtg115x/new_zoom_5/box_2_z_1/star_metadata/star_vel_allbox_%s.npy' % idx, allow_pickle=True).tolist()['vel'])"
   ]
  },
  {
   "cell_type": "code",
   "execution_count": 32,
   "id": "bcb467cb-6cc0-4c2a-a3e2-933f41118832",
   "metadata": {
    "tags": []
   },
   "outputs": [],
   "source": [
    "ray_halo_center = ray_rawtree[branch][idx]['Halo_Center']\n",
    "ray_halo_rvir = ray_rawtree[branch][idx]['Halo_Radius']\n",
    "ray_halo_vel = ray_rawtree[branch][idx]['Vel_Com']"
   ]
  },
  {
   "cell_type": "code",
   "execution_count": 33,
   "id": "85db83e9-37ae-4a5d-8489-8e4a367ddf4b",
   "metadata": {
    "tags": []
   },
   "outputs": [],
   "source": [
    "halo_boolean = np.linalg.norm(ray_pos_all - ray_halo_center, axis=1) < ray_halo_rvir\n",
    "halo_star_pos = ray_pos_all[halo_boolean]\n",
    "halo_star_r = np.linalg.norm(halo_star_pos - ray_halo_center, axis=1)\n",
    "halo_star_r = (halo_star_r*ds.units.code_length).to('m').v\n",
    "halo_star_vel = ray_vel_all[halo_boolean]\n",
    "halo_star_relvel_mag = np.linalg.norm(halo_star_vel - ray_halo_vel, axis=1)\n",
    "halo_star_relvel_mag = (halo_star_relvel_mag*ds.units.km/ds.units.s).to('m/s').v\n",
    "halo_star_age = ray_age_all[halo_boolean]\n",
    "halo_star_ID = ray_ID_all[halo_boolean]"
   ]
  },
  {
   "cell_type": "code",
   "execution_count": 34,
   "id": "af8727da-32e6-42b8-be35-2bd31ac4b1f6",
   "metadata": {
    "tags": []
   },
   "outputs": [],
   "source": [
    "E_list = []\n",
    "for j in range(len(halo_star_r)):\n",
    "    E_list.append(find_total_E(halo_star_r[j], halo_star_relvel_mag[j], ds, ray_rawtree, branch, idx))\n",
    "E_list = np.array(E_list)"
   ]
  },
  {
   "cell_type": "code",
   "execution_count": 35,
   "id": "d8adeb48-ee9f-4acc-b77a-a8ac1199771a",
   "metadata": {
    "tags": []
   },
   "outputs": [
    {
     "data": {
      "text/plain": [
       "Text(0.5, 0, 'Distance to Halo Center / Rvir')"
      ]
     },
     "execution_count": 35,
     "metadata": {},
     "output_type": "execute_result"
    },
    {
     "data": {
      "image/png": "[encoded data removed]",
      "text/plain": [
       "<Figure size 640x480 with 1 Axes>"
      ]
     },
     "metadata": {},
     "output_type": "display_data"
    }
   ],
   "source": [
    "#sns.kdeplot(x = halo_star_r/(ray_halo_rvir*ds.units.code_length).to('m'), y = E_list, fill=True)\n",
    "plt.plot(halo_star_r/(ray_halo_rvir*ds.units.code_length).to('m'), E_list, '.')\n",
    "plt.axhline(0, linestyle='--', color='black')\n",
    "plt.ylabel('KE + PE')\n",
    "plt.xlabel('Distance to Halo Center / Rvir')"
   ]
  },
  {
   "cell_type": "code",
   "execution_count": null,
   "id": "a30fc7d8-4d23-414b-96e8-18e5c5638959",
   "metadata": {},
   "outputs": [],
   "source": []
  },
  {
   "cell_type": "markdown",
   "id": "488cea19-6d2b-4a0e-88d2-73d8c0249987",
   "metadata": {},
   "source": [
    "Only 30% of the stars are bound, which is unlikely. The error may come from the fact that the center of the stellar population is significantly off from the halo center, this introduces errors in the energy calculation. \n",
    "\n",
    "Suggestion from Kirk: subtract "
   ]
  },
  {
   "cell_type": "markdown",
   "id": "0b933d2d-579a-4750-95c9-97c836b9bfe9",
   "metadata": {},
   "source": [
    "Use peak to determine the group of "
   ]
  },
  {
   "cell_type": "markdown",
   "id": "ddcf269f-08aa-4bc1-95cf-37339e3d2b24",
   "metadata": {},
   "source": [
    "### Star Assignment Technique from AGORA Paper V and VII"
   ]
  },
  {
   "cell_type": "markdown",
   "id": "32ff9ba5-a838-4927-9695-b9eb81362f7b",
   "metadata": {},
   "source": [
    "Because SHINBAD output doesn't store the maximum circular velocity, we need to estimate it from the circular velocity at the virial radius"
   ]
  },
  {
   "cell_type": "code",
   "execution_count": 2,
   "id": "6c48c26c-9fb8-46b1-bbda-418929c75b62",
   "metadata": {
    "tags": []
   },
   "outputs": [],
   "source": [
    "def weighted_std(values, weights_list):\n",
    "    \"\"\"\n",
    "    Return the weighted standard deviation.\n",
    "\n",
    "    values, weights -- NumPy ndarrays with the same shape.\n",
    "    \"\"\"\n",
    "    average = np.average(values, weights=weights_list)\n",
    "    N = len(values)\n",
    "    # Fast and numerically precise:\n",
    "    variance = np.sum(weights_list*(values-average)**2)/((N-1)*np.sum(weights_list)/N)\n",
    "    return np.sqrt(variance)"
   ]
  },
  {
   "cell_type": "code",
   "execution_count": 3,
   "id": "adf29027-62c6-409b-b515-2dbfbfc378b6",
   "metadata": {
    "tags": []
   },
   "outputs": [],
   "source": [
    "def star_assignment(tree, branch, idx, pfs, sigma_cut = 2, distance_cut = 2):\n",
    "    ds = yt.load(pfs[int(idx)])\n",
    "    #\n",
    "    branch = '0_4'\n",
    "    halo_center = tree[branch][int(idx)]['Halo_Center']\n",
    "    halo_rvir = tree[branch][int(idx)]['Halo_Radius']\n",
    "    halo_mass = tree[branch][int(idx)]['Halo_Mass']\n",
    "    halo_vel = tree[branch][int(idx)]['Vel_Com']\n",
    "    halo_vel = (halo_vel*ds.units.code_length/ds.units.s).to('km/s').v\n",
    "    #\n",
    "    halo_rvir_si = ((halo_rvir*ds.units.code_length).to('m').v)*u.m\n",
    "    halo_mass_si = ((halo_mass*ds.units.Msun).to('kg').v)*u.kg\n",
    "    vcir = np.sqrt(G*halo_mass_si/halo_rvir_si).to('km/s').value #this is the circular velocity at r = Rvir\n",
    "    #"
   ]
  },
  {
   "cell_type": "code",
   "execution_count": 17,
   "id": "df8f2df2-44c5-4578-807e-07d691864856",
   "metadata": {
    "tags": []
   },
   "outputs": [
    {
     "name": "stderr",
     "output_type": "stream",
     "text": [
      "yt : [INFO     ] 2024-12-11 16:59:32,587 Parameters: current_time              = 19.408071964245\n",
      "yt : [INFO     ] 2024-12-11 16:59:32,590 Parameters: domain_dimensions         = [256 256 256]\n",
      "yt : [INFO     ] 2024-12-11 16:59:32,592 Parameters: domain_left_edge          = [0. 0. 0.]\n",
      "yt : [INFO     ] 2024-12-11 16:59:32,595 Parameters: domain_right_edge         = [1. 1. 1.]\n",
      "yt : [INFO     ] 2024-12-11 16:59:32,597 Parameters: cosmological_simulation   = 1\n",
      "yt : [INFO     ] 2024-12-11 16:59:32,600 Parameters: current_redshift          = 11.215615860209\n",
      "yt : [INFO     ] 2024-12-11 16:59:32,602 Parameters: omega_lambda              = 0.6935\n",
      "yt : [INFO     ] 2024-12-11 16:59:32,604 Parameters: omega_matter              = 0.3065\n",
      "yt : [INFO     ] 2024-12-11 16:59:32,607 Parameters: omega_radiation           = 0.0\n",
      "yt : [INFO     ] 2024-12-11 16:59:32,607 Parameters: hubble_constant           = 0.679\n"
     ]
    }
   ],
   "source": [
    "idx = '194'\n",
    "ray_pfs = np.loadtxt('/scratch/bbvl/gtg115x/new_zoom_5/box_2_z_1/pfs_allsnaps_1088.txt', dtype=str).tolist()\n",
    "ds = yt.load(ray_pfs[int(idx)])"
   ]
  },
  {
   "cell_type": "code",
   "execution_count": 5,
   "id": "24e85bad-07e2-4ea8-87da-4649dd69ff59",
   "metadata": {
    "tags": []
   },
   "outputs": [],
   "source": [
    "ray_rawtree = np.load('/scratch/bbvl/gtg115x/new_zoom_5/box_2_z_1/halotree_1088_final.npy', allow_pickle=True).tolist()"
   ]
  },
  {
   "cell_type": "code",
   "execution_count": 18,
   "id": "0533f24f-acef-41c6-8d5a-1362e042503a",
   "metadata": {
    "tags": []
   },
   "outputs": [],
   "source": [
    "branch = '0'\n",
    "halo_center = ray_rawtree[branch][int(idx)]['Halo_Center']\n",
    "halo_rvir = ray_rawtree[branch][int(idx)]['Halo_Radius']\n",
    "halo_mass = ray_rawtree[branch][int(idx)]['Halo_Mass']\n",
    "halo_vel = ray_rawtree[branch][int(idx)]['Vel_Com']\n",
    "halo_vel = (halo_vel*ds.units.code_length/ds.units.s).to('km/s').v\n",
    "\n",
    "halo_rvir_si = ((halo_rvir*ds.units.code_length).to('m').v)*u.m\n",
    "halo_mass_si = ((halo_mass*ds.units.Msun).to('kg').v)*u.kg\n",
    "vcir = np.sqrt(G*halo_mass_si/halo_rvir_si).to('km/s').value #this is the circular velocity at r = Rvir"
   ]
  },
  {
   "cell_type": "code",
   "execution_count": 19,
   "id": "fb42ce45-637f-43a3-8928-644d333e2b99",
   "metadata": {
    "tags": []
   },
   "outputs": [],
   "source": [
    "ray_metadata = np.load('/work/hdd/bbvl/gtg115x/new_zoom_5/box_2_z_1/star_metadata/star_metadata_allbox_%s.npy' % idx, allow_pickle=True).tolist()\n",
    "ray_pos_all = ray_metadata['pos']\n",
    "ray_age_all = ray_metadata['age']\n",
    "ray_mass_all = ray_metadata['mass']\n",
    "ray_ID_all = np.array(np.load('/work/hdd/bbvl/gtg115x/new_zoom_5/box_2_z_1/star_metadata/star_ID_allbox_%s.npy' % idx, allow_pickle=True).tolist())\n",
    "ray_vel_all = np.array(np.load('/work/hdd/bbvl/gtg115x/new_zoom_5/box_2_z_1/star_metadata/star_vel_allbox_%s.npy' % idx, allow_pickle=True).tolist()['vel'])"
   ]
  },
  {
   "cell_type": "code",
   "execution_count": 20,
   "id": "6f0ebda0-be94-4818-9b44-c56668fa2dcc",
   "metadata": {
    "tags": []
   },
   "outputs": [],
   "source": [
    "#Identify all the stars within the halo region\n",
    "inreg_bool = np.linalg.norm(ray_pos_all - halo_center, axis=1) < halo_rvir\n",
    "inreg_pos = ray_pos_all[inreg_bool]\n",
    "inreg_r = np.linalg.norm(inreg_pos - halo_center, axis=1)\n",
    "#\n",
    "inreg_vel = ray_vel_all[inreg_bool]\n",
    "inreg_relvel = inreg_vel - halo_vel\n",
    "inreg_relvelmag = np.linalg.norm(inreg_relvel, axis=1)\n",
    "#\n",
    "inreg_ID = ray_ID_all[inreg_bool]\n",
    "inreg_mass = ray_mass_all[inreg_bool]"
   ]
  },
  {
   "cell_type": "code",
   "execution_count": 21,
   "id": "4b5abd31-53ab-489d-8539-5751549cfc2f",
   "metadata": {
    "tags": []
   },
   "outputs": [],
   "source": [
    "sigma_cut = 2\n",
    "distance_cut = 2"
   ]
  },
  {
   "cell_type": "code",
   "execution_count": 22,
   "id": "5c4ab4fb-85b2-4569-9057-74735fb41c9c",
   "metadata": {
    "tags": []
   },
   "outputs": [],
   "source": [
    "reduced_bool = np.logical_and(inreg_r < 0.8*halo_rvir, inreg_relvelmag < 4*vcir)\n",
    "reduced_mass = inreg_mass[reduced_bool]\n",
    "reduced_pos = inreg_pos[reduced_bool]\n",
    "reduced_com = np.average(reduced_pos, weights=reduced_mass, axis=0)\n",
    "#\n",
    "reduced_vel = inreg_vel[reduced_bool]\n",
    "reduced_relvel = reduced_vel - np.average(reduced_vel, weights=reduced_mass, axis=0)\n",
    "reduced_relvelmag = np.linalg.norm(reduced_relvel, axis=1)\n",
    "sigma_vel = weighted_std(reduced_relvelmag, weights_list=reduced_mass)\n",
    "#\n",
    "reduced_ID = inreg_ID[reduced_bool]"
   ]
  },
  {
   "cell_type": "code",
   "execution_count": 11,
   "id": "66b68d32-ac54-4740-8210-65b3c59455f5",
   "metadata": {
    "tags": []
   },
   "outputs": [
    {
     "data": {
      "text/plain": [
       "<matplotlib.lines.Line2D at 0x7f2cc1a02ed0>"
      ]
     },
     "execution_count": 11,
     "metadata": {},
     "output_type": "execute_result"
    },
    {
     "data": {
      "image/png": "[encoded data removed]",
      "text/plain": [
       "<Figure size 640x480 with 1 Axes>"
      ]
     },
     "metadata": {},
     "output_type": "display_data"
    }
   ],
   "source": [
    "plt.hist(reduced_relvelmag, bins=100)\n",
    "plt.axvline(np.average(reduced_relvelmag), color='k', linestyle='--')\n",
    "plt.axvline(np.average(reduced_relvelmag) - sigma_cut*sigma_vel, color='k', linestyle='--')\n",
    "plt.axvline(np.average(reduced_relvelmag) + sigma_cut*sigma_vel, color='k', linestyle='--')"
   ]
  },
  {
   "cell_type": "code",
   "execution_count": 23,
   "id": "faf19175-2bd8-44a6-8f97-f2a388eae358",
   "metadata": {
    "tags": []
   },
   "outputs": [],
   "source": [
    "def cal_R90(pos, center, mass):\n",
    "    r = np.linalg.norm(pos - center, axis=1)\n",
    "    r_sort = r[np.argsort(r)]\n",
    "    mass_sort = mass[np.argsort(r)]\n",
    "    mass_cumsum = np.cumsum(mass_sort)\n",
    "    mass_cumsumpercent = mass_cumsum/mass_cumsum[-1]\n",
    "    R90 = r_sort[np.where(mass_cumsumpercent > 0.9)[0][0]]\n",
    "    return R90"
   ]
  },
  {
   "cell_type": "code",
   "execution_count": 24,
   "id": "b54fa26f-c7af-4c0e-8532-754dccb22aa4",
   "metadata": {
    "tags": []
   },
   "outputs": [],
   "source": [
    "r90_halocenter = cal_R90(reduced_pos, halo_center, reduced_mass)\n",
    "r90_starcenter = cal_R90(reduced_pos, reduced_com, reduced_mass)"
   ]
  },
  {
   "cell_type": "code",
   "execution_count": 25,
   "id": "e7e4a26a-b041-4f80-b1dd-739b15d55e08",
   "metadata": {
    "tags": []
   },
   "outputs": [],
   "source": [
    "reduced2_bool = (np.linalg.norm(reduced_pos - halo_center, axis=1) < distance_cut*r90_halocenter) & \\\n",
    "                (np.linalg.norm(reduced_pos - reduced_com, axis=1) < distance_cut*r90_starcenter) & \\\n",
    "                (reduced_relvelmag <= np.average(reduced_relvelmag) + sigma_cut*sigma_vel)\n",
    "reduced2_pos = reduced_pos[reduced2_bool]\n",
    "reduced2_mass = reduced_mass[reduced2_bool]\n",
    "reduced2_ID = reduced_ID[reduced2_bool]\n",
    "reduced2_vel = reduced_vel[reduced2_bool]\n",
    "reduced2_com = np.average(reduced2_pos, weights=reduced2_mass, axis=0)"
   ]
  },
  {
   "cell_type": "code",
   "execution_count": 26,
   "id": "f82f019e-8181-4bf5-b8bb-17e5d5d69e48",
   "metadata": {
    "tags": []
   },
   "outputs": [
    {
     "name": "stdout",
     "output_type": "stream",
     "text": [
      "1\n",
      "2\n",
      "3\n"
     ]
    }
   ],
   "source": [
    "counter = 0\n",
    "while np.sum(reduced2_bool)/len(reduced2_bool) <= 0.99:\n",
    "    if len(reduced2_pos) == 0:\n",
    "        reduced2_com = np.nan\n",
    "        break\n",
    "    reduced2_relvel = reduced2_vel - np.average(reduced2_vel, weights=reduced2_mass, axis=0)\n",
    "    reduced2_relvelmag = np.linalg.norm(reduced2_relvel, axis=1)\n",
    "    #\n",
    "    sigma_vel = weighted_std(reduced2_relvelmag, weights_list=reduced2_mass)\n",
    "    r90_halocenter = cal_R90(reduced2_pos, halo_center, reduced2_mass)\n",
    "    r90_starcenter = cal_R90(reduced2_pos, reduced2_com, reduced2_mass)\n",
    "    #\n",
    "    reduced2_bool = (np.linalg.norm(reduced2_pos - halo_center, axis=1) < distance_cut*r90_halocenter) & \\\n",
    "                    (np.linalg.norm(reduced2_pos - reduced2_com, axis=1) < distance_cut*r90_starcenter) & \\\n",
    "                    (reduced2_relvelmag <= np.average(reduced2_relvelmag) + sigma_cut*sigma_vel)\n",
    "    reduced2_pos = reduced2_pos[reduced2_bool]\n",
    "    reduced2_mass = reduced2_mass[reduced2_bool]\n",
    "    reduced2_ID = reduced2_ID[reduced2_bool]\n",
    "    reduced2_vel = reduced2_vel[reduced2_bool]\n",
    "    reduced2_com = np.average(reduced2_pos, weights=reduced2_mass, axis=0)\n",
    "    counter += 1\n",
    "    print(counter)"
   ]
  },
  {
   "cell_type": "code",
   "execution_count": 19,
   "id": "8cb3ab9a-af42-41b1-80c1-450e0c414b9c",
   "metadata": {
    "tags": []
   },
   "outputs": [
    {
     "data": {
      "text/plain": [
       "<matplotlib.lines.Line2D at 0x7f6563f5e510>"
      ]
     },
     "execution_count": 19,
     "metadata": {},
     "output_type": "execute_result"
    },
    {
     "data": {
      "image/png": "[encoded data removed]",
      "text/plain": [
       "<Figure size 640x480 with 1 Axes>"
      ]
     },
     "metadata": {},
     "output_type": "display_data"
    }
   ],
   "source": [
    "plt.hist(reduced2_relvelmag, bins=100)\n",
    "plt.axvline(np.average(reduced2_relvelmag), color='k', linestyle='--')\n",
    "plt.axvline(np.average(reduced2_relvelmag) + sigma_cut*sigma_vel, color='k', linestyle='--')"
   ]
  },
  {
   "cell_type": "code",
   "execution_count": 27,
   "id": "bdb42559-c1ae-4150-a4ed-dd2d999e76e3",
   "metadata": {
    "tags": []
   },
   "outputs": [
    {
     "data": {
      "image/png": "[encoded data removed]",
      "text/plain": [
       "<Figure size 1500x500 with 3 Axes>"
      ]
     },
     "metadata": {},
     "output_type": "display_data"
    }
   ],
   "source": [
    "fig, axs = plt.subplots(nrows=1, ncols=3, figsize=(15,5))\n",
    "\n",
    "axs[0].scatter(inreg_pos[:,0], inreg_pos[:,1], s=1, color='black')\n",
    "\n",
    "axs[0].scatter(reduced2_pos[:,0], reduced2_pos[:,1], s=1)\n",
    "\n",
    "axs[0].scatter(halo_center[0], halo_center[1], color='red', s=15)\n",
    "circle1 = plt.Circle((halo_center[0], halo_center[1]), distance_cut*r90_halocenter, color='red', fill=False)\n",
    "axs[0].add_patch(circle1)\n",
    "\n",
    "axs[0].scatter(reduced2_com[0], reduced2_com[1], color='green', s=15)\n",
    "circle2 = plt.Circle((reduced2_com[0], reduced2_com[1]), distance_cut*r90_starcenter, color='green', fill=False)\n",
    "axs[0].add_patch(circle2)\n",
    "\n",
    "axs[0].set_aspect('equal')\n",
    "\n",
    "#---------------------------------------------------------\n",
    "axs[1].scatter(inreg_pos[:,1], inreg_pos[:,2], s=1, color='black')\n",
    "\n",
    "axs[1].scatter(reduced2_pos[:,1], reduced2_pos[:,2], s=1)\n",
    "\n",
    "axs[1].scatter(halo_center[1], halo_center[2], color='red', s=15)\n",
    "circle1 = plt.Circle((halo_center[1], halo_center[2]), distance_cut*r90_halocenter, color='red', fill=False)\n",
    "axs[1].add_patch(circle1)\n",
    "\n",
    "axs[1].scatter(reduced2_com[1], reduced2_com[2], color='green', s=15)\n",
    "circle2 = plt.Circle((reduced2_com[1], reduced2_com[2]), distance_cut*r90_starcenter, color='green', fill=False)\n",
    "axs[1].add_patch(circle2)\n",
    "\n",
    "axs[1].set_aspect('equal')\n",
    "#---------------------------------------------------------\n",
    "axs[2].scatter(inreg_pos[:,2], inreg_pos[:,0], s=1, color='black')\n",
    "\n",
    "axs[2].scatter(reduced2_pos[:,2], reduced2_pos[:,0], s=1)\n",
    "\n",
    "axs[2].scatter(halo_center[2], halo_center[0], color='red', s=15)\n",
    "circle1 = plt.Circle((halo_center[2], halo_center[0]), distance_cut*r90_halocenter, color='red', fill=False)\n",
    "axs[2].add_patch(circle1)\n",
    "\n",
    "axs[2].scatter(reduced2_com[2], reduced2_com[0], color='green', s=15)\n",
    "circle2 = plt.Circle((reduced2_com[2], reduced2_com[0]), distance_cut*r90_starcenter, color='green', fill=False)\n",
    "axs[2].add_patch(circle2)\n",
    "\n",
    "axs[2].set_aspect('equal')\n",
    "\n",
    "fig.tight_layout()"
   ]
  }
 ],
 "metadata": {
  "kernelspec": {
   "display_name": "Python [conda env:.conda-mpi_ss10]",
   "language": "python",
   "name": "conda-env-.conda-mpi_ss10-py"
  },
  "language_info": {
   "codemirror_mode": {
    "name": "ipython",
    "version": 3
   },
   "file_extension": ".py",
   "mimetype": "text/x-python",
   "name": "python",
   "nbconvert_exporter": "python",
   "pygments_lexer": "ipython3",
   "version": "3.11.7"
  }
 },
 "nbformat": 4,
 "nbformat_minor": 5
}
